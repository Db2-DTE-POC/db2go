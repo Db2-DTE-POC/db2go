{
 "cells": [
  {
   "cell_type": "markdown",
   "metadata": {},
   "source": [
    "# An Introduction to the Go Language\n",
    "Go was designed at Google in 2007 to improve programming productivity in an era of multicore, networked machines and large codebases. The designers wanted to address criticism of other languages in use at Google, but keep their useful characteristics:\n",
    "\n",
    "* Static typing and run-time efficiency (like C++)\n",
    "* Readability and usability (like Python or JavaScript)\n",
    "* High-performance networking and multiprocessing\n",
    "\n",
    "The designers were primarily motivated by their shared dislike of C++.\n",
    "\n",
    "[Wikipedia: Go Programming Language](https://en.wikipedia.org/wiki/Go_(programming_language))"
   ]
  },
  {
   "cell_type": "markdown",
   "metadata": {},
   "source": [
    "## Table of Contents\n",
    "\n",
    "* [Introduction](#introduction)\n",
    "    * [Compile and Run a Go program from the Command Line](#compile)\n",
    "    * [A Go Interpreter](#interpreter)\n",
    "    * [Running Go in a Jupyter Notebook](#anotebook)\n",
    "\n",
    "* [Basic Types, Constants, Variables](#variables)\n",
    "* [Printing and Formatting Options](#printing)\n",
    "* [Conditional Statements](#conditional)\n",
    "* [The *Defer* Statement](#defer)\n",
    "* [Functions and Scope](#functions)\n",
    "* [Composite Types and Pointers](#composite)\n",
    "* [Loops](#loops)\n"
   ]
  },
  {
   "cell_type": "markdown",
   "metadata": {},
   "source": [
    "<a id='introduction'></a>\n",
    "# Introduction\n",
    "\n",
    "This lab provides a basic overview of the Go programming language. We will focus on Go language elements which are deployed in tutorial <a href=\"http://localhost:8888/notebooks/Accessing_Db2_with_Go.ipynb\">Accessing Db2 with Go</a>. \n",
    "\n",
    "In the introduction section you will learn how to run a Go progam from the command line, how to work with the Go interpreter, and how to run Go from within a Jupyter notebook. Most of the code examples that are part of this Go overview can be executed from within this Jupyter notebook."
   ]
  },
  {
   "cell_type": "markdown",
   "metadata": {},
   "source": [
    "<a id='compile'></a>\n",
    "## Compile and Run a Go program from the Command Line\n",
    "Below you see a simple *Hello World* program written in Go language. \n"
   ]
  },
  {
   "cell_type": "markdown",
   "metadata": {},
   "source": [
    "\n",
    "```go\n",
    "// hello_world.go\n",
    "package main\n",
    "import \"fmt\"\n",
    "func main() {\n",
    "    fmt.Println(\"Hello world!\")\n",
    "}\n",
    "```"
   ]
  },
  {
   "cell_type": "markdown",
   "metadata": {},
   "source": [
    "Some explanation about that code. The `import` statement is used to import external functions. In this example we import package `fmt` which is part of the standard library that ships with Go. These packages contain many of the fundamental building blocks to write modern software. For instance, the `fmt` package contains basic functions for formatting and printing strings.\n",
    "\n",
    "The next three lines define function `main`. This functions calls function Println which is defined in package `fmt`. \n",
    "\n",
    "The first line `package main` tells the Go compiler that file `hello.go` should compile as an executable program instead of a shared library. The main function in package main will be the entry point of the executable program. \n",
    "\n",
    "To execute this program, open a Linux shell and perform the following steps:\n",
    "* Create the Labs directory as user db2pot (**Note**: the directory may already exist in your environment):\n",
    "```\n",
    "> su - db2pot\n",
    "> mkdir /home/db2pot/Labs\n",
    "```\n"
   ]
  },
  {
   "cell_type": "markdown",
   "metadata": {},
   "source": [
    "* Go to the Labs directory:\n",
    "```\n",
    "> cd /home/db2pot/Labs\n",
    "```"
   ]
  },
  {
   "cell_type": "markdown",
   "metadata": {},
   "source": [
    "* Create file `hello_world.go` with a text editor:\n",
    "```\n",
    "> leafpad hello_world.go &\n",
    "```"
   ]
  },
  {
   "cell_type": "markdown",
   "metadata": {},
   "source": [
    "* Copy and paste the above `hello_world.go`program code to the text editor.\n",
    "* Press `Ctrl-s` in the text editor to save the program code to the file and then close the text editor.\n",
    "* Execute the program as follows:\n",
    "```\n",
    "> go run hello_world.go\n",
    "```"
   ]
  },
  {
   "cell_type": "markdown",
   "metadata": {},
   "source": [
    "Instead of directly executing the Go code in file `hello_world.go` you can also first create an executable program file and then execute that file:\n",
    "* Compile the Go file into an executable program file `hello_world`:\n",
    "```\n",
    "> go build hello_world.go\n",
    "```"
   ]
  },
  {
   "cell_type": "markdown",
   "metadata": {},
   "source": [
    "* Execute the program file `hello_world`:\n",
    "```\n",
    "> ./hello_world\n",
    "```"
   ]
  },
  {
   "cell_type": "markdown",
   "metadata": {},
   "source": [
    "<a id='interpreter'></a>\n",
    "## A Go Interpreter\n",
    "\n",
    "Instead of compiling and running the program examples from a Linux shell, you can run them inside **gomacro**. This is an interactive Go interpreter. For example, run the following commands from a Linux shell:\n",
    "* Enter the Go interpreter (To exit the interpreter use Ctrl-d): \n",
    "```\n",
    "> gomacro\n",
    "```"
   ]
  },
  {
   "cell_type": "markdown",
   "metadata": {},
   "source": [
    "* Now you can type in Go program code line by line. For example:\n",
    "```\n",
    "> package main\n",
    "```"
   ]
  },
  {
   "cell_type": "markdown",
   "metadata": {},
   "source": [
    "* You see from the output that this line is ignored by the interpreter. This line only makes sense if it is part of a package file that is compiled into an executable program (see explanation in previous section). Next you can import package *fmt*:\n",
    "```\n",
    "> import \"fmt\"\n",
    "```"
   ]
  },
  {
   "cell_type": "markdown",
   "metadata": {},
   "source": [
    "* Now you can define function main:\n",
    "```\n",
    "> func main() { fmt.Println(\"Hello world\") }\n",
    "```"
   ]
  },
  {
   "cell_type": "markdown",
   "metadata": {},
   "source": [
    "* Notice that this code only defines function main, but does not execute it. Finally, you can execute function main:\n",
    "```\n",
    "> main()\n",
    "```"
   ]
  },
  {
   "cell_type": "markdown",
   "metadata": {},
   "source": [
    "The interpreter allows you to quickly test and modify your code. You can also quickly check the current values of variables. For example, run the following code to define a variable and initialize it with a value. The text behind the double slash is a program comment and is ignored by the interpreter:\n",
    "```\n",
    "> i := 5  // initialize a variable\n",
    "```"
   ]
  },
  {
   "cell_type": "markdown",
   "metadata": {},
   "source": [
    "To show the value of the variable just type the variable name and press the enter key:\n",
    "```\n",
    "> i\n",
    "```"
   ]
  },
  {
   "cell_type": "markdown",
   "metadata": {},
   "source": [
    "If you want to use any functions from external packages you have to first import those packages. \n",
    "For example:\n",
    "```\n",
    "> import \"time\"\n",
    "> time.Now()\n",
    "```"
   ]
  },
  {
   "cell_type": "markdown",
   "metadata": {},
   "source": [
    "<a id='anotebook'></a>\n",
    "## Running Go in a Jupyter Notebook\n",
    "You can run the remaining part of this lab inside the Jypiter notebook you are currently looking at. The notebook uses a Go kernel that deploys the *gomacro* interpreter under covers.  \n",
    "  \n",
    "Click the program code below. Then click **Run**. The Run button is located in the toolbar above. Alternatively, you can use **Shift-Enter** to execute a selected code cell.\n"
   ]
  },
  {
   "cell_type": "code",
   "execution_count": 1,
   "metadata": {},
   "outputs": [
    {
     "name": "stdout",
     "output_type": "stream",
     "text": [
      "hello world\n"
     ]
    }
   ],
   "source": [
    "import \"fmt\"\n",
    "\n",
    "func main() {\n",
    "    fmt.Println(\"hello world\")\n",
    "}\n",
    "main()"
   ]
  },
  {
   "cell_type": "markdown",
   "metadata": {},
   "source": [
    "As with the Go interpreter, the order of executing code cells in notebooks is important. Make sure that you import or define functions before you execute them. For example, if you execute the following code it will cause an error message. This is because function *fib()* is not yet defined."
   ]
  },
  {
   "cell_type": "code",
   "execution_count": null,
   "metadata": {},
   "outputs": [],
   "source": [
    "fib(3)"
   ]
  },
  {
   "cell_type": "markdown",
   "metadata": {},
   "source": [
    "Execute the following code to define the function:"
   ]
  },
  {
   "cell_type": "code",
   "execution_count": null,
   "metadata": {},
   "outputs": [],
   "source": [
    "func fib(n int) int {\n",
    "if n <= 2 { return 1 }\n",
    "return fib(n-1) + fib(n-2)\n",
    "}"
   ]
  },
  {
   "cell_type": "markdown",
   "metadata": {},
   "source": [
    "Now, you can execute the function and it should run without error:"
   ]
  },
  {
   "cell_type": "code",
   "execution_count": null,
   "metadata": {},
   "outputs": [],
   "source": [
    "fib(3)"
   ]
  },
  {
   "cell_type": "markdown",
   "metadata": {},
   "source": [
    "When you run Go code in a notebook you can easily check the current value of a variable. For example, declared and initialize variable `a` of type integer as follows:"
   ]
  },
  {
   "cell_type": "code",
   "execution_count": null,
   "metadata": {},
   "outputs": [],
   "source": [
    "var a int\n",
    "a = 5"
   ]
  },
  {
   "cell_type": "markdown",
   "metadata": {},
   "source": [
    "Now you can print the value of `a` by just putting `a` into a code cell and then execute the cell. To execute the cell, click the cell and press `Ctrl-Enter`:"
   ]
  },
  {
   "cell_type": "code",
   "execution_count": null,
   "metadata": {},
   "outputs": [],
   "source": [
    "a"
   ]
  },
  {
   "cell_type": "markdown",
   "metadata": {},
   "source": [
    "<a id='variables'></a>\n",
    "# Basic Types, Constants, Variables\n"
   ]
  },
  {
   "cell_type": "markdown",
   "metadata": {},
   "source": [
    "We will start with a quick overview of the data types in Go and will focus on the types that are used in the Db2-Go tutorials. The **basic** types that are supported in Go are listed in the table below.\n",
    "\n",
    "\n",
    "| Type| Comment          | \n",
    "|:---------------------- |:-------------------|\n",
    "|bool|Possible values or *true* and *false*|\n",
    "|string||\n",
    "|int  int8  byte int16  int32  int64|Integer types in different sizes|\n",
    "|uint uint8 uint16 uint32 uint64 uintptr|Unsigned integer types|\n",
    "|byte |same as uint8|\n",
    "|rune | Unicode code point encoded as int32|\n",
    "|float32 float64|Floating point types in different sizes|\n",
    "|complex64|contains float32 as a real and imaginary component|\n",
    "|complex128|contains float64 as a real and imaginary component\n",
    "\n",
    "The int, uint, and uintptr types are typically 32 bits wide on 32-bit systems and 64 bits wide on 64-bit systems. "
   ]
  },
  {
   "cell_type": "markdown",
   "metadata": {},
   "source": [
    "**Constants** can be character, string, boolean, or numeric values. For example, you can define constant `Pi` as follows:"
   ]
  },
  {
   "cell_type": "code",
   "execution_count": null,
   "metadata": {},
   "outputs": [],
   "source": [
    "const Pi = 3.14"
   ]
  },
  {
   "cell_type": "code",
   "execution_count": null,
   "metadata": {},
   "outputs": [],
   "source": [
    "Pi"
   ]
  },
  {
   "cell_type": "markdown",
   "metadata": {},
   "source": [
    "The **var** statement declares a list of `variables`. It can be used inside and outside functions. \n",
    "If a variable is defined outside of a function it is accessible by all functions in the package. In the following example, variables a and b can be accessed in function main() and any other functions that are defined in that package."
   ]
  },
  {
   "cell_type": "markdown",
   "metadata": {},
   "source": [
    "\n",
    "```go\n",
    "package main\n",
    "import \"fmt\"\n",
    "var a, b bool\n",
    "func main() {\n",
    "    fmt.Println(a,b)\n",
    "}\n",
    "```"
   ]
  },
  {
   "cell_type": "markdown",
   "metadata": {},
   "source": [
    "Notice that variables are implicitly initialized with a default value.\n",
    "A `var` declaration can also include initializers as shown below."
   ]
  },
  {
   "cell_type": "code",
   "execution_count": null,
   "metadata": {},
   "outputs": [],
   "source": [
    "var a,b,c int = 1,2,3"
   ]
  },
  {
   "cell_type": "markdown",
   "metadata": {},
   "source": [
    "If an initializer is used, the type can be omitted and the variable will take the type of the initializer."
   ]
  },
  {
   "cell_type": "code",
   "execution_count": null,
   "metadata": {},
   "outputs": [],
   "source": [
    "var b = true"
   ]
  },
  {
   "cell_type": "markdown",
   "metadata": {},
   "source": [
    "You can also use a short form of initializing a variable like below where the *var* keyword is omitted."
   ]
  },
  {
   "cell_type": "code",
   "execution_count": null,
   "metadata": {},
   "outputs": [],
   "source": [
    "b := true"
   ]
  },
  {
   "cell_type": "markdown",
   "metadata": {},
   "source": [
    "Next, you see some examples how to use the `string` type:"
   ]
  },
  {
   "cell_type": "code",
   "execution_count": null,
   "metadata": {},
   "outputs": [],
   "source": [
    "const Mike = \"Mike\"\n",
    "var lastname = \"Miller\"\n",
    "var name = Mike + lastname\n",
    "fmt.Println(name)\n",
    "name += \"!\"\n",
    "fmt.Println(name)\n",
    "othername := \"Matt Huras\"\n",
    "fmt.Println(othername)"
   ]
  },
  {
   "cell_type": "markdown",
   "metadata": {},
   "source": [
    "<a id='printing'></a>\n",
    "# Printing and Formatting Options"
   ]
  },
  {
   "cell_type": "markdown",
   "metadata": {},
   "source": [
    "There are two print methods in package `fmt` which are frequently used in programs:\n",
    "* Println\n",
    "* Printf"
   ]
  },
  {
   "cell_type": "markdown",
   "metadata": {},
   "source": [
    "`Println` is easy to use and can take multiple arguments. For example it lets you print multiple strings or variable values. It adds a space after each printed argument and a line break after the last argument."
   ]
  },
  {
   "cell_type": "code",
   "execution_count": 3,
   "metadata": {},
   "outputs": [
    {
     "name": "stdout",
     "output_type": "stream",
     "text": [
      "Sample values: 10 0.235 Mike\n"
     ]
    },
    {
     "data": {
      "text/plain": [
       "29 <nil>"
      ]
     },
     "execution_count": 3,
     "metadata": {},
     "output_type": "execute_result"
    }
   ],
   "source": [
    "i := 10\n",
    "f := 0.235\n",
    "s := \"Mike\"\n",
    "fmt.Println(\"Sample values:\",i,f,s)"
   ]
  },
  {
   "cell_type": "markdown",
   "metadata": {},
   "source": [
    "`Printf` is more versatile and allows you to create formatted output by specifying formatting elements for each variable that should be printed. To print a line break you include `\\n`. The next example creates the same output as the previous example but uses method `Printf`."
   ]
  },
  {
   "cell_type": "code",
   "execution_count": 4,
   "metadata": {},
   "outputs": [
    {
     "name": "stdout",
     "output_type": "stream",
     "text": [
      "Sample values: 10 0.235000 Mike\n"
     ]
    },
    {
     "data": {
      "text/plain": [
       "32 <nil>"
      ]
     },
     "execution_count": 4,
     "metadata": {},
     "output_type": "execute_result"
    }
   ],
   "source": [
    "i := 10\n",
    "f := 0.235\n",
    "s := \"Mike\"\n",
    "fmt.Printf(\"Sample values: %d %f %s\\n\",i,f,s)"
   ]
  },
  {
   "cell_type": "markdown",
   "metadata": {},
   "source": [
    "The following table shows some of the formatting elements which are frequently used in Go programs."
   ]
  },
  {
   "cell_type": "markdown",
   "metadata": {},
   "source": [
    "| Format Option| Comment          | \n",
    "|:----------------------|:-------------------|\n",
    "|%v\t|the value in a default format|\n",
    "|%d\t|integer with base 10|\n",
    "|%b\t|integer with base 2|\n",
    "|%x\t|integer with base 16|\n",
    "|%f\t|floating point with decimal point but no exponent, e.g. 123.456|\n",
    "|%10.2f  |floating point, width 10, precision 2|\n",
    "|%s\t|for basic string printing use %s|\n",
    "|%10s\t|string padded to length 10, right justify|\n",
    "|%-10s\t|string padded to length 10, left justify|\n"
   ]
  },
  {
   "cell_type": "markdown",
   "metadata": {},
   "source": [
    "The next `Prinf` example shows some formatting elements that are used in the Db2-Go labs. The formatting makes sure that rows which were fetched from the Db2 database are properly displayed and aligned. In this example, `col1` contains `string` values that where selected from a column of type VARCHAR(15). They are display left justified. And `col1` contains `int` values which are displayed right justified and are truncated to a maximum length of 8 in this example."
   ]
  },
  {
   "cell_type": "code",
   "execution_count": null,
   "metadata": {},
   "outputs": [],
   "source": [
    "col1 := \"Bicycles\"\n",
    "col2 := 84567\n",
    "fmt.Printf(\"%-15s %8d\\n\",col1,col2)\n",
    "col1 := \"Cars\"\n",
    "col2 := 408\n",
    "fmt.Printf(\"%-15s %8d\\n\",col1,col2)"
   ]
  },
  {
   "cell_type": "markdown",
   "metadata": {},
   "source": [
    "<a id='conditional'></a>\n",
    "# Conditional Statements"
   ]
  },
  {
   "cell_type": "markdown",
   "metadata": {},
   "source": [
    "The Go language supports the following types of conditional statements:\n",
    "* if...\n",
    "* if...else...\n",
    "* if...else if...else\n",
    "* switch\n",
    "\n",
    "Here are some examples for each of the above statements. The first example is a simple `if` statement:"
   ]
  },
  {
   "cell_type": "markdown",
   "metadata": {},
   "source": [
    "```go\n",
    "if x < 0 {\n",
    "    fmt.Println(x)\n",
    "    x = 0\n",
    "}\n",
    "```"
   ]
  },
  {
   "cell_type": "markdown",
   "metadata": {},
   "source": [
    "Below is an extended version of the above statement with an `else`clause. In traditional C language the condition clause (`x < 0`) is surrounded by brackets. This is not the case in Go language."
   ]
  },
  {
   "cell_type": "markdown",
   "metadata": {},
   "source": [
    "```go\n",
    "if x < 0 {\n",
    "    fmt.Println(x)\n",
    "    x = 0\n",
    "} else {\n",
    "    x = x - 1\n",
    "}\n",
    "```"
   ]
  },
  {
   "cell_type": "markdown",
   "metadata": {},
   "source": [
    "The next example shows the use of the `else if`clause. This can also occur multiple times following the `if` clause."
   ]
  },
  {
   "cell_type": "markdown",
   "metadata": {},
   "source": [
    "```go\n",
    "if x < 0 {\n",
    "    fmt.Println(x)\n",
    "    x = 0\n",
    "} else if x > 10 {\n",
    "    fmt.Println(\"x out of range!)\n",
    "} else {\n",
    "        x = x - 1\n",
    "}\n",
    "```"
   ]
  },
  {
   "cell_type": "markdown",
   "metadata": {},
   "source": [
    "Go's `switch` statement is similar to the switch statement in C and C++. Here are the major differences:\n",
    "* Go only executes the first matching case. This is because Go automatically breaks execution at the end of the matching clause. Therefore, there is no need to include a break statement at the end of a matching clause.\n",
    "* Another difference is that Go's switch cases don't need to be constants. \n",
    "* Also the values in the case clauses don't need to be integers.\n",
    "\n",
    "Below is an example of a valid switch case statement."
   ]
  },
  {
   "cell_type": "markdown",
   "metadata": {},
   "source": [
    "```go\n",
    "switch i {\n",
    "case 1:\n",
    "    fmt.Println(\"case 1\")\n",
    "case a:\n",
    "    fmt.Println(\"case 2\")\n",
    "case 10:\n",
    "    fmt.Println(\"case 3\")\n",
    "default:\n",
    "    fmt.Println(\"default\")\n",
    "}\n",
    "```"
   ]
  },
  {
   "cell_type": "markdown",
   "metadata": {},
   "source": [
    "In the above example, if variable `a`is equal to variable `i` you would get the print out `case 2`. If none of the case clauses is matching the value of `i`, the `default`clause is executed."
   ]
  },
  {
   "cell_type": "markdown",
   "metadata": {},
   "source": [
    "<a id='defer'></a>\n",
    "# The *Defer* Statement"
   ]
  },
  {
   "cell_type": "markdown",
   "metadata": {},
   "source": [
    "A defer statement defers the execution of a function until the surrounding function returns.\n",
    "\n",
    "The arguments in a deferred call are immediately evaluated. But the function call itself is executed later at the point when the surrounding function returns.\n",
    "\n",
    "The `defer` statement is useful, because it makes sure that certain clean up tasks in a function or program only need to be defined once, eventhough the program code may include multiple `return` statements at different locations.\n",
    "\n",
    "The program code example is from the `Db2-Go` tutorial and shows you a typical use case for the `defer` statement. Here we make sure, that before function `main()` terminates by executing a `return` statement, the Db2 database is properly closed."
   ]
  },
  {
   "cell_type": "markdown",
   "metadata": {},
   "source": [
    "```go\n",
    "func main() {\n",
    "        if connect() != nil { return } else { defer db.Close() }\n",
    "\n",
    "        ...\n",
    "}\n",
    "```"
   ]
  },
  {
   "cell_type": "markdown",
   "metadata": {},
   "source": [
    "<a id='functions'></a>\n",
    "# Functions and Scope"
   ]
  },
  {
   "cell_type": "markdown",
   "metadata": {},
   "source": [
    "The program code below contains the definition of function `mult()`."
   ]
  },
  {
   "cell_type": "markdown",
   "metadata": {},
   "source": [
    "```go\n",
    "package main\n",
    "import \"fmt\"\n",
    "\n",
    "func mult(a int, b int) int {\n",
    "\treturn a * b\n",
    "}\n",
    "\n",
    "func main() {\n",
    "\tfmt.Println(mult(3, 4))\n",
    "}\n",
    "```"
   ]
  },
  {
   "cell_type": "markdown",
   "metadata": {},
   "source": [
    "Notice that the type of the function (`int`in this example) is defined after the function name and parameter list. This functions takes two arguments `a`and `b`which are both of type `int`.\n",
    "\n",
    "Functions that start with an upper case letter can be accessed by other packages. Those packages of course need to import the package which defines the function. As shown in the above example, when we import package `fmt` we can access function `Println()` since its name starts with an upper case P.\n",
    "\n",
    "Functions can also return multiple values. Execute the following code to define function `myfunc()` which returns two integer values."
   ]
  },
  {
   "cell_type": "code",
   "execution_count": null,
   "metadata": {},
   "outputs": [],
   "source": [
    "func myfunc() (int, int) {\n",
    "    return 47, 11\n",
    "}"
   ]
  },
  {
   "cell_type": "markdown",
   "metadata": {},
   "source": [
    "You can assign the return values to multiple variables as shown in the next example:"
   ]
  },
  {
   "cell_type": "code",
   "execution_count": null,
   "metadata": {},
   "outputs": [],
   "source": [
    "a,b := myfunc()"
   ]
  },
  {
   "cell_type": "markdown",
   "metadata": {},
   "source": [
    "If you only want to assign a subset of the returned values, use the underscore character _ for any return values that should not be assigned to a variable:"
   ]
  },
  {
   "cell_type": "code",
   "execution_count": null,
   "metadata": {},
   "outputs": [],
   "source": [
    "_,b := myfunc()"
   ]
  },
  {
   "cell_type": "markdown",
   "metadata": {},
   "source": [
    "<a id='composite'></a>\n",
    "# Composite Types and Pointers"
   ]
  },
  {
   "cell_type": "markdown",
   "metadata": {},
   "source": [
    "Now you will work with some of the advanced data types in Go:\n",
    "* Pointer\n",
    "* Array\n",
    "* Slice\n",
    "* Dynamic array\n",
    "* Map\n",
    "* Struct"
   ]
  },
  {
   "cell_type": "markdown",
   "metadata": {},
   "source": [
    "Like the C programming language Go language has a **pointer** type. It contains the memory address of a value. Here is an example how to declare a pointer to an int value:"
   ]
  },
  {
   "cell_type": "code",
   "execution_count": null,
   "metadata": {},
   "outputs": [],
   "source": [
    "var ptr *int"
   ]
  },
  {
   "cell_type": "markdown",
   "metadata": {},
   "source": [
    "Since `ptr` is not yet initialized its value is `nil`:"
   ]
  },
  {
   "cell_type": "code",
   "execution_count": null,
   "metadata": {},
   "outputs": [],
   "source": [
    "ptr"
   ]
  },
  {
   "cell_type": "markdown",
   "metadata": {},
   "source": [
    "The address operator `&` generates a pointer to its operand as shown below:"
   ]
  },
  {
   "cell_type": "code",
   "execution_count": null,
   "metadata": {},
   "outputs": [],
   "source": [
    "v := 10\n",
    "ptr = &v"
   ]
  },
  {
   "cell_type": "markdown",
   "metadata": {},
   "source": [
    "No you can check again the value of `ptr`. It contains a valid address:"
   ]
  },
  {
   "cell_type": "code",
   "execution_count": null,
   "metadata": {},
   "outputs": [],
   "source": [
    "ptr"
   ]
  },
  {
   "cell_type": "markdown",
   "metadata": {},
   "source": [
    "The dereferencing operator `*` reads the value that a pointer is refering to:"
   ]
  },
  {
   "cell_type": "code",
   "execution_count": null,
   "metadata": {},
   "outputs": [],
   "source": [
    "*ptr"
   ]
  },
  {
   "cell_type": "markdown",
   "metadata": {},
   "source": [
    "An **array** has a fix size. You create an array as shown in the two examples below. In the first case an empty array is created that has capacity to store 4 elements. In the second case an array is created and initialized with values."
   ]
  },
  {
   "cell_type": "code",
   "execution_count": null,
   "metadata": {},
   "outputs": [],
   "source": [
    "pets := [4]string{}"
   ]
  },
  {
   "cell_type": "code",
   "execution_count": null,
   "metadata": {},
   "outputs": [],
   "source": [
    "pets"
   ]
  },
  {
   "cell_type": "code",
   "execution_count": null,
   "metadata": {},
   "outputs": [],
   "source": [
    "pets := [4]string{\"Dog\", \"Cat\", \"Bird\", \"Hamster\"}"
   ]
  },
  {
   "cell_type": "code",
   "execution_count": null,
   "metadata": {},
   "outputs": [],
   "source": [
    "pets"
   ]
  },
  {
   "cell_type": "markdown",
   "metadata": {},
   "source": [
    "The first element of the array is `pets[0]`. "
   ]
  },
  {
   "cell_type": "code",
   "execution_count": null,
   "metadata": {},
   "outputs": [],
   "source": [
    "pets[0]"
   ]
  },
  {
   "cell_type": "markdown",
   "metadata": {},
   "source": [
    "Function `len()` returns the length of an array:"
   ]
  },
  {
   "cell_type": "code",
   "execution_count": null,
   "metadata": {},
   "outputs": [],
   "source": [
    "len(pets)"
   ]
  },
  {
   "cell_type": "markdown",
   "metadata": {},
   "source": [
    "**Note:** Arrays cannot be resized. If you pass an array to a function the array is passed by copy. This is of cause not the most efficient way to pass an array.\n",
    "\n",
    "A **slice** is a view into the elements of an array. A slice does not store any data. It describes a portion of the underlying array. Slices are much more frequently used compared to arrays. \n",
    "\n",
    "The following statement creates the same array as the previous statement and then creates and returns a slice that references the entire underlying array:"
   ]
  },
  {
   "cell_type": "code",
   "execution_count": null,
   "metadata": {},
   "outputs": [],
   "source": [
    "pets := []string{\"Dog\", \"Cat\", \"Bird\", \"Hamster\"}"
   ]
  },
  {
   "cell_type": "code",
   "execution_count": null,
   "metadata": {},
   "outputs": [],
   "source": [
    "pets"
   ]
  },
  {
   "cell_type": "markdown",
   "metadata": {},
   "source": [
    "**Note:** If you pass a slice to a function you basically pass a reference to the underlying array (or section of that array). In terms of performance this is more efficient than passing an array to a function. If you change the elements of a slice you modify the corresponding elements of its underlying array. Other slices that share the same underlying array will see those changes.\n",
    "\n",
    "A slice has both a *length* and a *capacity*. The length `len()` of a slice is the number of its elements. The capacity `cap()` of a slice is the number of elements in the referenced array. "
   ]
  },
  {
   "cell_type": "code",
   "execution_count": null,
   "metadata": {},
   "outputs": [],
   "source": [
    "cap(pets)"
   ]
  },
  {
   "cell_type": "code",
   "execution_count": null,
   "metadata": {},
   "outputs": [],
   "source": [
    "len(pets)"
   ]
  },
  {
   "cell_type": "markdown",
   "metadata": {},
   "source": [
    "You can create a new slice with a subset of the elements of the original slice by providing the index values as shown below. The slice operation returns the element of the first index and all following elements until but not including the second index position."
   ]
  },
  {
   "cell_type": "code",
   "execution_count": null,
   "metadata": {},
   "outputs": [],
   "source": [
    "slice2 := pets[1:3]\n",
    "slice2"
   ]
  },
  {
   "cell_type": "markdown",
   "metadata": {},
   "source": [
    "You can append additional elements to a slice using function `append()`. Before we append a new element to slice `pets`, let us check the current address of the underlaying array."
   ]
  },
  {
   "cell_type": "code",
   "execution_count": null,
   "metadata": {},
   "outputs": [],
   "source": [
    "&pets[0]"
   ]
  },
  {
   "cell_type": "markdown",
   "metadata": {},
   "source": [
    "The resulting value of `append` is a slice containing all the elements of the original slice plus the provided values. In the above example, the underlying array of the original slice has a capacity of 4. That means it is too small to store an additional element.\n",
    "In this case a bigger array will be allocated. The returned slice will point to the newly allocated array. "
   ]
  },
  {
   "cell_type": "code",
   "execution_count": null,
   "metadata": {},
   "outputs": [],
   "source": [
    "pets = append(pets, \"Rabit\")\n",
    "pets"
   ]
  },
  {
   "cell_type": "markdown",
   "metadata": {},
   "source": [
    "You notice that after the append operation the address of the underlying array has changed since a new array has been created:"
   ]
  },
  {
   "cell_type": "code",
   "execution_count": null,
   "metadata": {},
   "outputs": [],
   "source": [
    "&pets[0]"
   ]
  },
  {
   "cell_type": "markdown",
   "metadata": {},
   "source": [
    "Also notice that the new array has additional capacity to store additional elements:"
   ]
  },
  {
   "cell_type": "code",
   "execution_count": null,
   "metadata": {},
   "outputs": [],
   "source": [
    "cap(pets)"
   ]
  },
  {
   "cell_type": "code",
   "execution_count": null,
   "metadata": {},
   "outputs": [],
   "source": [
    "len(pets)"
   ]
  },
  {
   "cell_type": "markdown",
   "metadata": {},
   "source": [
    "A **dynamic array** can be created with the `make` function. The function allocates a zeroed array and returns a slice that refers to that array. The following example creates a dynamic array of length 10:"
   ]
  },
  {
   "cell_type": "code",
   "execution_count": null,
   "metadata": {},
   "outputs": [],
   "source": [
    "i := make([]int, 10)\n",
    "i"
   ]
  },
  {
   "cell_type": "markdown",
   "metadata": {},
   "source": [
    "You can also specify a capacity when creating a dynamic array. This can be useful if you have a rough idea about the final size requirements of that array. This can help to avoid a dynamic resizing of the array. The following example creates a dynamic array of length 10, capacity 50, and returns a slice that refers to that array:"
   ]
  },
  {
   "cell_type": "code",
   "execution_count": null,
   "metadata": {},
   "outputs": [],
   "source": [
    "i := make([]int, 10, 50)"
   ]
  },
  {
   "cell_type": "code",
   "execution_count": null,
   "metadata": {},
   "outputs": [],
   "source": [
    "cap(i)"
   ]
  },
  {
   "cell_type": "markdown",
   "metadata": {},
   "source": [
    "The **map** type in Go is similar to the *dictionary* type in Python. It is an unordered collection of elements of the same type. The elements are indexed by a set of unique keys of another type, called the key type. The following example creates a collection of integer values which can be accessed using string values."
   ]
  },
  {
   "cell_type": "code",
   "execution_count": null,
   "metadata": {},
   "outputs": [],
   "source": [
    "m := map[string]int{ \"x\": 1, \"y\": 2}\n",
    "m"
   ]
  },
  {
   "cell_type": "code",
   "execution_count": null,
   "metadata": {},
   "outputs": [],
   "source": [
    "len(m)"
   ]
  },
  {
   "cell_type": "markdown",
   "metadata": {},
   "source": [
    "You can retrieve an element from the map as follows:"
   ]
  },
  {
   "cell_type": "code",
   "execution_count": null,
   "metadata": {},
   "outputs": [],
   "source": [
    "elem := m[\"y\"]\n",
    "elem"
   ]
  },
  {
   "cell_type": "markdown",
   "metadata": {},
   "source": [
    "You can check if an element exists in the map as follows:"
   ]
  },
  {
   "cell_type": "code",
   "execution_count": null,
   "metadata": {},
   "outputs": [],
   "source": [
    "elem,exists := m[\"z\"]"
   ]
  },
  {
   "cell_type": "code",
   "execution_count": null,
   "metadata": {},
   "outputs": [],
   "source": [
    "exists"
   ]
  },
  {
   "cell_type": "markdown",
   "metadata": {},
   "source": [
    "Finally, we take a look at type **struct**. This can be used to group several fields together like shown below:"
   ]
  },
  {
   "cell_type": "code",
   "execution_count": null,
   "metadata": {},
   "outputs": [],
   "source": [
    "type Person struct {\n",
    "\tid int\n",
    "\tname string\n",
    "    age int\n",
    "}"
   ]
  },
  {
   "cell_type": "code",
   "execution_count": null,
   "metadata": {},
   "outputs": [],
   "source": [
    "p := Person{id: 4711, name: \"Miller\", age: 45}"
   ]
  },
  {
   "cell_type": "code",
   "execution_count": null,
   "metadata": {},
   "outputs": [],
   "source": [
    "p.id"
   ]
  },
  {
   "cell_type": "markdown",
   "metadata": {},
   "source": [
    "The usage of structs can be useful when retrieving data from a database. For example, several tables may contain an `id` field and `name` field. In those cases, the usage of struct types can help you to keep your code readable like shown in the example below.\n",
    "```go\n",
    "var p Person\n",
    "var o Order\n",
    "...\n",
    "rows.Scan(&p.id,&p.name,&p.age)\n",
    "...\n",
    "rows.Scan(&o.id,&o.name)\n",
    "...\n",
    "```"
   ]
  },
  {
   "cell_type": "markdown",
   "metadata": {},
   "source": [
    "<a id='loops'></a>\n",
    "# Loops"
   ]
  },
  {
   "cell_type": "markdown",
   "metadata": {},
   "source": [
    "A `for` loop in Go language looks very similar to a for loop in C language. It can have three components separated by semicolons as shown below. Note that these components are not parenthesized as is the case in C language. "
   ]
  },
  {
   "cell_type": "code",
   "execution_count": null,
   "metadata": {},
   "outputs": [],
   "source": [
    "for i := 0; i < 5; i++ {\n",
    "\tfmt.Println(i)\n",
    "}"
   ]
  },
  {
   "cell_type": "markdown",
   "metadata": {},
   "source": [
    "There is no `while` loop in Go language. You can use a modified version of the `for` loop to achieve the same effect as a `while` loop in C:"
   ]
  },
  {
   "cell_type": "code",
   "execution_count": null,
   "metadata": {},
   "outputs": [],
   "source": [
    "i := 0\n",
    "for i < 5 {\n",
    "    fmt.Println(i)\n",
    "    i += 1\n",
    "}"
   ]
  },
  {
   "cell_type": "markdown",
   "metadata": {},
   "source": [
    "There is an easy way to iterate over the elements of an array, slice, or map. You can use the `range`statement as follows:"
   ]
  },
  {
   "cell_type": "code",
   "execution_count": null,
   "metadata": {},
   "outputs": [],
   "source": [
    "pets := []string{ \"Dog\", \"Cat\", \"Bird\", \"Hamster\"}\n",
    "for i, elem := range pets {\n",
    "    fmt.Println(i, elem)\n",
    "}"
   ]
  },
  {
   "cell_type": "markdown",
   "metadata": {},
   "source": [
    "If you don't need to access the index of the slice- or array elements inside the loop you can use the `range` statement as follows:"
   ]
  },
  {
   "cell_type": "code",
   "execution_count": null,
   "metadata": {},
   "outputs": [],
   "source": [
    "pets := []string{ \"Dog\", \"Cat\", \"Bird\", \"Hamster\"}\n",
    "for _,elem := range pets {\n",
    "    fmt.Println(elem)\n",
    "}"
   ]
  },
  {
   "cell_type": "markdown",
   "metadata": {},
   "source": [
    "Finally, here is an example how you can iterate over a map:"
   ]
  },
  {
   "cell_type": "code",
   "execution_count": null,
   "metadata": {},
   "outputs": [],
   "source": [
    "m := map[string]int{ \"x\": 1, \"y\": 2}\n",
    "for key,elem := range m {\n",
    "    fmt.Println(key, elem)\n",
    "}"
   ]
  },
  {
   "cell_type": "markdown",
   "metadata": {},
   "source": [
    "#### Credits: IBM 2020, Andreas Christian [achristian@de.ibm.com]"
   ]
  }
 ],
 "metadata": {
  "kernelspec": {
   "display_name": "Go",
   "language": "go",
   "name": "gophernotes"
  },
  "language_info": {
   "codemirror_mode": "",
   "file_extension": ".go",
   "mimetype": "",
   "name": "go",
   "nbconvert_exporter": "",
   "pygments_lexer": "",
   "version": "go1.13.4"
  }
 },
 "nbformat": 4,
 "nbformat_minor": 2
}
