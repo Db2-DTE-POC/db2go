{
 "cells": [
  {
   "cell_type": "markdown",
   "metadata": {},
   "source": [
    "# An Introduction to the Go Language\n",
    "Go was designed at Google in 2007 to improve programming productivity in an era of multicore, networked machines and large codebases. The designers wanted to address criticism of other languages in use at Google, but keep their useful characteristics:\n",
    "\n",
    "* Static typing and run-time efficiency (like C++)\n",
    "* Readability and usability (like Python or JavaScript)\n",
    "* High-performance networking and multiprocessing\n",
    "\n",
    "The designers were primarily motivated by their shared dislike of C++.\n",
    "\n",
    "[Wikipedia: Go Programming Language](https://en.wikipedia.org/wiki/Go_(programming_language))"
   ]
  },
  {
   "cell_type": "markdown",
   "metadata": {},
   "source": [
    "## Table of Contents\n",
    "\n",
    "* [A Brief History of Go](#history)\n",
    "\n",
    "* [The Basics](#basics)\n",
    "\n",
    "* [Variables and Types](#variables)\n",
    "\n",
    "* [Lists, Arrays, and Dictionaries](#lists)\n",
    "\n",
    "* [Operators](#operators)\n",
    "\n",
    "* [Conditions](#conditions)\n",
    "\n",
    "* [Loops](#loops)\n",
    "\n",
    "* [Try/Catch](#try)\n",
    "\n",
    "* [Functions](#functions)\n",
    "\n",
    "* [Classes and Objects](#classes)\n",
    "\n",
    "* [Modules and Packages](#modules)\n",
    "\n",
    "* [Magic Commands](#magic)"
   ]
  },
  {
   "cell_type": "markdown",
   "metadata": {},
   "source": [
    "## A Quick Tour\n",
    "\n",
    "This brief introduction will explain the various elements that make up the Go language."
   ]
  },
  {
   "cell_type": "code",
   "execution_count": 3,
   "metadata": {},
   "outputs": [],
   "source": [
    "import \"fmt\"\n",
    "\n",
    "func main() {\n",
    "    fmt.Println(\"hello world\")\n",
    "}"
   ]
  },
  {
   "cell_type": "code",
   "execution_count": 4,
   "metadata": {},
   "outputs": [
    {
     "name": "stdout",
     "output_type": "stream",
     "text": [
      "hello world\n"
     ]
    }
   ],
   "source": [
    "main()"
   ]
  },
  {
   "cell_type": "markdown",
   "metadata": {},
   "source": [
    "#### Credits: IBM 2019, Andreas Christian [achristian@de.ibm.com]"
   ]
  }
 ],
 "metadata": {
  "kernelspec": {
   "display_name": "Go",
   "language": "go",
   "name": "gophernotes"
  },
  "language_info": {
   "codemirror_mode": "",
   "file_extension": ".go",
   "mimetype": "",
   "name": "go",
   "nbconvert_exporter": "",
   "pygments_lexer": "",
   "version": "go1.13.4"
  }
 },
 "nbformat": 4,
 "nbformat_minor": 2
}
