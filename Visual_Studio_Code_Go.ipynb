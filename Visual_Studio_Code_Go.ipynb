{
 "cells": [
  {
   "cell_type": "markdown",
   "metadata": {},
   "source": [
    "# Using Visual Studio Code to Build Go Applications\n",
    "\n",
    "This lab includes a copy of Visual Studio Code from Microsoft. Visual Studio Code (https://code.visualstudio.com/docs) is a lightweight but powerful source code editor which runs on your desktop and is available for Windows, macOS and Linux. It comes with built-in support for JavaScript, TypeScript and Node.js and has a rich ecosystem of extensions for other languages (such as C++, C#, Java, Python, PHP, Go) and runtimes (such as .NET and Unity).\n",
    "\n",
    "Visual Studio Code (VS Code) is available for a number of environments and VS Code is free for private or commercial use. See the product license for details (https://code.visualstudio.com/license).\n",
    "\n",
    "To install VS Code on your own system visit the main VS Code site (https://code.visualstudio.com/) and download the version appropriate for your operating system. Note that on some Linux distributions, VS Code can be found in the software download library. If you want to make sure you have the latest release then you should download the code from the VS Code site."
   ]
  },
  {
   "cell_type": "markdown",
   "metadata": {},
   "source": [
    "**Note**: Click on the next cell and press **Shift-Return** to refresh all of the examples in this notebook."
   ]
  },
  {
   "cell_type": "code",
   "execution_count": 1,
   "metadata": {},
   "outputs": [
    {
     "data": {
      "application/javascript": [
       "\n",
       "// Scan the entire notebook for cells that have refresh tags and execute them\n",
       "\n",
       "window.findCellIndicesByTag = function findCellIndicesByTag(tagName) {\n",
       "  return (Jupyter.notebook.get_cells()\n",
       "    .filter(\n",
       "      ({metadata: {tags}}) => tags && tags.includes(tagName)\n",
       "    )\n",
       "    .map((cell) => Jupyter.notebook.find_cell_index(cell))\n",
       "  );\n",
       "};\n",
       "\n",
       "window.refresh = function runRefreshCells() {\n",
       "    var c = window.findCellIndicesByTag('refresh');\n",
       "    Jupyter.notebook.execute_cells(c);\n",
       "};\n",
       "\n",
       "\n",
       "// Search for a Markdown cell that contains a comment line with the name of the code we are looking for\n",
       "\n",
       "window.copySearch = function copySearch(id) {\n",
       "    var cells = Jupyter.notebook.get_cells();\n",
       "    for(var i in cells) {\n",
       "        var cell = cells[i];\n",
       "        if (cell['cell_type'] == 'markdown') {\n",
       "            var text = cell.get_text();\n",
       "            var n = text.search(\"<!--\"+id+\"-->\");\n",
       "            if (n != -1) {  \n",
       "                var content = text.replace(/(^<!.*-->.*\\n?)|(```.*\\n?)/g, \"\");\n",
       "                navigator.clipboard.writeText(content);  \n",
       "                return\n",
       "                }\n",
       "        }\n",
       "    }\n",
       "    navigator.clipboard.writeText(\"Cell \" + id + \" not found\"); \n",
       "}\n",
       "\n",
       "// Highlight the background of the current cell and copy the contents onto the clipboard\n",
       "\n",
       "window.clipline = function clipline(codeIndex) {\n",
       "    var cell = document.getElementById(codeIndex);\n",
       "    var code = cell.textContent;\n",
       "    var parent = cell.parentNode;\n",
       "    parent.style.backgroundColor = \"#6699FF\"; // backcolor\n",
       "    navigator.clipboard.writeText(code);\n",
       "}\n",
       "\n",
       "window.reset = function reset(codeIndex) {\n",
       "    var cell = document.getElementById(codeIndex);\n",
       "    var parent = cell.parentNode;\n",
       "    parent.style.backgroundColor = \"#F2F2F2\" // backcolor\n",
       "}\n"
      ],
      "text/plain": [
       "<IPython.core.display.Javascript object>"
      ]
     },
     "metadata": {},
     "output_type": "display_data"
    },
    {
     "data": {
      "application/javascript": [
       "window.refresh()"
      ],
      "text/plain": [
       "<IPython.core.display.Javascript object>"
      ]
     },
     "metadata": {},
     "output_type": "display_data"
    }
   ],
   "source": [
    "%run refresh.ipynb"
   ]
  },
  {
   "cell_type": "markdown",
   "metadata": {},
   "source": [
    "### How to Copy Code and Examples\n",
    "Throughout this lab there are code samples that need to be copied and modified in a text editor. Any commands that need to be executed from a command line are found in grey boxes (an example is found below) has been designed to be easily copied."
   ]
  },
  {
   "cell_type": "code",
   "execution_count": 2,
   "metadata": {
    "hide_input": true,
    "tags": [
     "refresh"
    ]
   },
   "outputs": [
    {
     "data": {
      "text/html": [
       "<div style=\"margin-left: 35px; border-style: solid; border-width: 1px; background-color:#F2F2F2; padding: 10px;\" >\n",
       "<pre id=111 onmousedown=\"window.clipline(111)\" onmouseup=\"window.reset(111)\">\n",
       "Sample commands are found in cells like this.\n",
       "</pre>\n",
       "</div>\n"
      ],
      "text/plain": [
       "<IPython.core.display.HTML object>"
      ]
     },
     "metadata": {},
     "output_type": "display_data"
    }
   ],
   "source": [
    "%%html\n",
    "<div style=\"margin-left: 35px; border-style: solid; border-width: 1px; background-color:#F2F2F2; padding: 10px;\" >\n",
    "<pre id=111 onmousedown=\"window.clipline(111)\" onmouseup=\"window.reset(111)\">\n",
    "Sample commands are found in cells like this.\n",
    "</pre>\n",
    "</div>"
   ]
  },
  {
   "cell_type": "markdown",
   "metadata": {},
   "source": [
    "The entire contents of the text in the cell will be automatically copied when you click on the cell. The color of the background will change color briefly to indicate that the copy has completed. To paste commands into a terminal window, use the key combination **Control-Shift-v**. \n",
    "\n",
    "Code blocks that are meant to be placed into an editor will have a **COPY** button found at the bottom of the text. You can manually select the text you want to copy, or use the **COPY** button to place the entire contents onto the clipboard. "
   ]
  },
  {
   "cell_type": "markdown",
   "metadata": {},
   "source": [
    "<!--sample.code-->\n",
    "```go\n",
    "If (code == sample) then\n",
    "   place onto clipboard\n",
    "else\n",
    "   ignore\n",
    "end if\n",
    "```"
   ]
  },
  {
   "cell_type": "code",
   "execution_count": 3,
   "metadata": {
    "hide_input": true,
    "tags": [
     "refresh"
    ]
   },
   "outputs": [
    {
     "data": {
      "text/html": [
       "<div style=\"margin-left: 45px\">\n",
       "<button type=\"button\" onclick=\"window.copySearch('sample.code')\">Copy</button> \n"
      ],
      "text/plain": [
       "<IPython.core.display.HTML object>"
      ]
     },
     "metadata": {},
     "output_type": "display_data"
    }
   ],
   "source": [
    "%%html\n",
    "<div style=\"margin-left: 45px\">\n",
    "<button type=\"button\" onclick=\"window.copySearch('sample.code')\">Copy</button> "
   ]
  },
  {
   "cell_type": "markdown",
   "metadata": {},
   "source": [
    "### Starting Visual Studio Code\n",
    "VS Code is already installed on this image and can be found in the Linux task bar as highlighted here:"
   ]
  },
  {
   "cell_type": "markdown",
   "metadata": {},
   "source": [
    "   ![](./media/visualstudio-selected.png)"
   ]
  },
  {
   "cell_type": "markdown",
   "metadata": {},
   "source": [
    "Clicking on the icon will start VS Code and present a screen similar to the following:"
   ]
  },
  {
   "cell_type": "markdown",
   "metadata": {},
   "source": [
    "   ![](./media/vscode-initial.png)"
   ]
  },
  {
   "cell_type": "markdown",
   "metadata": {},
   "source": [
    "   Use the following technique to make it easier to switch between this Jupyter notebook and using VS Code (only if you have a large enough display!). When you open up the VS Code Editor window, right click on the title bar and select **Always on Top**. This will keep the VS Code window on top of this Jupyter notebook so you can easily move between the two environments.\n",
    "   \n",
    "   ![](./media/vscode-always-ontop.png)\n",
    "   \n",
    "   Remember to use **Control-Shift-v** when copying text into a command window and **Control-v** for (most) editors.\n",
    "\n",
    "There are many resources available on the VS Code site to explain what all of the functions are (https://code.visualstudio.com/docs) so this lab will only focus on the features that are required to build a Go application that can access Db2. \n",
    "\n",
    "On the side of the editor you will find 5 icons."
   ]
  },
  {
   "cell_type": "markdown",
   "metadata": {},
   "source": [
    "   ![](./media/vscode-sidepanel.png)"
   ]
  },
  {
   "cell_type": "markdown",
   "metadata": {},
   "source": [
    "These icons represent:\n",
    "- Explorer - View objects in your environment, including open editing sessions and folders that contain code\n",
    "- Search - Search and replace values \n",
    "- Source Code Control - You can add extensions to VS Code to manage source code changes\n",
    "- Run and Debug your code\n",
    "- Extensions - Add Extensions to VS Code\n",
    "\n",
    "To install the Go extension, you need to select the Extensions Icon which will present you with a search box. "
   ]
  },
  {
   "cell_type": "markdown",
   "metadata": {},
   "source": [
    "   ![](./media/vscode-extension-search.png)"
   ]
  },
  {
   "cell_type": "markdown",
   "metadata": {},
   "source": [
    "If you type in Go into the search bar, you will be presented with a number of VS Code extensions that you can add to the editor."
   ]
  },
  {
   "cell_type": "markdown",
   "metadata": {},
   "source": [
    "   ![](./media/vscode-go-list.png)"
   ]
  },
  {
   "cell_type": "markdown",
   "metadata": {},
   "source": [
    "As you can see, there are a large number of extensions for the Go language that can be added to the VS Code editor! The primary Go extension from Microsoft has already been added for you. You will notice the green star on the top left hand corner of the display which indicates that the extension is available on the system already. If the Go extensions have not been installed, you can click on the green install button on the right of the extension name.\n",
    "\n",
    "More details about the extension can be found in the right-hand side of the screen when you select the extension."
   ]
  },
  {
   "cell_type": "markdown",
   "metadata": {},
   "source": [
    "   ![](./media/vscode-go-details.png)"
   ]
  },
  {
   "cell_type": "markdown",
   "metadata": {},
   "source": [
    "Installing the extension is relatively straightforward. The green **Install** icon will start the process of downloading the extension and the required libraries for developing with Go. The icon will change to **Installing**.\n",
    "\n",
    "**Note:** The extension has already been installed so you don't have to follow this step."
   ]
  },
  {
   "cell_type": "markdown",
   "metadata": {},
   "source": [
    "Once the installation is complete you will see the icon change to **Installed** and an additional option of **Uninstall** being displayed."
   ]
  },
  {
   "cell_type": "markdown",
   "metadata": {},
   "source": [
    "   ![](./media/vscode-go-uninstall.png)"
   ]
  },
  {
   "cell_type": "markdown",
   "metadata": {},
   "source": [
    "You are now ready to try using this feature. In addition, VS Code has also been updated to contain support for the following languages:\n",
    "- Db2\n",
    "- C/C++\n",
    "- Python\n"
   ]
  },
  {
   "cell_type": "markdown",
   "metadata": {},
   "source": [
    "## Creating a VS Code Workspace\n",
    "There are a variety of ways that you can use the VS Code editor. VS Code can be used as a standalone editor, similar to Notepad or TextEdit. One of the features of VS Code is that you can group a number of programs and objects into a Workspace. A workspace has similar meanings in other frameworks like Eclipse or Visual Studio itself. \n",
    "\n",
    "Typically you will create a directory that you will use to store your Go project. In this lab we have already created a directory called **Labs** that you will add to to current workspace. In the file menu, select **Add folder to Workspace**."
   ]
  },
  {
   "cell_type": "markdown",
   "metadata": {},
   "source": [
    "   ![](./media/vscode-addfolder.png)"
   ]
  },
  {
   "cell_type": "markdown",
   "metadata": {},
   "source": [
    "Navigate the file menu to get to the **Labs** folder and then click **Add** at the top right of the dialog."
   ]
  },
  {
   "cell_type": "markdown",
   "metadata": {},
   "source": [
    "   ![](./media/vscode-select-folder.png)"
   ]
  },
  {
   "cell_type": "markdown",
   "metadata": {},
   "source": [
    "The **Explorer** portion of VS Code will now display an **Untitled** workspace with the **Labs** directory being part of it."
   ]
  },
  {
   "cell_type": "markdown",
   "metadata": {},
   "source": [
    "   ![](./media/vscode-explorer-workspace.png)"
   ]
  },
  {
   "cell_type": "markdown",
   "metadata": {},
   "source": [
    "## Creating a Go Program File\n",
    "By right-clicking on the **Labs** folder, you will see a menu of options, including the ability to create a new file or folder. If you want to create a new Go program, select **New File**.  "
   ]
  },
  {
   "cell_type": "markdown",
   "metadata": {},
   "source": [
    "   ![](./media/vscode-workspace-click.png)"
   ]
  },
  {
   "cell_type": "markdown",
   "metadata": {},
   "source": [
    "When you select **New File**, VS Code will display an input field where you can type in the name of your first program **hello_world.go**."
   ]
  },
  {
   "cell_type": "markdown",
   "metadata": {},
   "source": [
    "   ![](./media/vscode-new-file.png)"
   ]
  },
  {
   "cell_type": "markdown",
   "metadata": {},
   "source": [
    "The VS Code display will change to open up an editting session on the right side of the screen. You will also see that the file name in the left panel will have a **GO** icon beside it to highlight the fact that this is a Go program."
   ]
  },
  {
   "cell_type": "markdown",
   "metadata": {},
   "source": [
    "   ![](./media/vscode-edit.png)"
   ]
  },
  {
   "cell_type": "markdown",
   "metadata": {},
   "source": [
    "Now press the **Copy** button below and paste the contents of the program into the editor window."
   ]
  },
  {
   "cell_type": "markdown",
   "metadata": {},
   "source": [
    "<!--hello_world.go-->\n",
    "```go\n",
    "// hello_world.go\n",
    "package main\n",
    "import \"fmt\"\n",
    "func main() {\n",
    "    fmt.Println(\"Hello world\")\n",
    "}\n",
    "```"
   ]
  },
  {
   "cell_type": "code",
   "execution_count": 4,
   "metadata": {
    "hide_input": true,
    "tags": [
     "refresh"
    ]
   },
   "outputs": [
    {
     "data": {
      "text/html": [
       "<div style=\"margin-left: 45px\">\n",
       "<button type=\"button\" onclick=\"window.copySearch('hello_world.go')\">Copy</button> \n"
      ],
      "text/plain": [
       "<IPython.core.display.HTML object>"
      ]
     },
     "metadata": {},
     "output_type": "display_data"
    }
   ],
   "source": [
    "%%html\n",
    "<div style=\"margin-left: 45px\">\n",
    "<button type=\"button\" onclick=\"window.copySearch('hello_world.go')\">Copy</button> "
   ]
  },
  {
   "cell_type": "markdown",
   "metadata": {},
   "source": [
    "The editor window should now display the code that you pasted from this Jupyter notebook. If not, you can cut and paste the text above."
   ]
  },
  {
   "cell_type": "markdown",
   "metadata": {},
   "source": [
    "   ![](./media/vscode-helloworld.png)"
   ]
  },
  {
   "cell_type": "markdown",
   "metadata": {},
   "source": [
    "Now that we have the code in the editor, we can save the results with **File -> Save**. When the save completes, you will see that the VS Code Go extension has reformatted the code to follow Go coding conventions."
   ]
  },
  {
   "cell_type": "markdown",
   "metadata": {},
   "source": [
    "   ![](./media/vscode-edit-saved.png)"
   ]
  },
  {
   "cell_type": "markdown",
   "metadata": {},
   "source": [
    "## Running Your Program\n",
    "Now that you have saved your program, you need to be able to test it. One option is to open up a terminal window, change to the **Labs** directory and use the following command to run the code."
   ]
  },
  {
   "cell_type": "code",
   "execution_count": 5,
   "metadata": {
    "hide_input": false,
    "tags": [
     "refresh"
    ]
   },
   "outputs": [
    {
     "data": {
      "text/html": [
       "<div style=\"margin-left: 35px; border-style: solid; border-width: 1px; background-color:#F2F2F2; padding: 10px;\" >\n",
       "<pre id=222 onmousedown=\"window.clipline(222)\" onmouseup=\"window.reset(222)\">\n",
       "cd /home/db2pot/Labs\n",
       "go run hello_world.go\n",
       "</pre>\n",
       "</div>\n"
      ],
      "text/plain": [
       "<IPython.core.display.HTML object>"
      ]
     },
     "metadata": {},
     "output_type": "display_data"
    }
   ],
   "source": [
    "%%html\n",
    "<div style=\"margin-left: 35px; border-style: solid; border-width: 1px; background-color:#F2F2F2; padding: 10px;\" >\n",
    "<pre id=222 onmousedown=\"window.clipline(222)\" onmouseup=\"window.reset(222)\">\n",
    "cd /home/db2pot/Labs\n",
    "go run hello_world.go\n",
    "</pre>\n",
    "</div>"
   ]
  },
  {
   "cell_type": "markdown",
   "metadata": {},
   "source": [
    "The other approach is to use the facilities within VS Code to compile and run code. On the top menu bar of VS Code, click on the **Terminal** tab. You will see a number of options, including the ability to open up a terminal window within VS Code itself."
   ]
  },
  {
   "cell_type": "markdown",
   "metadata": {},
   "source": [
    "   ![](./media/vscode-terminal-menu.png)"
   ]
  },
  {
   "cell_type": "markdown",
   "metadata": {},
   "source": [
    "The editor window will split horizontally and add a terminal window. You will note that the terminal window will already be in the directory (**Labs**) that our file is in."
   ]
  },
  {
   "cell_type": "markdown",
   "metadata": {},
   "source": [
    "   ![](./media/vscode-terminal-open.png)"
   ]
  },
  {
   "cell_type": "markdown",
   "metadata": {},
   "source": [
    "You can now click on the line below and paste it into the terminal window within VS Code to run the program. \n",
    "\n",
    "**Note:** Don't forget that you need to use **Control-Shift-v** to copy into a terminal window."
   ]
  },
  {
   "cell_type": "code",
   "execution_count": 6,
   "metadata": {
    "hide_input": true,
    "tags": [
     "refresh"
    ]
   },
   "outputs": [
    {
     "data": {
      "text/html": [
       "<div style=\"margin-left: 35px; border-style: solid; border-width: 1px; background-color:#F2F2F2; padding: 10px;\" >\n",
       "<pre id=333 onmousedown=\"window.clipline(333)\" onmouseup=\"window.reset(333)\">\n",
       "go run hello_world.go\n",
       "</pre>\n",
       "</div>\n"
      ],
      "text/plain": [
       "<IPython.core.display.HTML object>"
      ]
     },
     "metadata": {},
     "output_type": "display_data"
    }
   ],
   "source": [
    "%%html\n",
    "<div style=\"margin-left: 35px; border-style: solid; border-width: 1px; background-color:#F2F2F2; padding: 10px;\" >\n",
    "<pre id=333 onmousedown=\"window.clipline(333)\" onmouseup=\"window.reset(333)\">\n",
    "go run hello_world.go\n",
    "</pre>\n",
    "</div>"
   ]
  },
  {
   "cell_type": "markdown",
   "metadata": {},
   "source": [
    "   ![](./media/vscode-terminal-results.png)"
   ]
  },
  {
   "cell_type": "markdown",
   "metadata": {},
   "source": [
    "## Automating Compile and Testing\n",
    "You can continue to save and run your code using the steps above, but VS Code also lets you set up an environment where you can create **Tasks** that do the work for you. The **Terminal** menu includes options to configure tasks. The one that you want to set up is the **Configure Default Build Task**. Select this option from the drop down menu."
   ]
  },
  {
   "cell_type": "markdown",
   "metadata": {},
   "source": [
    "   ![](./media/vscode-terminal-menu.png)"
   ]
  },
  {
   "cell_type": "markdown",
   "metadata": {},
   "source": [
    "The menu will present a dialog where you create a task. The **Create tasks.json...** is the one you want to select."
   ]
  },
  {
   "cell_type": "markdown",
   "metadata": {},
   "source": [
    "   ![](./media/vscode-config-task.png)"
   ]
  },
  {
   "cell_type": "markdown",
   "metadata": {},
   "source": [
    "After selecting the **Create** option, a further sub-menu is displayed."
   ]
  },
  {
   "cell_type": "markdown",
   "metadata": {},
   "source": [
    "   ![](./media/vscode-task-list.png)"
   ]
  },
  {
   "cell_type": "markdown",
   "metadata": {},
   "source": [
    "We are going to create an arbitrary external command, so select **Others**."
   ]
  },
  {
   "cell_type": "markdown",
   "metadata": {},
   "source": [
    "   ![](./media/vscode-task-edit.png)"
   ]
  },
  {
   "cell_type": "markdown",
   "metadata": {},
   "source": [
    "VS Code will create a template that contains some information that is required to build our code. The keywords are defined in the link found at (https://go.microsoft.com/fwlink/?LinkId=733558) but for our purposes this is all we need to know:\n",
    "\n",
    "- label - Name of the task that you are running\n",
    "- type - Type of task (Linux shell)\n",
    "- command - The command that we want to execute\n",
    "\n",
    "For us to use this template, we need to supply the command to execute (**go run**) and somehow have to supply the current filename to the command. The format for providing the current file name is `${file}`. This special variable is placed within the command string so our final command will be `go run ${file}`.\n",
    "\n",
    "Update the fields in the **tasks.json** file so that it looks like this and **Save** it."
   ]
  },
  {
   "cell_type": "markdown",
   "metadata": {},
   "source": [
    "   ![](./media/vscode-task-final.png)"
   ]
  },
  {
   "cell_type": "markdown",
   "metadata": {},
   "source": [
    "To close the edit session (after saving it!) you need to press the **[x]** beside the file name.\n",
    "\n",
    "Now that we have created a default build task, we can test our code directly from the editor screen. Select **Terminal -> Run Build Task** or as a shortcut use the key sequence **Control-Shift-B**."
   ]
  },
  {
   "cell_type": "markdown",
   "metadata": {},
   "source": [
    "   ![](./media/vscode-run-build.png)"
   ]
  },
  {
   "cell_type": "markdown",
   "metadata": {},
   "source": [
    "VS Code will open up another terminal window and execute our default build command."
   ]
  },
  {
   "cell_type": "markdown",
   "metadata": {},
   "source": [
    "   ![](./media/vscode-build-result.png)"
   ]
  },
  {
   "cell_type": "markdown",
   "metadata": {},
   "source": [
    "This default build command is used for any code that we write in the editor, so there is no need to recreate it for every file. This simple task can help automate your compilation, testing, and debugging of code."
   ]
  },
  {
   "cell_type": "markdown",
   "metadata": {},
   "source": [
    "#### Credits: IBM 2020, George Baklarz [baklarz@ca.ibm.com]"
   ]
  }
 ],
 "metadata": {
  "kernelspec": {
   "display_name": "Python 3",
   "language": "python",
   "name": "python3"
  },
  "language_info": {
   "codemirror_mode": {
    "name": "ipython",
    "version": 3
   },
   "file_extension": ".py",
   "mimetype": "text/x-python",
   "name": "python",
   "nbconvert_exporter": "python",
   "pygments_lexer": "ipython3",
   "version": "3.7.4"
  }
 },
 "nbformat": 4,
 "nbformat_minor": 2
}
