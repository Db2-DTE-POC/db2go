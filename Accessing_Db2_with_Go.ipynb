{
 "cells": [
  {
   "cell_type": "markdown",
   "metadata": {},
   "source": [
    "# Accessing Db2 with Go\n",
    "\n",
    "This lab uses the **go_ibm_db** cli driver, which is already installed in the lab environment. The driver can be used to develop applications that are running on Linux, Mac, or Windows environments. It provides an interface for GoLang to Db2 for z/OS, Db2 for LUW, and Db2 for i.  \n",
    "  \n",
    "If you want to use the driver in your own environment you can [download it from GitHub](https://github.com/ibmdb/go_ibm_db). "
   ]
  },
  {
   "cell_type": "code",
   "execution_count": 49,
   "metadata": {
    "run_control": {}
   },
   "outputs": [
    {
     "data": {
      "application/javascript": [
       "\n",
       "// Scan the entire notebook for cells that have refresh tags and execute them\n",
       "\n",
       "window.findCellIndicesByTag = function findCellIndicesByTag(tagName) {\n",
       "  return (Jupyter.notebook.get_cells()\n",
       "    .filter(\n",
       "      ({metadata: {tags}}) => tags && tags.includes(tagName)\n",
       "    )\n",
       "    .map((cell) => Jupyter.notebook.find_cell_index(cell))\n",
       "  );\n",
       "};\n",
       "\n",
       "window.refresh = function runRefreshCells() {\n",
       "    var c = window.findCellIndicesByTag('refresh');\n",
       "    Jupyter.notebook.execute_cells(c);\n",
       "};\n",
       "\n",
       "\n",
       "// Search for a Markdown cell that contains a comment line with the name of the code we are looking for\n",
       "\n",
       "window.copySearch = function copySearch(id) {\n",
       "    var cells = Jupyter.notebook.get_cells();\n",
       "    for(var i in cells) {\n",
       "        var cell = cells[i];\n",
       "        if (cell['cell_type'] == 'markdown') {\n",
       "            var text = cell.get_text();\n",
       "            var n = text.search(\"<!--\"+id+\"-->\");\n",
       "            if (n != -1) {  \n",
       "                var content = text.replace(/(^<!.*-->.*\\n?)|(```.*\\n?)/g, \"\");\n",
       "                navigator.clipboard.writeText(content);  \n",
       "                return\n",
       "                }\n",
       "        }\n",
       "    }\n",
       "    navigator.clipboard.writeText(\"Cell \" + id + \" not found\"); \n",
       "}\n",
       "\n",
       "// Highlight the background of the current cell and copy the contents onto the clipboard\n",
       "\n",
       "window.clipline = function clipline(codeIndex) {\n",
       "    var cell = document.getElementById(codeIndex);\n",
       "    var code = cell.textContent;\n",
       "    var parent = cell.parentNode;\n",
       "    parent.style.backgroundColor = \"#6699FF\"; // backcolor\n",
       "    navigator.clipboard.writeText(code);\n",
       "}\n",
       "\n",
       "window.reset = function reset(codeIndex) {\n",
       "    var cell = document.getElementById(codeIndex);\n",
       "    var parent = cell.parentNode;\n",
       "    parent.style.backgroundColor = \"#F2F2F2\" // backcolor\n",
       "}\n"
      ],
      "text/plain": [
       "<IPython.core.display.Javascript object>"
      ]
     },
     "metadata": {},
     "output_type": "display_data"
    },
    {
     "data": {
      "application/javascript": [
       "window.refresh()"
      ],
      "text/plain": [
       "<IPython.core.display.Javascript object>"
      ]
     },
     "metadata": {},
     "output_type": "display_data"
    }
   ],
   "source": [
    "%run refresh.ipynb"
   ]
  },
  {
   "cell_type": "markdown",
   "metadata": {},
   "source": [
    "## Table of Contents\n",
    "\n",
    "* [Overview of the Db2-Go lab environment](#overview)\n",
    "* [Connect to database SAMPLE](#connect)\n",
    "* [Retrieve a single row from a table](#select_single)\n",
    "* [Execute a query and fetch the result set](#fetch)\n",
    "* [Retrieve the column names from the result set](#fetch_columns)\n",
    "* [Additional sample Programs](#solutions)\n",
    "    * [count3.go](#count3.go)"
   ]
  },
  {
   "cell_type": "markdown",
   "metadata": {},
   "source": [
    "<a id='introduction'></a>\n",
    "## Overview of the Db2-Go lab environment\n",
    "\n",
    "You use database **SAMPLE** for the Db2-Go tutorials. The database is already installed in the lab environment. You can check [the schema description of the database](https://www.ibm.com/support/knowledgecenter/en/SSEPGG_11.1.0/com.ibm.db2.luw.apdv.samptop.doc/doc/r0001094.html).\n",
    "Below is a list of the tables that are used in the labs together with the corresponding number of rows and columns.\n",
    "\n",
    "| Tables                 | Number of Rows          | Number of Columns  |\n",
    "|:---------------------- |:------------------------|:-------------------|\n",
    "|ACT|18|3|\n",
    "|DEPARTMENT|14|5|\n",
    "|EMPLOYEE  |42|14|\n",
    "|EMPPROJACT|73|6|\n",
    "|ORG|8|5|\n",
    "|PROJECT|20|9|\n",
    "|ROLES|11|2|\n",
    "|SALES|41|4|\n",
    "|STAFF|3|7|"
   ]
  },
  {
   "cell_type": "markdown",
   "metadata": {},
   "source": [
    "### How to Copy Code and Examples\n",
    "Throughout this lab there are code samples that need to be copied and modified in a text editor. Any commands that need to be executed from a command line are found in grey boxes (an example is found below) has been designed to be easily copied."
   ]
  },
  {
   "cell_type": "code",
   "execution_count": 50,
   "metadata": {
    "hide_input": true,
    "tags": [
     "refresh"
    ]
   },
   "outputs": [
    {
     "data": {
      "text/html": [
       "<div style=\"margin-left: 35px; border-style: solid; border-width: 1px; background-color:#F2F2F2; padding: 10px;\" >\n",
       "<pre id=111 onmousedown=\"window.clipline(111)\" onmouseup=\"window.reset(111)\">\n",
       "Sample commands are found in cells like this.\n",
       "</pre>\n",
       "</div>\n"
      ],
      "text/plain": [
       "<IPython.core.display.HTML object>"
      ]
     },
     "metadata": {},
     "output_type": "display_data"
    }
   ],
   "source": [
    "%%html\n",
    "<div style=\"margin-left: 35px; border-style: solid; border-width: 1px; background-color:#F2F2F2; padding: 10px;\" >\n",
    "<pre id=111 onmousedown=\"window.clipline(111)\" onmouseup=\"window.reset(111)\">\n",
    "Sample commands are found in cells like this.\n",
    "</pre>\n",
    "</div>"
   ]
  },
  {
   "cell_type": "markdown",
   "metadata": {},
   "source": [
    "The entire contents of the text in the cell will be automatically copied when you click on the cell. The color of the background will change color briefly to indicate that the copy has completed. To paste commands into a terminal window, use the key combination Shift-Control-v. \n",
    "\n",
    "Code blocks that are meant to be placed into an editor will have a `COPY` button found at the bottom of the text. You can manually select the text you want to copy, or use the `COPY` button to place the entire contents onto the clipboard. "
   ]
  },
  {
   "cell_type": "markdown",
   "metadata": {},
   "source": [
    "<!--sample.code-->\n",
    "```go\n",
    "If (code == sample) then\n",
    "   place onto clipboard\n",
    "else\n",
    "   ignore\n",
    "end if\n",
    "```"
   ]
  },
  {
   "cell_type": "code",
   "execution_count": 51,
   "metadata": {
    "hide_input": true,
    "tags": [
     "refresh"
    ]
   },
   "outputs": [
    {
     "data": {
      "text/html": [
       "<div style=\"margin-left: 45px\">\n",
       "<button type=\"button\" onclick=\"window.copySearch('sample.code')\">Copy</button> \n"
      ],
      "text/plain": [
       "<IPython.core.display.HTML object>"
      ]
     },
     "metadata": {},
     "output_type": "display_data"
    }
   ],
   "source": [
    "%%html\n",
    "<div style=\"margin-left: 45px\">\n",
    "<button type=\"button\" onclick=\"window.copySearch('sample.code')\">Copy</button> "
   ]
  },
  {
   "cell_type": "markdown",
   "metadata": {},
   "source": [
    "## Exploring the Contents of the Database\n",
    "You can explore the database using either the Db2 command line, Visual Studio Code, or the Db2 Jupyter notebook extensions. To explore the database from the Db2 command line perform the following steps.\n",
    "\n",
    "1) Open a shell window (click the *terminal* icon in the task bar below the Linux desktop) \n",
    "   ![](./media/terminal-selected.png)\n",
    "\n",
    "   Use the following technique to make it easier to switch between a Jupyter notebook and the command line. When you open up the terminal window, right click on the title bar and select `Always on Top`. This will keep the terminal window on top of your Jupyter notebook so you can easily move between the two environments.\n",
    "   \n",
    "   ![](./media/alwaysontop.png)\n",
    "   \n",
    "   Remember to use `Shift-Control-v` when copying text into a command window.\n",
    "\n",
    "\n",
    "2) Switch to user **db2inst1** (password: **db2inst1**). You can use the **db2pot** user to issue Db2 commands, but you will need to connect as user **DB2INST1**. "
   ]
  },
  {
   "cell_type": "code",
   "execution_count": 52,
   "metadata": {
    "hide_input": true,
    "scrolled": true,
    "tags": [
     "refresh"
    ]
   },
   "outputs": [
    {
     "data": {
      "text/html": [
       "<div style=\"margin-left: 35px; border-style: solid; border-width: 1px; background-color:#F2F2F2; padding: 10px;\" >\n",
       "<pre id=100 onmousedown=\"window.clipline(100)\" onmouseup=\"window.reset(100)\">\n",
       "su - db2inst1\n",
       "</pre>\n",
       "</div>\n"
      ],
      "text/plain": [
       "<IPython.core.display.HTML object>"
      ]
     },
     "metadata": {},
     "output_type": "display_data"
    }
   ],
   "source": [
    "%%html\n",
    "<div style=\"margin-left: 35px; border-style: solid; border-width: 1px; background-color:#F2F2F2; padding: 10px;\" >\n",
    "<pre id=100 onmousedown=\"window.clipline(100)\" onmouseup=\"window.reset(100)\">\n",
    "su - db2inst1\n",
    "</pre>\n",
    "</div>"
   ]
  },
  {
   "cell_type": "markdown",
   "metadata": {
    "hide_input": true
   },
   "source": [
    "3) Start Db2. The database may already be started, but in the event that you receive an error when connecting in the next step, issue the following command.  "
   ]
  },
  {
   "cell_type": "code",
   "execution_count": 53,
   "metadata": {
    "hide_input": true,
    "scrolled": true,
    "tags": [
     "refresh"
    ]
   },
   "outputs": [
    {
     "data": {
      "text/html": [
       "<div style=\"margin-left: 35px; border-style: solid; border-width: 1px; background-color:#F2F2F2; padding: 10px;\" >\n",
       "<pre id=200 onmousedown=\"window.clipline(200)\" onmouseup=\"window.reset(200)\">\n",
       "db2start\n",
       "</pre>\n",
       "</div>\n"
      ],
      "text/plain": [
       "<IPython.core.display.HTML object>"
      ]
     },
     "metadata": {},
     "output_type": "display_data"
    }
   ],
   "source": [
    "%%html\n",
    "<div style=\"margin-left: 35px; border-style: solid; border-width: 1px; background-color:#F2F2F2; padding: 10px;\" >\n",
    "<pre id=200 onmousedown=\"window.clipline(200)\" onmouseup=\"window.reset(200)\">\n",
    "db2start\n",
    "</pre>\n",
    "</div>"
   ]
  },
  {
   "cell_type": "markdown",
   "metadata": {},
   "source": [
    "4) Connect to database SAMPLE:  "
   ]
  },
  {
   "cell_type": "code",
   "execution_count": 54,
   "metadata": {
    "hide_input": true,
    "tags": [
     "refresh"
    ]
   },
   "outputs": [
    {
     "data": {
      "text/html": [
       "<div style=\"margin-left: 35px; border-style: solid; border-width: 1px; background-color:#F2F2F2; padding: 10px;\" >\n",
       "<pre id=300 onmousedown=\"window.clipline(300)\" onmouseup=\"window.reset(300)\">\n",
       "db2 connect to sample\n",
       "</pre>\n",
       "</div>\n"
      ],
      "text/plain": [
       "<IPython.core.display.HTML object>"
      ]
     },
     "metadata": {},
     "output_type": "display_data"
    }
   ],
   "source": [
    "%%html\n",
    "<div style=\"margin-left: 35px; border-style: solid; border-width: 1px; background-color:#F2F2F2; padding: 10px;\" >\n",
    "<pre id=300 onmousedown=\"window.clipline(300)\" onmouseup=\"window.reset(300)\">\n",
    "db2 connect to sample\n",
    "</pre>\n",
    "</div>"
   ]
  },
  {
   "cell_type": "markdown",
   "metadata": {
    "hide_input": true
   },
   "source": [
    "5) Show the tables in schema DB2INST1:  "
   ]
  },
  {
   "cell_type": "code",
   "execution_count": 55,
   "metadata": {
    "hide_input": true,
    "tags": [
     "refresh"
    ]
   },
   "outputs": [
    {
     "data": {
      "text/html": [
       "<div style=\"margin-left: 35px; border-style: solid; border-width: 1px; background-color:#F2F2F2; padding: 10px;\" >\n",
       "<pre id=400 onmousedown=\"window.clipline(400)\" onmouseup=\"window.reset(400)\">\n",
       "db2 \"select substr(tabname,1,15) from syscat.tables where tabschema='DB2INST1'\"\n",
       "</pre>\n",
       "</div>\n"
      ],
      "text/plain": [
       "<IPython.core.display.HTML object>"
      ]
     },
     "metadata": {},
     "output_type": "display_data"
    }
   ],
   "source": [
    "%%html\n",
    "<div style=\"margin-left: 35px; border-style: solid; border-width: 1px; background-color:#F2F2F2; padding: 10px;\" >\n",
    "<pre id=400 onmousedown=\"window.clipline(400)\" onmouseup=\"window.reset(400)\">\n",
    "db2 \"select substr(tabname,1,15) from syscat.tables where tabschema='DB2INST1'\"\n",
    "</pre>\n",
    "</div>"
   ]
  },
  {
   "cell_type": "markdown",
   "metadata": {},
   "source": [
    "6) Show the table definition of one of the tables, for example, table ACT:  "
   ]
  },
  {
   "cell_type": "code",
   "execution_count": 56,
   "metadata": {
    "hide_input": true,
    "tags": [
     "refresh"
    ]
   },
   "outputs": [
    {
     "data": {
      "text/html": [
       "<div style=\"margin-left: 35px; border-style: solid; border-width: 1px; background-color:#F2F2F2; padding: 10px;\" >\n",
       "<pre id=500 onmousedown=\"window.clipline(500)\" onmouseup=\"window.reset(500)\">\n",
       "db2 \"describe table db2inst1.act\"\n",
       "</pre>\n",
       "</div>\n"
      ],
      "text/plain": [
       "<IPython.core.display.HTML object>"
      ]
     },
     "metadata": {},
     "output_type": "display_data"
    }
   ],
   "source": [
    "%%html\n",
    "<div style=\"margin-left: 35px; border-style: solid; border-width: 1px; background-color:#F2F2F2; padding: 10px;\" >\n",
    "<pre id=500 onmousedown=\"window.clipline(500)\" onmouseup=\"window.reset(500)\">\n",
    "db2 \"describe table db2inst1.act\"\n",
    "</pre>\n",
    "</div>"
   ]
  },
  {
   "cell_type": "markdown",
   "metadata": {},
   "source": [
    "7) Retrieve the rows from one of the tables, for example, table ACT:  "
   ]
  },
  {
   "cell_type": "code",
   "execution_count": 57,
   "metadata": {
    "hide_input": true,
    "tags": [
     "refresh"
    ]
   },
   "outputs": [
    {
     "data": {
      "text/html": [
       "<div style=\"margin-left: 35px; border-style: solid; border-width: 1px; background-color:#F2F2F2; padding: 10px;\" >\n",
       "<pre id=600 onmousedown=\"window.clipline(600)\" onmouseup=\"window.reset(600)\">\n",
       "db2 \"select * from db2inst1.act\"\n",
       "</pre>\n",
       "</div>\n"
      ],
      "text/plain": [
       "<IPython.core.display.HTML object>"
      ]
     },
     "metadata": {},
     "output_type": "display_data"
    }
   ],
   "source": [
    "%%html\n",
    "<div style=\"margin-left: 35px; border-style: solid; border-width: 1px; background-color:#F2F2F2; padding: 10px;\" >\n",
    "<pre id=600 onmousedown=\"window.clipline(600)\" onmouseup=\"window.reset(600)\">\n",
    "db2 \"select * from db2inst1.act\"\n",
    "</pre>\n",
    "</div>"
   ]
  },
  {
   "cell_type": "markdown",
   "metadata": {},
   "source": [
    "8) When you are done, enter the command `exit` to return back to the `db2pot` environment."
   ]
  },
  {
   "cell_type": "code",
   "execution_count": 58,
   "metadata": {
    "hide_input": true,
    "tags": [
     "refresh"
    ]
   },
   "outputs": [
    {
     "data": {
      "text/html": [
       "<div style=\"margin-left: 35px; border-style: solid; border-width: 1px; background-color:#F2F2F2; padding: 10px;\" >\n",
       "<pre id=700 onmousedown=\"window.clipline(700)\" onmouseup=\"window.reset(700)\">\n",
       "exit\n",
       "</pre>\n",
       "</div>\n"
      ],
      "text/plain": [
       "<IPython.core.display.HTML object>"
      ]
     },
     "metadata": {},
     "output_type": "display_data"
    }
   ],
   "source": [
    "%%html\n",
    "<div style=\"margin-left: 35px; border-style: solid; border-width: 1px; background-color:#F2F2F2; padding: 10px;\" >\n",
    "<pre id=700 onmousedown=\"window.clipline(700)\" onmouseup=\"window.reset(700)\">\n",
    "exit\n",
    "</pre>\n",
    "</div>"
   ]
  },
  {
   "cell_type": "markdown",
   "metadata": {},
   "source": [
    "## View the Database Contents Using Db2 Jupyter Extensions\n",
    "The following code will load the Db2 Magic commands required to run SQL against Db2 from within a Jupyter Notebook."
   ]
  },
  {
   "cell_type": "code",
   "execution_count": null,
   "metadata": {},
   "outputs": [],
   "source": [
    "%run db2.ipynb\n",
    "%run connection.ipynb"
   ]
  },
  {
   "cell_type": "markdown",
   "metadata": {},
   "source": [
    "### List the Tables in the DB2INST1 Schema"
   ]
  },
  {
   "cell_type": "code",
   "execution_count": null,
   "metadata": {},
   "outputs": [],
   "source": [
    "%sql -grid select substr(tabname,1,15) from syscat.tables where tabschema='DB2INST1'"
   ]
  },
  {
   "cell_type": "markdown",
   "metadata": {},
   "source": [
    "### Describe the ACT Table"
   ]
  },
  {
   "cell_type": "code",
   "execution_count": null,
   "metadata": {},
   "outputs": [],
   "source": [
    "%sql describe table act"
   ]
  },
  {
   "cell_type": "markdown",
   "metadata": {},
   "source": [
    "### View the Contents of the ACT Table"
   ]
  },
  {
   "cell_type": "code",
   "execution_count": null,
   "metadata": {},
   "outputs": [],
   "source": [
    "%sql -grid select * from act"
   ]
  },
  {
   "cell_type": "markdown",
   "metadata": {},
   "source": [
    "## GO Language Environment"
   ]
  },
  {
   "cell_type": "markdown",
   "metadata": {},
   "source": [
    "The following variables should be set in your Linux environment:\n",
    "```bash\n",
    "DB2HOME=\"/home/db2pot/go/src/github.com/ibmdb/go_ibm_db/installer/clidriver\n",
    "CGO_CFLAGS=-I$DB2HOME/include\n",
    "CGO_LDFLAGS=-L$DB2HOME/lib\n",
    "LD_LIBRARY_PATH=/home/db2pot/go/src/github.com/ibmdb/go_ibm_db/installer/clidriver/lib\n",
    "```\n",
    "\n",
    "For OSX you require the following environment setting.\n",
    "```bash\n",
    "DYLD_LIBRARY_PATH=$DYLD_LIBRARY_PATH:/home/db2pot/go/src/github.com/ibmdb/go_ibm_db/installer/clidriver/lib\n",
    "```\n",
    "\n",
    "Before you start, make sure that the environment is set up correctly:\n",
    "- Open a Linux shell\n",
    "   ![](./media/terminal-selected.png)\n",
    "\n",
    "\n",
    "- If you are not already logged on as user `db2pot`, switch to user `db2pot` (password: `123qwe123`). \n",
    "<br><p>**Note:** Execute all Go program examples as user **db2pot**.    "
   ]
  },
  {
   "cell_type": "code",
   "execution_count": 59,
   "metadata": {
    "hide_input": true,
    "tags": [
     "refresh"
    ]
   },
   "outputs": [
    {
     "data": {
      "text/html": [
       "<div style=\"margin-left: 45px; border-style: solid; border-width: 1px; background-color:#F2F2F2; padding: 10px;\" >\n",
       "<pre id=1000 onmousedown=\"window.clipline(1000)\" onmouseup=\"window.reset(1000)\">\n",
       "su - db2pot\n",
       "</pre>\n",
       "</div>\n"
      ],
      "text/plain": [
       "<IPython.core.display.HTML object>"
      ]
     },
     "metadata": {},
     "output_type": "display_data"
    }
   ],
   "source": [
    "%%html\n",
    "<div style=\"margin-left: 45px; border-style: solid; border-width: 1px; background-color:#F2F2F2; padding: 10px;\" >\n",
    "<pre id=1000 onmousedown=\"window.clipline(1000)\" onmouseup=\"window.reset(1000)\">\n",
    "su - db2pot\n",
    "</pre>\n",
    "</div>"
   ]
  },
  {
   "cell_type": "markdown",
   "metadata": {},
   "source": [
    "- To check the value of an environment variable, for example `DB2HOME`, run the following command:  "
   ]
  },
  {
   "cell_type": "code",
   "execution_count": 60,
   "metadata": {
    "hide_input": true,
    "tags": [
     "refresh"
    ]
   },
   "outputs": [
    {
     "data": {
      "text/html": [
       "<div style=\"margin-left: 45px; border-style: solid; border-width: 1px; background-color:#F2F2F2; padding: 10px;\" >\n",
       "<pre id=1100 onmousedown=\"window.clipline(1100)\" onmouseup=\"window.reset(1100)\">\n",
       "export | grep DB2HOME\n",
       "</pre>\n",
       "</div>\n"
      ],
      "text/plain": [
       "<IPython.core.display.HTML object>"
      ]
     },
     "metadata": {},
     "output_type": "display_data"
    }
   ],
   "source": [
    "%%html\n",
    "<div style=\"margin-left: 45px; border-style: solid; border-width: 1px; background-color:#F2F2F2; padding: 10px;\" >\n",
    "<pre id=1100 onmousedown=\"window.clipline(1100)\" onmouseup=\"window.reset(1100)\">\n",
    "export | grep DB2HOME\n",
    "</pre>\n",
    "</div>"
   ]
  },
  {
   "cell_type": "markdown",
   "metadata": {
    "hide_input": false
   },
   "source": [
    "- The environment variables are defined in file `.profile` in directory `/home/db2pot`"
   ]
  },
  {
   "cell_type": "code",
   "execution_count": 61,
   "metadata": {
    "hide_input": true,
    "tags": [
     "refresh"
    ]
   },
   "outputs": [
    {
     "data": {
      "text/html": [
       "<div style=\"margin-left: 45px; border-style: solid; border-width: 1px; background-color:#F2F2F2; padding: 10px;\" >\n",
       "<pre id=1200 onmousedown=\"window.clipline(1200)\" onmouseup=\"window.reset(1200)\">\n",
       "more /home/db2pot/.profile\n",
       "</pre>\n",
       "</div>\n"
      ],
      "text/plain": [
       "<IPython.core.display.HTML object>"
      ]
     },
     "metadata": {},
     "output_type": "display_data"
    }
   ],
   "source": [
    "%%html\n",
    "<div style=\"margin-left: 45px; border-style: solid; border-width: 1px; background-color:#F2F2F2; padding: 10px;\" >\n",
    "<pre id=1200 onmousedown=\"window.clipline(1200)\" onmouseup=\"window.reset(1200)\">\n",
    "more /home/db2pot/.profile\n",
    "</pre>\n",
    "</div>"
   ]
  },
  {
   "cell_type": "markdown",
   "metadata": {},
   "source": [
    "Execute all program examples from the Linux shell. To execute a program, take the following steps:\n",
    "\n",
    "- Create directory `Labs` in the home directory of user db2pot (**Note:** This may already be done for you):  "
   ]
  },
  {
   "cell_type": "code",
   "execution_count": 62,
   "metadata": {
    "hide_input": true,
    "tags": [
     "refresh"
    ]
   },
   "outputs": [
    {
     "data": {
      "text/html": [
       "<div style=\"margin-left: 45px; border-style: solid; border-width: 1px; background-color:#F2F2F2; padding: 10px;\" >\n",
       "<pre id=1300 onmousedown=\"window.clipline(1300)\" onmouseup=\"window.reset(1300)\">\n",
       "cd /home/db2pot\n",
       "mkdir Labs\n",
       "</pre>\n",
       "</div>\n"
      ],
      "text/plain": [
       "<IPython.core.display.HTML object>"
      ]
     },
     "metadata": {},
     "output_type": "display_data"
    }
   ],
   "source": [
    "%%html\n",
    "<div style=\"margin-left: 45px; border-style: solid; border-width: 1px; background-color:#F2F2F2; padding: 10px;\" >\n",
    "<pre id=1300 onmousedown=\"window.clipline(1300)\" onmouseup=\"window.reset(1300)\">\n",
    "cd /home/db2pot\n",
    "mkdir Labs\n",
    "</pre>\n",
    "</div>"
   ]
  },
  {
   "cell_type": "markdown",
   "metadata": {},
   "source": [
    "- Copy the program code from the Jupyter notebook into a package file. The first line of each program example shows the program name that should be used when you create the corresponding program file. For example, for the below listed `hello_world.go` program create the corresponding program file as follows:  "
   ]
  },
  {
   "cell_type": "code",
   "execution_count": 63,
   "metadata": {
    "hide_input": true,
    "tags": [
     "refresh"
    ]
   },
   "outputs": [
    {
     "data": {
      "text/html": [
       "<div style=\"margin-left: 45px; border-style: solid; border-width: 1px; background-color:#F2F2F2; padding: 10px;\" >\n",
       "<pre id=1400 onmousedown=\"window.clipline(1400)\" onmouseup=\"window.reset(1400)\">\n",
       "cd /home/db2pot/Labs\n",
       "leafpad hello_world.go &\n",
       "</pre>\n",
       "</div>\n"
      ],
      "text/plain": [
       "<IPython.core.display.HTML object>"
      ]
     },
     "metadata": {},
     "output_type": "display_data"
    }
   ],
   "source": [
    "%%html\n",
    "<div style=\"margin-left: 45px; border-style: solid; border-width: 1px; background-color:#F2F2F2; padding: 10px;\" >\n",
    "<pre id=1400 onmousedown=\"window.clipline(1400)\" onmouseup=\"window.reset(1400)\">\n",
    "cd /home/db2pot/Labs\n",
    "leafpad hello_world.go &\n",
    "</pre>\n",
    "</div>"
   ]
  },
  {
   "cell_type": "markdown",
   "metadata": {},
   "source": [
    "- The `leafpad` editor can be found in the task bar if you need to access it outside of a command line\n",
    "   ![](./media/leafpad-selected.png)"
   ]
  },
  {
   "cell_type": "markdown",
   "metadata": {
    "hide_input": true
   },
   "source": [
    "- Copy and paste the program code to the leafpad editor"
   ]
  },
  {
   "cell_type": "markdown",
   "metadata": {
    "hide_input": true
   },
   "source": [
    "<!--hello_world.go-->\n",
    "```go\n",
    "// hello_world.go\n",
    "package main\n",
    "import \"fmt\"\n",
    "func main() {\n",
    "    fmt.Println(\"Hello world\")\n",
    "}\n",
    "```"
   ]
  },
  {
   "cell_type": "code",
   "execution_count": 64,
   "metadata": {
    "hide_input": true,
    "tags": [
     "refresh"
    ]
   },
   "outputs": [
    {
     "data": {
      "text/html": [
       "<div style=\"margin-left: 45px\">\n",
       "<button type=\"button\" onclick=\"window.copySearch('hello_world.go')\">Copy</button> \n"
      ],
      "text/plain": [
       "<IPython.core.display.HTML object>"
      ]
     },
     "metadata": {},
     "output_type": "display_data"
    }
   ],
   "source": [
    "%%html\n",
    "<div style=\"margin-left: 45px\">\n",
    "<button type=\"button\" onclick=\"window.copySearch('hello_world.go')\">Copy</button> "
   ]
  },
  {
   "cell_type": "markdown",
   "metadata": {
    "hide_input": true
   },
   "source": [
    "- Click the `Save` button and name it `hello_world.go`\n",
    "\n",
    "\n",
    "- Execute the program as follows:"
   ]
  },
  {
   "cell_type": "code",
   "execution_count": 65,
   "metadata": {
    "hide_input": true,
    "scrolled": true,
    "tags": [
     "refresh"
    ]
   },
   "outputs": [
    {
     "data": {
      "text/html": [
       "<div style=\"margin-left: 45px; border-style: solid; border-width: 1px; background-color:#F2F2F2; padding: 10px;\" >\n",
       "<pre id=1600 onmousedown=\"window.clipline(1600)\" onmouseup=\"window.reset(1600)\">\n",
       "go run hello_world.go\n",
       "</pre>\n",
       "</div>\n"
      ],
      "text/plain": [
       "<IPython.core.display.HTML object>"
      ]
     },
     "metadata": {},
     "output_type": "display_data"
    }
   ],
   "source": [
    "%%html\n",
    "<div style=\"margin-left: 45px; border-style: solid; border-width: 1px; background-color:#F2F2F2; padding: 10px;\" >\n",
    "<pre id=1600 onmousedown=\"window.clipline(1600)\" onmouseup=\"window.reset(1600)\">\n",
    "go run hello_world.go\n",
    "</pre>\n",
    "</div>"
   ]
  },
  {
   "cell_type": "markdown",
   "metadata": {},
   "source": [
    "<a id='connect'></a>\n",
    "## Connect to database SAMPLE\n",
    "\n",
    "You start with a simple program that connects to the `SAMPLE` database. It imports the following packages which are required to deploy the Db2 driver API:\n",
    "```go\n",
    "import _ \"github.com/ibmdb/go_ibm_db\"  \n",
    "import \"database/sql\"  \n",
    "```\n",
    "**Note:** The underscore before the package `github.com/ibmdb/go_ibm_db` is required. It ensures that the `init` function of the package is executed and package-level variables are created.\n",
    "\n",
    "The function `sql.Open()` is executed to setup a database connection. It requires the driver name `go_ibm_db` and the connection string `con` as input parameters. The connection string specifies hostname, port number, database name, user name, and password. \n",
    "If `sql.Open()` was executed successfully, the database handle `db` is initialized. Otherwise it will be set to `nil`. Before the program terminates it calls function `db.Close()`. It closes the database connection and cleans up the database handle.  \n",
    "  \n",
    "Execute the `connect.go` program example from the shell as described in the previous section."
   ]
  },
  {
   "cell_type": "markdown",
   "metadata": {
    "hide_input": false,
    "scrolled": true
   },
   "source": [
    "<!--connect.go-->\n",
    "```go\n",
    "// connect.go\n",
    "\n",
    "package main\n",
    "\n",
    "import (\n",
    "    _ \"github.com/ibmdb/go_ibm_db\"\n",
    "    \"database/sql\"\n",
    "    \"fmt\"\n",
    ")\n",
    "\n",
    "func main(){\n",
    "        con := \"HOSTNAME=localhost;PORT=50000;DATABASE=SAMPLE;UID=DB2INST1;PWD=db2inst1\"\n",
    "        db, err:=sql.Open(\"go_ibm_db\", con)\n",
    "        if err != nil {\n",
    "                fmt.Println(err)\n",
    "        }\n",
    "        fmt.Println(\"Success!\")\n",
    "        db.Close()\n",
    "}\n",
    "```"
   ]
  },
  {
   "cell_type": "code",
   "execution_count": 66,
   "metadata": {
    "hide_input": true,
    "tags": [
     "refresh"
    ]
   },
   "outputs": [
    {
     "data": {
      "text/html": [
       "<div style=\"margin-left: 45px\">\n",
       "<button type=\"button\" onclick=\"window.copySearch('connect.go')\">Copy</button> \n"
      ],
      "text/plain": [
       "<IPython.core.display.HTML object>"
      ]
     },
     "metadata": {},
     "output_type": "display_data"
    }
   ],
   "source": [
    "%%html\n",
    "<div style=\"margin-left: 45px\">\n",
    "<button type=\"button\" onclick=\"window.copySearch('connect.go')\">Copy</button> "
   ]
  },
  {
   "cell_type": "markdown",
   "metadata": {},
   "source": [
    "Now adjust the code to make it more handy to use. Since the database handle `db` is always required to execute a Db2 API function, define the connection related variables `db`, `err`, and `con` outside of function `main()`. This makes sure you can access the database handle in all functions that are defined in package `main`.  \n",
    "\n",
    "Also put the `db.Open()` call into a separate function `connect()`. \n",
    "\n",
    "Finally, make sure that function `db.Close()` is automatically called when function `main()` terminates. Put the `defer` keyword in front of the statement. This makes sure that `db.Close()` is automatically executed as soon as a return statement is executed anywhere in function `main()`.\n",
    "\n",
    "The following program code contains all modifications that are described above. Execute `connect2.go` from the shell."
   ]
  },
  {
   "cell_type": "markdown",
   "metadata": {
    "hide_input": false
   },
   "source": [
    "<!--connect2.go-->\n",
    "```go\n",
    "// connect2.go\n",
    "\n",
    "package main\n",
    "\n",
    "import (\n",
    "    _ \"github.com/ibmdb/go_ibm_db\"\n",
    "    \"database/sql\"\n",
    "    \"fmt\"\n",
    ")\n",
    "\n",
    "var err error\n",
    "var db *sql.DB\n",
    "var con = \"HOSTNAME=localhost;PORT=50000;DATABASE=SAMPLE;UID=DB2INST1;PWD=db2inst1\"\n",
    "\n",
    "func connect() error {\n",
    "        db, err = sql.Open(\"go_ibm_db\", con)\n",
    "        if err != nil {\n",
    "                fmt.Println(err)\n",
    "                return err\n",
    "        }\n",
    "        return nil\n",
    "}\n",
    "\n",
    "func main() {\n",
    "        if connect() != nil { return } else { defer db.Close() }\n",
    "    \n",
    "        fmt.Println(\"Success!\")\n",
    "}\n",
    "```"
   ]
  },
  {
   "cell_type": "code",
   "execution_count": 67,
   "metadata": {
    "hide_input": true,
    "tags": [
     "refresh"
    ]
   },
   "outputs": [
    {
     "data": {
      "text/html": [
       "<div style=\"margin-left: 45px\">\n",
       "<button type=\"button\" onclick=\"window.copySearch('connect2.go')\">Copy</button> \n"
      ],
      "text/plain": [
       "<IPython.core.display.HTML object>"
      ]
     },
     "metadata": {},
     "output_type": "display_data"
    }
   ],
   "source": [
    "%%html\n",
    "<div style=\"margin-left: 45px\">\n",
    "<button type=\"button\" onclick=\"window.copySearch('connect2.go')\">Copy</button> "
   ]
  },
  {
   "cell_type": "markdown",
   "metadata": {},
   "source": [
    "<a id='select_single'></a>\n",
    "## Retrieve a single row from a table\n",
    "\n",
    "In the next example, you use function `db.QueryRow()` to run a query that is expected to return at most one row. If there multiple rows in the query result set,  the function will only access the first row and discard the rest.  \n",
    "  \n",
    "You use the following select statement in this example:  \n",
    "  \n",
    "```sql\n",
    "select count(*) statement from act\n",
    "```\n",
    "\n",
    "This statement always returns exactly one row and returns the number of records in table ACT.\n",
    "\n",
    "The `Scan()` function copies the columns from the current row into the values pointed. Since we expect a single integer value in the query result set, we define variable `count` of type `int32` and pass a pointer to that variable into function `scan()`.  \n",
    "  \n",
    "Execute program `count_in_main.go` from the shell."
   ]
  },
  {
   "cell_type": "markdown",
   "metadata": {
    "hide_input": true
   },
   "source": [
    "<!--count_in_main.go-->\n",
    "```go\n",
    "// count_in_main.go\n",
    "\n",
    "package main\n",
    "\n",
    "import (\n",
    "    _ \"github.com/ibmdb/go_ibm_db\"\n",
    "    \"database/sql\"\n",
    "    \"fmt\"\n",
    ")\n",
    "var err error\n",
    "var db *sql.DB\n",
    "var con = \"HOSTNAME=localhost;PORT=50000;DATABASE=SAMPLE;UID=DB2INST1;PWD=db2inst1\"\n",
    "\n",
    "func connect() error {\n",
    "        db, err = sql.Open(\"go_ibm_db\", con)\n",
    "        if err != nil {\n",
    "                fmt.Println(err)\n",
    "                return err\n",
    "        }\n",
    "        return nil\n",
    "}\n",
    "func main() {\n",
    "        if connect() != nil { return } else { defer db.Close() }\n",
    "\n",
    "        var count int32\n",
    "        err = db.QueryRow(\"SELECT count(*) FROM act\").Scan(&count)\n",
    "        if err != nil {\n",
    "                fmt.Println(err)\n",
    "                return\n",
    "        }\n",
    "        fmt.Println(\"Rowcount=\",count)\n",
    "}\n",
    "```"
   ]
  },
  {
   "cell_type": "code",
   "execution_count": 68,
   "metadata": {
    "hide_input": true,
    "tags": [
     "refresh"
    ]
   },
   "outputs": [
    {
     "data": {
      "text/html": [
       "<div style=\"margin-left: 45px\">\n",
       "<button type=\"button\" onclick=\"window.copySearch('count_in_main.go')\">Copy</button> \n"
      ],
      "text/plain": [
       "<IPython.core.display.HTML object>"
      ]
     },
     "metadata": {},
     "output_type": "display_data"
    }
   ],
   "source": [
    "%%html\n",
    "<div style=\"margin-left: 45px\">\n",
    "<button type=\"button\" onclick=\"window.copySearch('count_in_main.go')\">Copy</button> "
   ]
  },
  {
   "cell_type": "markdown",
   "metadata": {},
   "source": [
    "In the next example, the call to function `db.QueryRow()` is moved into a separate function `count()`. This function expects a tablename as a parameter. It prints the row count of the table and returns parameter `err`. \n",
    "This allows us to check in `main()` if an error occurred in function `count()`."
   ]
  },
  {
   "cell_type": "markdown",
   "metadata": {},
   "source": [
    "<!--count2.go-->\n",
    "```go\n",
    "// count2.go\n",
    "\n",
    "package main\n",
    "import (\n",
    "    _ \"github.com/ibmdb/go_ibm_db\"\n",
    "    \"database/sql\"\n",
    "    \"fmt\"\n",
    ")\n",
    "var err error\n",
    "var db *sql.DB\n",
    "var con = \"HOSTNAME=localhost;PORT=50000;DATABASE=SAMPLE;UID=DB2INST1;PWD=db2inst1\"\n",
    "\n",
    "func connect() error {\n",
    "        db, err = sql.Open(\"go_ibm_db\", con)\n",
    "        if err != nil {\n",
    "                fmt.Println(err)\n",
    "                return err\n",
    "        }\n",
    "        return nil\n",
    "}\n",
    "func count(tabname string) error { \n",
    "        var count int32\n",
    "        err = db.QueryRow(\"SELECT count(*) FROM \"+tabname).Scan(&count)\n",
    "        if err != nil {\n",
    "                fmt.Println(err)\n",
    "                return err\n",
    "        }       \n",
    "        fmt.Printf(\"Table \\\"%s\\\" contains %d rows.\\n\",tabname,count)\n",
    "        return nil\n",
    "}\n",
    "\n",
    "func main() {\n",
    "        if connect() != nil { return } else { defer db.Close() }\n",
    "\n",
    "        count(\"ACT\")\n",
    "        count(\"DEPARTMENT\")\n",
    "        count(\"EMPLOYEE\")\n",
    "        count(\"null\")\n",
    "        count(\"ORG\")\n",
    "}\n",
    "```"
   ]
  },
  {
   "cell_type": "code",
   "execution_count": 69,
   "metadata": {
    "hide_input": true,
    "tags": [
     "refresh"
    ]
   },
   "outputs": [
    {
     "data": {
      "text/html": [
       "<div style=\"margin-left: 45px\">\n",
       "<button type=\"button\" onclick=\"window.copySearch('count2.go')\">Copy</button> \n"
      ],
      "text/plain": [
       "<IPython.core.display.HTML object>"
      ]
     },
     "metadata": {},
     "output_type": "display_data"
    }
   ],
   "source": [
    "%%html\n",
    "<div style=\"margin-left: 45px\">\n",
    "<button type=\"button\" onclick=\"window.copySearch('count2.go')\">Copy</button> "
   ]
  },
  {
   "cell_type": "markdown",
   "metadata": {},
   "source": [
    "You see that one of the table names in the list is invalid (\"`null`\"). In this case the program just prints an error message and continues to process. You could also do additional error handling in function `main()`. For example, you could remove the `Printf()` statement in function `count()` and then invoke `count()` in function `main()` as follows:  \n",
    "```go\n",
    "if count(\"ACT\") != nil { fmt.Printf(\"Error in function count()\") }\n",
    "```\n",
    "Try to rewrite program `count2.go`. Create a new program `count3.go` that performs the following steps:\n",
    "- Stores the tablenames in a dynamic array\n",
    "- Iterates over the array\n",
    "- Passes each table name to function `count()`\n",
    "- Checks the return value of function `count()` and does the error handling in function `main()`.\n",
    "\n",
    "You will find the corresponding program `count3.go` at the end of this notebook."
   ]
  },
  {
   "cell_type": "markdown",
   "metadata": {},
   "source": [
    "<a id='fetch'></a>\n",
    "## Execute a query and fetch the result set\n",
    "\n",
    "Next, you learn how to run a `SELECT` statement that returns more than one row. In this example, we use the following select statement:  \n",
    "  \n",
    " ```sql\n",
    " select userid,role from roles\n",
    " ```  \n",
    "  \n",
    "Function `db.Query()` prepares and executes the `SELECT` statement. Function `rows.Next()` iterates over the result set and prepares the next result row for reading with the `Scan()` api. Since the `SELECT` statement returns two values in each row of the result set, we define variables `a` and `b` and pass their address to function `Scan()`. The function copies the columns from the current row into variables `a` and `b`.\n",
    "\n",
    "Execute program `fetch_rows.go` from the shell. The program will abort with an error. Try to modify the program code and fix the error."
   ]
  },
  {
   "cell_type": "markdown",
   "metadata": {},
   "source": [
    "<!--fetch_rows.go-->\n",
    "```go\n",
    "// fetch_rows.go\n",
    "\n",
    "package main\n",
    "import (\n",
    "    _ \"github.com/ibmdb/go_ibm_db\"\n",
    "    \"database/sql\"\n",
    "    \"fmt\"\n",
    ")\n",
    "var err error\n",
    "var db *sql.DB\n",
    "var con = \"HOSTNAME=localhost;PORT=50000;DATABASE=SAMPLE;UID=DB2INST1;PWD=db2inst1\"\n",
    "\n",
    "func connect() error {\n",
    "        db, err = sql.Open(\"go_ibm_db\", con)\n",
    "        if err != nil {\n",
    "                fmt.Println(err)\n",
    "                return err\n",
    "        }\n",
    "        return nil\n",
    "}\n",
    "\n",
    "func main() {\n",
    "        if connect() != nil { return } else { defer db.Close() }\n",
    "\n",
    "        rows,err := db.Query(\"select userid,role from roles\")\n",
    "        if err != nil {\n",
    "                return\n",
    "        }\n",
    "        // make sure that the \"rows\" handle is released when main returns\n",
    "        defer rows.Close()\n",
    "\n",
    "        // iterate over all rows in the query result\n",
    "        var a,b int32\n",
    "        for rows.Next() {\n",
    "                err = rows.Scan(&a,&b)\n",
    "                if err != nil{\n",
    "                        fmt.Println(err)\n",
    "                        return\n",
    "                }\n",
    "                fmt.Printf(\"%s  %s\\n\",a,b)\n",
    "        }\n",
    "}\n",
    "```"
   ]
  },
  {
   "cell_type": "code",
   "execution_count": 70,
   "metadata": {
    "hide_input": true,
    "tags": [
     "refresh"
    ]
   },
   "outputs": [
    {
     "data": {
      "text/html": [
       "<div style=\"margin-left: 45px\">\n",
       "<button type=\"button\" onclick=\"window.copySearch('fetch_rows.go')\">Copy</button> \n"
      ],
      "text/plain": [
       "<IPython.core.display.HTML object>"
      ]
     },
     "metadata": {},
     "output_type": "display_data"
    }
   ],
   "source": [
    "%%html\n",
    "<div style=\"margin-left: 45px\">\n",
    "<button type=\"button\" onclick=\"window.copySearch('fetch_rows.go')\">Copy</button> "
   ]
  },
  {
   "cell_type": "markdown",
   "metadata": {},
   "source": [
    "The program aborts with the following error message:  \n",
    "  \n",
    "```go\n",
    "sql: Scan error on column index 0, name \"USERID\": converting driver.Value type []uint8 (\"JAMES\") to a int32: invalid syntax\n",
    "```\n",
    "  \n",
    "You can fix the problem by changing the type of variables `a` and `b`. They are declared as `int32`. Since the `SELECT` statement returns string values the variables should be of type `string`."
   ]
  },
  {
   "cell_type": "markdown",
   "metadata": {},
   "source": [
    "<a id='fetch_columns'></a>\n",
    "## Retrieve the column names from the result set\n",
    "\n",
    "Db2 provides the option to rename table columns. So the names of columns may change over time. Therefore, it can be useful to retrieve the current column names from a table. \n",
    "\n",
    "To retrieve the column names, we use an SQL query that selects all columns from the table and retrieves one row only:  \n",
    "  \n",
    " ```sql\n",
    " select * from employee fetch first 1 row only\n",
    " ```  \n",
    "   \n",
    "   \n",
    "We use function `db.Query()` to execute that query. The function returns a handle to the query result (`rows`):\n",
    "\n",
    " ```go\n",
    " rows,err := db.Query(\"select * from employee fetch first 1 row only\")\n",
    " ```  \n",
    "  \n",
    "We then use handle `rows` to retrieve the column names. Function `rows.Columns()` stores the column names in a dynamically created array:  \n",
    "  \n",
    " ```go\n",
    " cols, err := rows.Columns()\n",
    " ```\n",
    "  \n",
    "We can use function `Printf()` to print the whole array at once:  \n",
    "  \n",
    " ```go\n",
    " fmt.Printf(\"%v\\n\",cols) \n",
    " ```\n",
    "  \n",
    "Alternatively, we can use the `range` operator to iterate over the array and print each element on a separate line. There are different ways to use the range operator:  \n",
    " ```go  \n",
    " for _,name := range cols { ... }\n",
    " for idx,name := range cols { ... }\n",
    " ```  \n",
    "\n",
    "In our example, we use the first form which only retrieves the elements of the array `cols`. Alternatively, you can also retrieve the index value of each array element. Execute program `get_columns.go` from the shell. "
   ]
  },
  {
   "cell_type": "markdown",
   "metadata": {},
   "source": [
    "<!--get_columns.go-->\n",
    "```go\n",
    "// get_columns.go\n",
    "\n",
    "package main\n",
    "import (\n",
    "    _ \"github.com/ibmdb/go_ibm_db\"\n",
    "    \"database/sql\"\n",
    "    \"fmt\"\n",
    ")\n",
    "\n",
    "var err error\n",
    "var db *sql.DB\n",
    "var con = \"HOSTNAME=localhost;PORT=50000;DATABASE=SAMPLE;UID=DB2INST1;PWD=db2inst1\"\n",
    "\n",
    "func connect() error {\n",
    "        db, err = sql.Open(\"go_ibm_db\", con)\n",
    "        if err != nil {\n",
    "                fmt.Println(err)\n",
    "                return err\n",
    "        }\n",
    "        return nil\n",
    "}\n",
    "func main() {\n",
    "        if connect() != nil { return } else { defer db.Close() }\n",
    "\n",
    "        rows,err := db.Query(\"select * from employee fetch first 1 row only\")\n",
    "        if err != nil {\n",
    "                fmt.Printf(\"db.Query(): error!\")\n",
    "                return\n",
    "        }\n",
    "        // make sure that the \"rows\" handle is released when main returns\n",
    "        defer rows.Close()\n",
    "\n",
    "        cols, err := rows.Columns()\n",
    "        fmt.Println(\"Number of columns: \",len(cols))\n",
    "        // print the whole array at once\n",
    "        fmt.Printf(\"%v\\n\",cols)\n",
    "        // print each column name on a separate line\n",
    "        for _,name := range cols {\n",
    "                fmt.Printf(\"%s\\n\",name)\n",
    "        }\n",
    "}\n",
    "```"
   ]
  },
  {
   "cell_type": "code",
   "execution_count": 71,
   "metadata": {
    "hide_input": true,
    "tags": [
     "refresh"
    ]
   },
   "outputs": [
    {
     "data": {
      "text/html": [
       "<div style=\"margin-left: 45px\">\n",
       "<button type=\"button\" onclick=\"window.copySearch('get_columns.go')\">Copy</button> \n"
      ],
      "text/plain": [
       "<IPython.core.display.HTML object>"
      ]
     },
     "metadata": {},
     "output_type": "display_data"
    }
   ],
   "source": [
    "%%html\n",
    "<div style=\"margin-left: 45px\">\n",
    "<button type=\"button\" onclick=\"window.copySearch('get_columns.go')\">Copy</button> "
   ]
  },
  {
   "cell_type": "markdown",
   "metadata": {},
   "source": [
    "<a id='solutions'></a>\n",
    "## Additional sample programs"
   ]
  },
  {
   "cell_type": "markdown",
   "metadata": {},
   "source": [
    "<a id='count3.go'></a>\n",
    "### count3.go"
   ]
  },
  {
   "cell_type": "markdown",
   "metadata": {
    "hide_input": false
   },
   "source": [
    "<!--count3.go-->\n",
    "```go\n",
    "// count3.go\n",
    "\n",
    "package main\n",
    "import (\n",
    "    _ \"github.com/ibmdb/go_ibm_db\"\n",
    "    \"database/sql\"\n",
    "    \"fmt\"\n",
    ")\n",
    "var err error\n",
    "var db *sql.DB\n",
    "var con = \"HOSTNAME=localhost;PORT=50000;DATABASE=SAMPLE;UID=DB2INST1;PWD=db2inst1\"\n",
    "\n",
    "func connect() error {\n",
    "        db, err = sql.Open(\"go_ibm_db\", con)\n",
    "        if err != nil {\n",
    "                fmt.Println(err)\n",
    "                return err\n",
    "        }\n",
    "        return nil\n",
    "}\n",
    "\n",
    "func count(tabname string) error {\n",
    "        var count int32\n",
    "        err = db.QueryRow(\"SELECT count(*) FROM \"+tabname).Scan(&count)\n",
    "        if err != nil {\n",
    "                return err\n",
    "        }\n",
    "        fmt.Printf(\"Table \\\"%s\\\" contains %d rows.\\n\",tabname,count)\n",
    "        return nil\n",
    "}\n",
    "\n",
    "func main() {\n",
    "        if connect() != nil { return } else { defer db.Close() }\n",
    "\n",
    "        tabs := []string{\"ACT\",\"EMPLOYEE\",\"null\",\"ROLES\",\"SALES\",\"ORG\",\"STAFF\"}\n",
    "        for index, tab := range tabs {\n",
    "                fmt.Printf(\"%d\\n\", index)\n",
    "                err = count(tab)\n",
    "                if err != nil { fmt.Println(err) }\n",
    "        }\n",
    "}\n",
    "```"
   ]
  },
  {
   "cell_type": "code",
   "execution_count": 72,
   "metadata": {
    "hide_input": true,
    "tags": [
     "refresh"
    ]
   },
   "outputs": [
    {
     "data": {
      "text/html": [
       "<div style=\"margin-left: 45px\">\n",
       "<button type=\"button\" onclick=\"window.copySearch('count3.go')\">Copy</button> \n"
      ],
      "text/plain": [
       "<IPython.core.display.HTML object>"
      ]
     },
     "metadata": {},
     "output_type": "display_data"
    }
   ],
   "source": [
    "%%html\n",
    "<div style=\"margin-left: 45px\">\n",
    "<button type=\"button\" onclick=\"window.copySearch('count3.go')\">Copy</button> "
   ]
  },
  {
   "cell_type": "markdown",
   "metadata": {},
   "source": [
    "#### Credits: IBM 2019, Andreas Christian [achristian@de.ibm.com]"
   ]
  }
 ],
 "metadata": {
  "kernelspec": {
   "display_name": "Python 3",
   "language": "python",
   "name": "python3"
  },
  "language_info": {
   "codemirror_mode": {
    "name": "ipython",
    "version": 3
   },
   "file_extension": ".py",
   "mimetype": "text/x-python",
   "name": "python",
   "nbconvert_exporter": "python",
   "pygments_lexer": "ipython3",
   "version": "3.7.4"
  }
 },
 "nbformat": 4,
 "nbformat_minor": 2
}
