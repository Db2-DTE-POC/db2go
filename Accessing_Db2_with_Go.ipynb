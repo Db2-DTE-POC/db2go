{
 "cells": [
  {
   "cell_type": "markdown",
   "metadata": {},
   "source": [
    "# Accessing Db2 with Go\n",
    "\n",
    "This lab uses the **go_ibm_db** cli driver, which is already installed in the lab environment. The driver can be used to develop applications that are running on Linux, Mac, or Windows environments. It provides an interface for GoLang to Db2 for z/OS, Db2 for LUW, and Db2 for i.  \n",
    "  \n",
    "If you want to use the driver in your own environment you can [download it from GitHub](https://github.com/ibmdb/go_ibm_db). \n",
    "\n",
    "The cli driver allows you to run `dynamic SQL statements`. The labs include program examples that run SQL statements with `literals` and also SQL statements with `parameter markers` in the WHERE clauses. "
   ]
  },
  {
   "cell_type": "markdown",
   "metadata": {},
   "source": [
    "**Note**: Click on the next cell and press **Shift-Return** to refresh all of the examples in this notebook."
   ]
  },
  {
   "cell_type": "code",
   "execution_count": 27,
   "metadata": {
    "run_control": {}
   },
   "outputs": [
    {
     "data": {
      "application/javascript": [
       "\n",
       "// Scan the entire notebook for cells that have refresh tags and execute them\n",
       "\n",
       "window.findCellIndicesByTag = function findCellIndicesByTag(tagName) {\n",
       "  return (Jupyter.notebook.get_cells()\n",
       "    .filter(\n",
       "      ({metadata: {tags}}) => tags && tags.includes(tagName)\n",
       "    )\n",
       "    .map((cell) => Jupyter.notebook.find_cell_index(cell))\n",
       "  );\n",
       "};\n",
       "\n",
       "window.refresh = function runRefreshCells() {\n",
       "    var c = window.findCellIndicesByTag('refresh');\n",
       "    Jupyter.notebook.execute_cells(c);\n",
       "};\n",
       "\n",
       "\n",
       "// Search for a Markdown cell that contains a comment line with the name of the code we are looking for\n",
       "\n",
       "window.copySearch = function copySearch(id) {\n",
       "    var cells = Jupyter.notebook.get_cells();\n",
       "    for(var i in cells) {\n",
       "        var cell = cells[i];\n",
       "        if (cell['cell_type'] == 'markdown') {\n",
       "            var text = cell.get_text();\n",
       "            var n = text.search(\"<!--\"+id+\"-->\");\n",
       "            if (n != -1) {  \n",
       "                var content = text.replace(/(^<!.*-->.*\\n?)|(```.*\\n?)/g, \"\");\n",
       "                navigator.clipboard.writeText(content);  \n",
       "                return\n",
       "                }\n",
       "        }\n",
       "    }\n",
       "    navigator.clipboard.writeText(\"Cell \" + id + \" not found\"); \n",
       "}\n",
       "\n",
       "// Highlight the background of the current cell and copy the contents onto the clipboard\n",
       "\n",
       "window.clipline = function clipline(codeIndex) {\n",
       "    var cell = document.getElementById(codeIndex);\n",
       "    var code = cell.textContent;\n",
       "    var parent = cell.parentNode;\n",
       "    parent.style.backgroundColor = \"#6699FF\"; // backcolor\n",
       "    navigator.clipboard.writeText(code);\n",
       "}\n",
       "\n",
       "window.reset = function reset(codeIndex) {\n",
       "    var cell = document.getElementById(codeIndex);\n",
       "    var parent = cell.parentNode;\n",
       "    parent.style.backgroundColor = \"#F2F2F2\" // backcolor\n",
       "}\n"
      ],
      "text/plain": [
       "<IPython.core.display.Javascript object>"
      ]
     },
     "metadata": {},
     "output_type": "display_data"
    },
    {
     "data": {
      "application/javascript": [
       "window.refresh()"
      ],
      "text/plain": [
       "<IPython.core.display.Javascript object>"
      ]
     },
     "metadata": {},
     "output_type": "display_data"
    }
   ],
   "source": [
    "%run refresh.ipynb"
   ]
  },
  {
   "cell_type": "markdown",
   "metadata": {},
   "source": [
    "## Table of Contents\n",
    "\n",
    "* [Overview of the Db2-Go Lab Environment](#overview)\n",
    "    * [How to Copy Code and Examples](#copy)\n",
    "    * [GO Language Environment](#golangenv)\n",
    "    * [Optional: Exploring the Contents of the Database](#exploredb)\n",
    "    * [Optional: View the Database Contents Using Db2 Jupyter Extensions](#exploredbext)\n",
    "* [Connect to Database SAMPLE](#connect)\n",
    "* [Retrieve a Single Row from a Table](#select_single)\n",
    "* [Execute a Query and Fetch the Result Set](#fetch)\n",
    "* [Prepare and Execute with Parameter Markers](#markers)\n",
    "* [Retrieve the Column Names from the Result Set](#fetch_columns)\n",
    "* [Create a Table](#cre_tab)\n",
    "* [Insert a Row](#insert)\n",
    "* [Insert Multiple Rows](#insert_prep)\n",
    "* [Update a Row](#update)\n",
    "* [Delete Rows](#delete)\n",
    "* [Perform Multiple Changes](#update_multiple)\n",
    "* [Perform Multiple Changes in a Unit of Work](#update_multiple_uow)\n",
    "* [Additional sample Programs](#solutions)\n",
    "\n",
    "    * [count3.go](#count3.go)"
   ]
  },
  {
   "cell_type": "markdown",
   "metadata": {},
   "source": [
    "<a id='overview'></a>\n",
    "## Overview of the Db2-Go Lab Environment"
   ]
  },
  {
   "cell_type": "markdown",
   "metadata": {},
   "source": [
    "<a id='copy'></a>\n",
    "### How to Copy Code and Examples\n",
    "Throughout this lab there are code samples that need to be copied and modified in a text editor. Any commands that need to be executed from a command line are found in grey boxes (an example is found below) has been designed to be easily copied."
   ]
  },
  {
   "cell_type": "code",
   "execution_count": 28,
   "metadata": {
    "hide_input": true,
    "tags": [
     "refresh"
    ]
   },
   "outputs": [
    {
     "data": {
      "text/html": [
       "<div style=\"margin-left: 35px; border-style: solid; border-width: 1px; background-color:#F2F2F2; padding: 10px;\" >\n",
       "<pre id=111 onmousedown=\"window.clipline(111)\" onmouseup=\"window.reset(111)\">\n",
       "Sample commands are found in cells like this.\n",
       "</pre>\n",
       "</div>\n"
      ],
      "text/plain": [
       "<IPython.core.display.HTML object>"
      ]
     },
     "metadata": {},
     "output_type": "display_data"
    }
   ],
   "source": [
    "%%html\n",
    "<div style=\"margin-left: 35px; border-style: solid; border-width: 1px; background-color:#F2F2F2; padding: 10px;\" >\n",
    "<pre id=111 onmousedown=\"window.clipline(111)\" onmouseup=\"window.reset(111)\">\n",
    "Sample commands are found in cells like this.\n",
    "</pre>\n",
    "</div>"
   ]
  },
  {
   "cell_type": "markdown",
   "metadata": {},
   "source": [
    "The entire contents of the text in the cell will be automatically copied when you click on the cell. The color of the background will change color briefly to indicate that the copy has completed. To paste commands into a terminal window, use the key combination **Control-Shift-v**. \n",
    "\n",
    "Code blocks that are meant to be placed into an editor will have a **COPY** button found at the bottom of the text. You can manually select the text you want to copy, or use the **COPY** button to place the entire contents onto the clipboard. "
   ]
  },
  {
   "cell_type": "markdown",
   "metadata": {},
   "source": [
    "<!--sample.code-->\n",
    "```go\n",
    "If (code == sample) then\n",
    "   place onto clipboard\n",
    "else\n",
    "   ignore\n",
    "end if\n",
    "```"
   ]
  },
  {
   "cell_type": "code",
   "execution_count": 29,
   "metadata": {
    "hide_input": true,
    "scrolled": true,
    "tags": [
     "refresh"
    ]
   },
   "outputs": [
    {
     "data": {
      "text/html": [
       "<div style=\"margin-left: 45px\">\n",
       "<button type=\"button\" onclick=\"window.copySearch('sample.code')\">Copy</button> \n"
      ],
      "text/plain": [
       "<IPython.core.display.HTML object>"
      ]
     },
     "metadata": {},
     "output_type": "display_data"
    }
   ],
   "source": [
    "%%html\n",
    "<div style=\"margin-left: 45px\">\n",
    "<button type=\"button\" onclick=\"window.copySearch('sample.code')\">Copy</button> "
   ]
  },
  {
   "cell_type": "markdown",
   "metadata": {},
   "source": [
    "<a id='golangenv'></a>\n",
    "### GO Language Environment"
   ]
  },
  {
   "cell_type": "markdown",
   "metadata": {},
   "source": [
    "The following variables should be set in your Linux environment:\n",
    "```\n",
    "DB2HOME='/home/db2pot/go/src/github.com/ibmdb/go_ibm_db/installer/clidriver'\n",
    "CGO_CFLAGS=-I$DB2HOME/include\n",
    "CGO_LDFLAGS=-L$DB2HOME/lib\n",
    "LD_LIBRARY_PATH='/home/db2pot/go/src/github.com/ibmdb/go_ibm_db/installer/clidriver/lib'\n",
    "```\n",
    "\n",
    "For OSX you require the following environment setting.\n",
    "```bash\n",
    "DYLD_LIBRARY_PATH=$DYLD_LIBRARY_PATH:/home/db2pot/go/src/github.com/ibmdb/go_ibm_db/installer/clidriver/lib\n",
    "```\n",
    "\n",
    "Before you start, make sure that the environment is set up correctly:\n",
    "- Open a Linux shell\n",
    "   ![](./media/terminal-selected.png)\n",
    "\n",
    "\n",
    "- If you are not already logged on as user `db2pot`, switch to user `db2pot` (password: `123qwe123`). \n",
    "<br><p>**Note:** Execute all Go program examples as user **db2pot**.    "
   ]
  },
  {
   "cell_type": "code",
   "execution_count": 30,
   "metadata": {
    "hide_input": true,
    "tags": [
     "refresh"
    ]
   },
   "outputs": [
    {
     "data": {
      "text/html": [
       "<div style=\"margin-left: 45px; border-style: solid; border-width: 1px; background-color:#F2F2F2; padding: 10px;\" >\n",
       "<pre id=1000 onmousedown=\"window.clipline(1000)\" onmouseup=\"window.reset(1000)\">\n",
       "su - db2pot\n",
       "</pre>\n",
       "</div>\n"
      ],
      "text/plain": [
       "<IPython.core.display.HTML object>"
      ]
     },
     "metadata": {},
     "output_type": "display_data"
    }
   ],
   "source": [
    "%%html\n",
    "<div style=\"margin-left: 45px; border-style: solid; border-width: 1px; background-color:#F2F2F2; padding: 10px;\" >\n",
    "<pre id=1000 onmousedown=\"window.clipline(1000)\" onmouseup=\"window.reset(1000)\">\n",
    "su - db2pot\n",
    "</pre>\n",
    "</div>"
   ]
  },
  {
   "cell_type": "markdown",
   "metadata": {},
   "source": [
    "- Verify that the above listed environment variables are set in your environment. To check the value of an environment variable, for example `LD_LIBRARY_PATH`, run the following command: \n",
    "```\n",
    "export|grep LD_LIBRARY_PATH\n",
    "```"
   ]
  },
  {
   "cell_type": "code",
   "execution_count": 31,
   "metadata": {
    "hide_input": true,
    "tags": [
     "refresh"
    ]
   },
   "outputs": [
    {
     "data": {
      "text/html": [
       "<div style=\"margin-left: 45px; border-style: solid; border-width: 1px; background-color:#F2F2F2; padding: 10px;\" >\n",
       "<pre id=1100 onmousedown=\"window.clipline(1100)\" onmouseup=\"window.reset(1100)\">\n",
       "export | grep DB2HOME\n",
       "</pre>\n",
       "</div>\n"
      ],
      "text/plain": [
       "<IPython.core.display.HTML object>"
      ]
     },
     "metadata": {},
     "output_type": "display_data"
    }
   ],
   "source": [
    "%%html\n",
    "<div style=\"margin-left: 45px; border-style: solid; border-width: 1px; background-color:#F2F2F2; padding: 10px;\" >\n",
    "<pre id=1100 onmousedown=\"window.clipline(1100)\" onmouseup=\"window.reset(1100)\">\n",
    "export | grep DB2HOME\n",
    "</pre>\n",
    "</div>"
   ]
  },
  {
   "cell_type": "markdown",
   "metadata": {
    "hide_input": false
   },
   "source": [
    "- The environment variables are defined in file `.profile` in directory `/home/db2pot`. Use the following command to show the contents of the file:\n",
    "```\n",
    "more /home/db2pot/.profile\n",
    "```"
   ]
  },
  {
   "cell_type": "markdown",
   "metadata": {},
   "source": [
    "- To define an environment variable use the `export` command. For example, to define `LD_LIBRARY_PATH` use the following command:\n",
    "```\n",
    "export LD_LIBRARY_PATH='/home/db2inst1/sqllib/lib64:/home/db2inst1/sqllib/lib64/gskit:/home/db2inst1/sqllib/lib32'\n",
    "```"
   ]
  },
  {
   "cell_type": "code",
   "execution_count": 32,
   "metadata": {
    "hide_input": true,
    "tags": [
     "refresh"
    ]
   },
   "outputs": [
    {
     "data": {
      "text/html": [
       "<div style=\"margin-left: 45px; border-style: solid; border-width: 1px; background-color:#F2F2F2; padding: 10px;\" >\n",
       "<pre id=1200 onmousedown=\"window.clipline(1200)\" onmouseup=\"window.reset(1200)\">\n",
       "more /home/db2pot/.profile\n",
       "</pre>\n",
       "</div>\n"
      ],
      "text/plain": [
       "<IPython.core.display.HTML object>"
      ]
     },
     "metadata": {},
     "output_type": "display_data"
    }
   ],
   "source": [
    "%%html\n",
    "<div style=\"margin-left: 45px; border-style: solid; border-width: 1px; background-color:#F2F2F2; padding: 10px;\" >\n",
    "<pre id=1200 onmousedown=\"window.clipline(1200)\" onmouseup=\"window.reset(1200)\">\n",
    "more /home/db2pot/.profile\n",
    "</pre>\n",
    "</div>"
   ]
  },
  {
   "cell_type": "markdown",
   "metadata": {},
   "source": [
    "Execute all program examples from the Linux shell. To execute a program, take the following steps:\n",
    "\n",
    "- Create directory `Labs` in the home directory of user db2pot (**Note:** This may already be done for you):  "
   ]
  },
  {
   "cell_type": "code",
   "execution_count": 33,
   "metadata": {
    "hide_input": true,
    "tags": [
     "refresh"
    ]
   },
   "outputs": [
    {
     "data": {
      "text/html": [
       "<div style=\"margin-left: 45px; border-style: solid; border-width: 1px; background-color:#F2F2F2; padding: 10px;\" >\n",
       "<pre id=1300 onmousedown=\"window.clipline(1300)\" onmouseup=\"window.reset(1300)\">\n",
       "cd /home/db2pot\n",
       "mkdir Labs\n",
       "</pre>\n",
       "</div>\n"
      ],
      "text/plain": [
       "<IPython.core.display.HTML object>"
      ]
     },
     "metadata": {},
     "output_type": "display_data"
    }
   ],
   "source": [
    "%%html\n",
    "<div style=\"margin-left: 45px; border-style: solid; border-width: 1px; background-color:#F2F2F2; padding: 10px;\" >\n",
    "<pre id=1300 onmousedown=\"window.clipline(1300)\" onmouseup=\"window.reset(1300)\">\n",
    "cd /home/db2pot\n",
    "mkdir Labs\n",
    "</pre>\n",
    "</div>"
   ]
  },
  {
   "cell_type": "code",
   "execution_count": 34,
   "metadata": {
    "hide_input": true,
    "tags": [
     "refresh"
    ]
   },
   "outputs": [
    {
     "data": {
      "text/html": [
       "<div style=\"margin-left: 45px; border-style: solid; border-width: 1px; background-color:#F2F2F2; padding: 10px;\" >\n",
       "<pre id=1400 onmousedown=\"window.clipline(1400)\" onmouseup=\"window.reset(1400)\">\n",
       "cd /home/db2pot/Labs\n",
       "leafpad hello_world.go &\n",
       "</pre>\n",
       "</div>\n"
      ],
      "text/plain": [
       "<IPython.core.display.HTML object>"
      ]
     },
     "metadata": {},
     "output_type": "display_data"
    }
   ],
   "source": [
    "%%html\n",
    "<div style=\"margin-left: 45px; border-style: solid; border-width: 1px; background-color:#F2F2F2; padding: 10px;\" >\n",
    "<pre id=1400 onmousedown=\"window.clipline(1400)\" onmouseup=\"window.reset(1400)\">\n",
    "cd /home/db2pot/Labs\n",
    "leafpad hello_world.go &\n",
    "</pre>\n",
    "</div>"
   ]
  },
  {
   "cell_type": "markdown",
   "metadata": {},
   "source": [
    "- Copy and paste the program code to the leafpad editor. The `leafpad` editor can be found in the task bar if you need to access it outside of a command line.\n",
    "   ![](./media/leafpad-selected.png)\n",
    "   The first line of each program example shows the program name that should be used when you create the corresponding program file. For example, you would save the following program code in a file named ```hello_world.go```."
   ]
  },
  {
   "cell_type": "markdown",
   "metadata": {
    "hide_input": true
   },
   "source": [
    "<!--hello_world.go-->\n",
    "```go\n",
    "// hello_world.go\n",
    "package main\n",
    "import \"fmt\"\n",
    "func main() {\n",
    "    fmt.Println(\"Hello world\")\n",
    "}\n",
    "```"
   ]
  },
  {
   "cell_type": "code",
   "execution_count": 35,
   "metadata": {
    "hide_input": true,
    "tags": [
     "refresh"
    ]
   },
   "outputs": [
    {
     "data": {
      "text/html": [
       "<div style=\"margin-left: 45px\">\n",
       "<button type=\"button\" onclick=\"window.copySearch('hello_world.go')\">Copy</button> \n"
      ],
      "text/plain": [
       "<IPython.core.display.HTML object>"
      ]
     },
     "metadata": {},
     "output_type": "display_data"
    }
   ],
   "source": [
    "%%html\n",
    "<div style=\"margin-left: 45px\">\n",
    "<button type=\"button\" onclick=\"window.copySearch('hello_world.go')\">Copy</button> "
   ]
  },
  {
   "cell_type": "markdown",
   "metadata": {
    "hide_input": true
   },
   "source": [
    "- Click the `Save` button and save the program to directory ```/home/db2pot/Labs``` with the proper program name (`hello_world.go` in this example).\n",
    "\n",
    "\n",
    "- Open a Shell window and execute the program as follows:\n",
    "\n",
    "```\n",
    "cd /home/db2pot/Labs\n",
    "go run hello_world.go\n",
    "```"
   ]
  },
  {
   "cell_type": "code",
   "execution_count": 36,
   "metadata": {
    "hide_input": true,
    "scrolled": true,
    "tags": [
     "refresh"
    ]
   },
   "outputs": [
    {
     "data": {
      "text/html": [
       "<div style=\"margin-left: 45px; border-style: solid; border-width: 1px; background-color:#F2F2F2; padding: 10px;\" >\n",
       "<pre id=1600 onmousedown=\"window.clipline(1600)\" onmouseup=\"window.reset(1600)\">\n",
       "go run hello_world.go\n",
       "</pre>\n",
       "</div>\n"
      ],
      "text/plain": [
       "<IPython.core.display.HTML object>"
      ]
     },
     "metadata": {},
     "output_type": "display_data"
    }
   ],
   "source": [
    "%%html\n",
    "<div style=\"margin-left: 45px; border-style: solid; border-width: 1px; background-color:#F2F2F2; padding: 10px;\" >\n",
    "<pre id=1600 onmousedown=\"window.clipline(1600)\" onmouseup=\"window.reset(1600)\">\n",
    "go run hello_world.go\n",
    "</pre>\n",
    "</div>"
   ]
  },
  {
   "cell_type": "markdown",
   "metadata": {},
   "source": [
    "Now you are ready to [start with the first Db2-Go tutorial](#connect) that explains how to connect to the SAMPLE database using GO language. Optionally, you can also explore the sample database as described in the following two sections. This is not a prerequisite for the Db2-Go tutorials."
   ]
  },
  {
   "cell_type": "markdown",
   "metadata": {},
   "source": [
    "<a id='exploredb'></a>\n",
    "### Optional: Exploring the Contents of the Database\n",
    "\n",
    "You use database **SAMPLE** for the Db2-Go tutorials. The database is already installed in the lab environment. You can check [the schema description of the database](https://www.ibm.com/support/knowledgecenter/en/SSEPGG_11.1.0/com.ibm.db2.luw.apdv.samptop.doc/doc/r0001094.html).\n",
    "Below is a list of the tables that are used in the labs together with the corresponding number of rows and columns.\n",
    "\n",
    "| Tables                 | Number of Rows          | Number of Columns  |\n",
    "|:---------------------- |:------------------------|:-------------------|\n",
    "|ACT|18|3|\n",
    "|DEPARTMENT|14|5|\n",
    "|EMPLOYEE  |42|14|\n",
    "|EMPPROJACT|73|6|\n",
    "|ORG|8|5|\n",
    "|PROJECT|20|9|\n",
    "|ROLES|11|2|\n",
    "|SALES|41|4|\n",
    "|STAFF|3|7|"
   ]
  },
  {
   "cell_type": "markdown",
   "metadata": {},
   "source": [
    "You can explore the database using either the Db2 command line, Visual Studio Code, or the Db2 Jupyter notebook extensions. To explore the database from the Db2 command line perform the following steps.\n",
    "\n",
    "1) Open a shell window (click the *terminal* icon in the task bar below the Linux desktop) \n",
    "   ![](./media/terminal-selected.png)\n",
    "\n",
    "   Use the following technique to make it easier to switch between a Jupyter notebook and the command line. When you open up the terminal window, right click on the title bar and select `Always on Top`. This will keep the terminal window on top of your Jupyter notebook so you can easily move between the two environments.\n",
    "   \n",
    "   ![](./media/alwaysontop.png)\n",
    "   \n",
    "   Remember to use `Shift-Control-v` when copying text into a command window.\n",
    "\n",
    "\n",
    "2) Switch to user **db2inst1** (password: **db2inst1**). You can use the **db2pot** user to issue Db2 commands, but you will need to connect as user **DB2INST1**. "
   ]
  },
  {
   "cell_type": "code",
   "execution_count": 37,
   "metadata": {
    "hide_input": true,
    "scrolled": true,
    "tags": [
     "refresh"
    ]
   },
   "outputs": [
    {
     "data": {
      "text/html": [
       "<div style=\"margin-left: 35px; border-style: solid; border-width: 1px; background-color:#F2F2F2; padding: 10px;\" >\n",
       "<pre id=100 onmousedown=\"window.clipline(100)\" onmouseup=\"window.reset(100)\">\n",
       "su - db2inst1\n",
       "</pre>\n",
       "</div>\n"
      ],
      "text/plain": [
       "<IPython.core.display.HTML object>"
      ]
     },
     "metadata": {},
     "output_type": "display_data"
    }
   ],
   "source": [
    "%%html\n",
    "<div style=\"margin-left: 35px; border-style: solid; border-width: 1px; background-color:#F2F2F2; padding: 10px;\" >\n",
    "<pre id=100 onmousedown=\"window.clipline(100)\" onmouseup=\"window.reset(100)\">\n",
    "su - db2inst1\n",
    "</pre>\n",
    "</div>"
   ]
  },
  {
   "cell_type": "markdown",
   "metadata": {
    "hide_input": true
   },
   "source": [
    "3) Start Db2. The database may already be started, but in the event that you receive an error when connecting in the next step, issue the following command.  "
   ]
  },
  {
   "cell_type": "code",
   "execution_count": 38,
   "metadata": {
    "hide_input": true,
    "scrolled": true,
    "tags": [
     "refresh"
    ]
   },
   "outputs": [
    {
     "data": {
      "text/html": [
       "<div style=\"margin-left: 35px; border-style: solid; border-width: 1px; background-color:#F2F2F2; padding: 10px;\" >\n",
       "<pre id=200 onmousedown=\"window.clipline(200)\" onmouseup=\"window.reset(200)\">\n",
       "db2start\n",
       "</pre>\n",
       "</div>\n"
      ],
      "text/plain": [
       "<IPython.core.display.HTML object>"
      ]
     },
     "metadata": {},
     "output_type": "display_data"
    }
   ],
   "source": [
    "%%html\n",
    "<div style=\"margin-left: 35px; border-style: solid; border-width: 1px; background-color:#F2F2F2; padding: 10px;\" >\n",
    "<pre id=200 onmousedown=\"window.clipline(200)\" onmouseup=\"window.reset(200)\">\n",
    "db2start\n",
    "</pre>\n",
    "</div>"
   ]
  },
  {
   "cell_type": "markdown",
   "metadata": {},
   "source": [
    "4) Connect to database SAMPLE:  "
   ]
  },
  {
   "cell_type": "code",
   "execution_count": 39,
   "metadata": {
    "hide_input": true,
    "tags": [
     "refresh"
    ]
   },
   "outputs": [
    {
     "data": {
      "text/html": [
       "<div style=\"margin-left: 35px; border-style: solid; border-width: 1px; background-color:#F2F2F2; padding: 10px;\" >\n",
       "<pre id=300 onmousedown=\"window.clipline(300)\" onmouseup=\"window.reset(300)\">\n",
       "db2 connect to sample\n",
       "</pre>\n",
       "</div>\n"
      ],
      "text/plain": [
       "<IPython.core.display.HTML object>"
      ]
     },
     "metadata": {},
     "output_type": "display_data"
    }
   ],
   "source": [
    "%%html\n",
    "<div style=\"margin-left: 35px; border-style: solid; border-width: 1px; background-color:#F2F2F2; padding: 10px;\" >\n",
    "<pre id=300 onmousedown=\"window.clipline(300)\" onmouseup=\"window.reset(300)\">\n",
    "db2 connect to sample\n",
    "</pre>\n",
    "</div>"
   ]
  },
  {
   "cell_type": "markdown",
   "metadata": {
    "hide_input": true
   },
   "source": [
    "5) Show the tables in schema DB2INST1:  "
   ]
  },
  {
   "cell_type": "code",
   "execution_count": 40,
   "metadata": {
    "hide_input": true,
    "tags": [
     "refresh"
    ]
   },
   "outputs": [
    {
     "data": {
      "text/html": [
       "<div style=\"margin-left: 35px; border-style: solid; border-width: 1px; background-color:#F2F2F2; padding: 10px;\" >\n",
       "<pre id=400 onmousedown=\"window.clipline(400)\" onmouseup=\"window.reset(400)\">\n",
       "db2 \"select substr(tabname,1,15) from syscat.tables where tabschema='DB2INST1'\"\n",
       "</pre>\n",
       "</div>\n"
      ],
      "text/plain": [
       "<IPython.core.display.HTML object>"
      ]
     },
     "metadata": {},
     "output_type": "display_data"
    }
   ],
   "source": [
    "%%html\n",
    "<div style=\"margin-left: 35px; border-style: solid; border-width: 1px; background-color:#F2F2F2; padding: 10px;\" >\n",
    "<pre id=400 onmousedown=\"window.clipline(400)\" onmouseup=\"window.reset(400)\">\n",
    "db2 \"select substr(tabname,1,15) from syscat.tables where tabschema='DB2INST1'\"\n",
    "</pre>\n",
    "</div>"
   ]
  },
  {
   "cell_type": "markdown",
   "metadata": {},
   "source": [
    "6) Show the table definition of one of the tables, for example, table ACT:  "
   ]
  },
  {
   "cell_type": "code",
   "execution_count": 41,
   "metadata": {
    "hide_input": true,
    "tags": [
     "refresh"
    ]
   },
   "outputs": [
    {
     "data": {
      "text/html": [
       "<div style=\"margin-left: 35px; border-style: solid; border-width: 1px; background-color:#F2F2F2; padding: 10px;\" >\n",
       "<pre id=500 onmousedown=\"window.clipline(500)\" onmouseup=\"window.reset(500)\">\n",
       "db2 \"describe table db2inst1.act\"\n",
       "</pre>\n",
       "</div>\n"
      ],
      "text/plain": [
       "<IPython.core.display.HTML object>"
      ]
     },
     "metadata": {},
     "output_type": "display_data"
    }
   ],
   "source": [
    "%%html\n",
    "<div style=\"margin-left: 35px; border-style: solid; border-width: 1px; background-color:#F2F2F2; padding: 10px;\" >\n",
    "<pre id=500 onmousedown=\"window.clipline(500)\" onmouseup=\"window.reset(500)\">\n",
    "db2 \"describe table db2inst1.act\"\n",
    "</pre>\n",
    "</div>"
   ]
  },
  {
   "cell_type": "markdown",
   "metadata": {},
   "source": [
    "7) Retrieve the rows from one of the tables, for example, table ACT:  "
   ]
  },
  {
   "cell_type": "code",
   "execution_count": 42,
   "metadata": {
    "hide_input": true,
    "tags": [
     "refresh"
    ]
   },
   "outputs": [
    {
     "data": {
      "text/html": [
       "<div style=\"margin-left: 35px; border-style: solid; border-width: 1px; background-color:#F2F2F2; padding: 10px;\" >\n",
       "<pre id=600 onmousedown=\"window.clipline(600)\" onmouseup=\"window.reset(600)\">\n",
       "db2 \"select * from db2inst1.act\"\n",
       "</pre>\n",
       "</div>\n"
      ],
      "text/plain": [
       "<IPython.core.display.HTML object>"
      ]
     },
     "metadata": {},
     "output_type": "display_data"
    }
   ],
   "source": [
    "%%html\n",
    "<div style=\"margin-left: 35px; border-style: solid; border-width: 1px; background-color:#F2F2F2; padding: 10px;\" >\n",
    "<pre id=600 onmousedown=\"window.clipline(600)\" onmouseup=\"window.reset(600)\">\n",
    "db2 \"select * from db2inst1.act\"\n",
    "</pre>\n",
    "</div>"
   ]
  },
  {
   "cell_type": "markdown",
   "metadata": {},
   "source": [
    "8) When you are done, enter the command `exit` to return back to the `db2pot` environment."
   ]
  },
  {
   "cell_type": "code",
   "execution_count": 43,
   "metadata": {
    "hide_input": true,
    "tags": [
     "refresh"
    ]
   },
   "outputs": [
    {
     "data": {
      "text/html": [
       "<div style=\"margin-left: 35px; border-style: solid; border-width: 1px; background-color:#F2F2F2; padding: 10px;\" >\n",
       "<pre id=700 onmousedown=\"window.clipline(700)\" onmouseup=\"window.reset(700)\">\n",
       "exit\n",
       "</pre>\n",
       "</div>\n"
      ],
      "text/plain": [
       "<IPython.core.display.HTML object>"
      ]
     },
     "metadata": {},
     "output_type": "display_data"
    }
   ],
   "source": [
    "%%html\n",
    "<div style=\"margin-left: 35px; border-style: solid; border-width: 1px; background-color:#F2F2F2; padding: 10px;\" >\n",
    "<pre id=700 onmousedown=\"window.clipline(700)\" onmouseup=\"window.reset(700)\">\n",
    "exit\n",
    "</pre>\n",
    "</div>"
   ]
  },
  {
   "cell_type": "markdown",
   "metadata": {},
   "source": [
    "<a id='exploredbext'></a>\n",
    "### Optional: View the Database Contents Using Db2 Jupyter Extensions\n",
    "The following code will load the Db2 Magic commands required to run SQL against Db2 from within a Jupyter Notebook."
   ]
  },
  {
   "cell_type": "code",
   "execution_count": null,
   "metadata": {},
   "outputs": [],
   "source": [
    "%run db2.ipynb\n",
    "%run connection.ipynb"
   ]
  },
  {
   "cell_type": "markdown",
   "metadata": {},
   "source": [
    "List the tables in schema DB2INST1:"
   ]
  },
  {
   "cell_type": "code",
   "execution_count": null,
   "metadata": {},
   "outputs": [],
   "source": [
    "%sql -grid select substr(tabname,1,15) from syscat.tables where tabschema='DB2INST1'"
   ]
  },
  {
   "cell_type": "markdown",
   "metadata": {},
   "source": [
    "Describe table ACT:"
   ]
  },
  {
   "cell_type": "code",
   "execution_count": null,
   "metadata": {},
   "outputs": [],
   "source": [
    "%sql describe table act"
   ]
  },
  {
   "cell_type": "markdown",
   "metadata": {},
   "source": [
    "View the contents of table ACT:"
   ]
  },
  {
   "cell_type": "code",
   "execution_count": null,
   "metadata": {},
   "outputs": [],
   "source": [
    "%sql -grid select * from act"
   ]
  },
  {
   "cell_type": "markdown",
   "metadata": {},
   "source": [
    "<a id='connect'></a>\n",
    "## Connect to Database SAMPLE\n",
    "\n",
    "You start with a simple GO program that connects to the `SAMPLE` database. It imports the following packages which are required to deploy the Db2 driver API:\n",
    "```go\n",
    "import _ \"github.com/ibmdb/go_ibm_db\"  \n",
    "import \"database/sql\"  \n",
    "```\n",
    "**Note:** The underscore before the package `github.com/ibmdb/go_ibm_db` is required. It ensures that the `init` function of the package is executed and package-level variables are created.\n",
    "\n",
    "The function `sql.Open()` is executed to setup a database connection. It requires the driver name `go_ibm_db` and the connection string `con` as input parameters. The connection string specifies hostname, port number, database name, user name, and password. \n",
    "If `sql.Open()` was executed successfully, the database handle `db` is initialized. Otherwise it will be set to `nil`. Before the program terminates it calls function `db.Close()`. It closes the database connection and cleans up the database handle.  \n",
    "  \n",
    "Execute the `connect.go` program example from the shell as described in the previous section."
   ]
  },
  {
   "cell_type": "markdown",
   "metadata": {
    "hide_input": false,
    "scrolled": true
   },
   "source": [
    "<!--connect.go-->\n",
    "```go\n",
    "// connect.go\n",
    "\n",
    "package main\n",
    "\n",
    "import (\n",
    "    _ \"github.com/ibmdb/go_ibm_db\"\n",
    "    \"database/sql\"\n",
    "    \"fmt\"\n",
    ")\n",
    "\n",
    "func main(){\n",
    "        con := \"HOSTNAME=localhost;PORT=50000;DATABASE=SAMPLE;UID=DB2INST1;PWD=db2inst1\"\n",
    "        db, err:=sql.Open(\"go_ibm_db\", con)\n",
    "        if err != nil {\n",
    "                fmt.Println(err)\n",
    "        }\n",
    "        fmt.Println(\"Success!\")\n",
    "        db.Close()\n",
    "}\n",
    "```"
   ]
  },
  {
   "cell_type": "code",
   "execution_count": 44,
   "metadata": {
    "hide_input": true,
    "tags": [
     "refresh"
    ]
   },
   "outputs": [
    {
     "data": {
      "text/html": [
       "<div style=\"margin-left: 45px\">\n",
       "<button type=\"button\" onclick=\"window.copySearch('connect.go')\">Copy</button> \n"
      ],
      "text/plain": [
       "<IPython.core.display.HTML object>"
      ]
     },
     "metadata": {},
     "output_type": "display_data"
    }
   ],
   "source": [
    "%%html\n",
    "<div style=\"margin-left: 45px\">\n",
    "<button type=\"button\" onclick=\"window.copySearch('connect.go')\">Copy</button> "
   ]
  },
  {
   "cell_type": "markdown",
   "metadata": {},
   "source": [
    "Now adjust the code to make it more handy to use. Since the database handle `db` is always required to execute a Db2 API function, define the connection related variables `db`, `err`, and `con` outside of function `main()`. This makes sure you can access the database handle in all functions that are defined in package `main`.  \n",
    "\n",
    "Also put the `db.Open()` call into a separate function `connect()`. \n",
    "\n",
    "Finally, make sure that function `db.Close()` is automatically called when function `main()` terminates. Put the `defer` keyword in front of the statement. This makes sure that `db.Close()` is automatically executed as soon as a return statement is executed anywhere in function `main()`.\n",
    "\n",
    "The following program code contains all modifications that are described above. Execute `connect2.go` from the shell."
   ]
  },
  {
   "cell_type": "markdown",
   "metadata": {
    "hide_input": false
   },
   "source": [
    "<!--connect2.go-->\n",
    "```go\n",
    "// connect2.go\n",
    "\n",
    "package main\n",
    "\n",
    "import (\n",
    "    _ \"github.com/ibmdb/go_ibm_db\"\n",
    "    \"database/sql\"\n",
    "    \"fmt\"\n",
    ")\n",
    "\n",
    "var err error\n",
    "var db *sql.DB\n",
    "var con = \"HOSTNAME=localhost;PORT=50000;DATABASE=SAMPLE;UID=DB2INST1;PWD=db2inst1\"\n",
    "\n",
    "func connect() error {\n",
    "        db, err = sql.Open(\"go_ibm_db\", con)\n",
    "        if err != nil {\n",
    "                fmt.Println(err)\n",
    "                return err\n",
    "        }\n",
    "        return nil\n",
    "}\n",
    "\n",
    "func main() {\n",
    "        if connect() != nil { return } else { defer db.Close() }\n",
    "    \n",
    "        fmt.Println(\"Success!\")\n",
    "}\n",
    "```"
   ]
  },
  {
   "cell_type": "code",
   "execution_count": 45,
   "metadata": {
    "hide_input": true,
    "tags": [
     "refresh"
    ]
   },
   "outputs": [
    {
     "data": {
      "text/html": [
       "<div style=\"margin-left: 45px\">\n",
       "<button type=\"button\" onclick=\"window.copySearch('connect2.go')\">Copy</button> \n"
      ],
      "text/plain": [
       "<IPython.core.display.HTML object>"
      ]
     },
     "metadata": {},
     "output_type": "display_data"
    }
   ],
   "source": [
    "%%html\n",
    "<div style=\"margin-left: 45px\">\n",
    "<button type=\"button\" onclick=\"window.copySearch('connect2.go')\">Copy</button> "
   ]
  },
  {
   "cell_type": "markdown",
   "metadata": {},
   "source": [
    "<a id='select_single'></a>\n",
    "## Retrieve a Single Row from a Table\n",
    "\n",
    "In the next example, you use function `db.QueryRow()` to run a query that is expected to return at most one row. If there multiple rows in the query result set,  the function will only access the first row and discard the rest.  \n",
    "  \n",
    "You use the following select statement in this example:  \n",
    "  \n",
    "```sql\n",
    "select count(*) statement from act\n",
    "```\n",
    "\n",
    "This statement always returns exactly one row and returns the number of records in table ACT.\n",
    "\n",
    "The `Scan()` function copies the columns from the current row into the values pointed. Since we expect a single integer value in the query result set, we define variable `count` of type `int32` and pass a pointer to that variable into function `scan()`.  \n",
    "  \n",
    "Execute program `count_in_main.go` from the shell."
   ]
  },
  {
   "cell_type": "markdown",
   "metadata": {
    "hide_input": true
   },
   "source": [
    "<!--count_in_main.go-->\n",
    "```go\n",
    "// count_in_main.go\n",
    "\n",
    "package main\n",
    "\n",
    "import (\n",
    "    _ \"github.com/ibmdb/go_ibm_db\"\n",
    "    \"database/sql\"\n",
    "    \"fmt\"\n",
    ")\n",
    "var err error\n",
    "var db *sql.DB\n",
    "var con = \"HOSTNAME=localhost;PORT=50000;DATABASE=SAMPLE;UID=DB2INST1;PWD=db2inst1\"\n",
    "\n",
    "func connect() error {\n",
    "        db, err = sql.Open(\"go_ibm_db\", con)\n",
    "        if err != nil {\n",
    "                fmt.Println(err)\n",
    "                return err\n",
    "        }\n",
    "        return nil\n",
    "}\n",
    "func main() {\n",
    "        if connect() != nil { return } else { defer db.Close() }\n",
    "\n",
    "        var count int32\n",
    "        err = db.QueryRow(\"SELECT count(*) FROM act\").Scan(&count)\n",
    "        if err != nil {\n",
    "                fmt.Println(err)\n",
    "                return\n",
    "        }\n",
    "        fmt.Println(\"Rowcount=\",count)\n",
    "}\n",
    "```"
   ]
  },
  {
   "cell_type": "code",
   "execution_count": 46,
   "metadata": {
    "hide_input": true,
    "tags": [
     "refresh"
    ]
   },
   "outputs": [
    {
     "data": {
      "text/html": [
       "<div style=\"margin-left: 45px\">\n",
       "<button type=\"button\" onclick=\"window.copySearch('count_in_main.go')\">Copy</button> \n"
      ],
      "text/plain": [
       "<IPython.core.display.HTML object>"
      ]
     },
     "metadata": {},
     "output_type": "display_data"
    }
   ],
   "source": [
    "%%html\n",
    "<div style=\"margin-left: 45px\">\n",
    "<button type=\"button\" onclick=\"window.copySearch('count_in_main.go')\">Copy</button> "
   ]
  },
  {
   "cell_type": "markdown",
   "metadata": {},
   "source": [
    "In the next example, the call to function `db.QueryRow()` is moved into a separate function `count()`. This function expects a tablename as a parameter. It prints the row count of the table and returns parameter `err`. \n",
    "This allows us to check in `main()` if an error occurred in function `count()`."
   ]
  },
  {
   "cell_type": "markdown",
   "metadata": {},
   "source": [
    "<!--count2.go-->\n",
    "```go\n",
    "// count2.go\n",
    "\n",
    "package main\n",
    "import (\n",
    "    _ \"github.com/ibmdb/go_ibm_db\"\n",
    "    \"database/sql\"\n",
    "    \"fmt\"\n",
    ")\n",
    "var err error\n",
    "var db *sql.DB\n",
    "var con = \"HOSTNAME=localhost;PORT=50000;DATABASE=SAMPLE;UID=DB2INST1;PWD=db2inst1\"\n",
    "\n",
    "func connect() error {\n",
    "        db, err = sql.Open(\"go_ibm_db\", con)\n",
    "        if err != nil {\n",
    "                fmt.Println(err)\n",
    "                return err\n",
    "        }\n",
    "        return nil\n",
    "}\n",
    "func count(tabname string) error { \n",
    "        var count int32\n",
    "        err = db.QueryRow(\"SELECT count(*) FROM \"+tabname).Scan(&count)\n",
    "        if err != nil {\n",
    "                fmt.Println(err)\n",
    "                return err\n",
    "        }       \n",
    "        fmt.Printf(\"Table \\\"%s\\\" contains %d rows.\\n\",tabname,count)\n",
    "        return nil\n",
    "}\n",
    "\n",
    "func main() {\n",
    "        if connect() != nil { return } else { defer db.Close() }\n",
    "\n",
    "        count(\"ACT\")\n",
    "        count(\"DEPARTMENT\")\n",
    "        count(\"EMPLOYEE\")\n",
    "        count(\"null\")\n",
    "        count(\"ORG\")\n",
    "}\n",
    "```"
   ]
  },
  {
   "cell_type": "code",
   "execution_count": 47,
   "metadata": {
    "hide_input": true,
    "tags": [
     "refresh"
    ]
   },
   "outputs": [
    {
     "data": {
      "text/html": [
       "<div style=\"margin-left: 45px\">\n",
       "<button type=\"button\" onclick=\"window.copySearch('count2.go')\">Copy</button> \n"
      ],
      "text/plain": [
       "<IPython.core.display.HTML object>"
      ]
     },
     "metadata": {},
     "output_type": "display_data"
    }
   ],
   "source": [
    "%%html\n",
    "<div style=\"margin-left: 45px\">\n",
    "<button type=\"button\" onclick=\"window.copySearch('count2.go')\">Copy</button> "
   ]
  },
  {
   "cell_type": "markdown",
   "metadata": {},
   "source": [
    "You see that one of the table names in the list is invalid (\"`null`\"). In this case the program just prints an error message and continues to process. You could also do additional error handling in function `main()`. For example, you could remove the `Printf()` statement in function `count()` and then invoke `count()` in function `main()` as follows:  \n",
    "```go\n",
    "if count(\"ACT\") != nil { fmt.Printf(\"Error in function count()\") }\n",
    "```\n",
    "Try to rewrite program `count2.go`. Create a new program `count3.go` that performs the following steps:\n",
    "- Stores the tablenames in a dynamic array\n",
    "- Iterates over the array\n",
    "- Passes each table name to function `count()`\n",
    "- Checks the return value of function `count()` and does the error handling in function `main()`.\n",
    "\n",
    "You will find the corresponding program `count3.go` at the end of this notebook."
   ]
  },
  {
   "cell_type": "markdown",
   "metadata": {},
   "source": [
    "<a id='fetch'></a>\n",
    "## Execute a Query and Fetch the Result Set\n",
    "\n",
    "Next, you learn how to run a `SELECT` statement that returns more than one row. In this example, we use the following select statement:  \n",
    "  \n",
    " ```sql\n",
    " select firstnme, lastname, job from employee where job='MANAGER'\n",
    " ```  \n",
    "  \n",
    "Function `db.Query()` prepares and executes the `SELECT` statement. It is also possible to separate the preparation and execution of a SQL statement. This can help to reduce the overhead for statement preparation and is shown in a later example.\n",
    "\n",
    "Function `rows.Next()` iterates over the result set and prepares the next result row for reading with the `Scan()` api. Since the `SELECT` statement returns three values in each row of the result set, we define variables `a`,`b`, and `c` and pass their address to function `Scan()`. The function copies the columns from the current row into variables `a`,`b`,and `c`.\n",
    "\n",
    "Execute program `fetch_rows.go` from the shell. "
   ]
  },
  {
   "cell_type": "markdown",
   "metadata": {},
   "source": [
    "<!--fetch_rows.go-->\n",
    "```go\n",
    "// fetch_rows.go\n",
    "\n",
    "package main\n",
    "import (\n",
    "    _ \"github.com/ibmdb/go_ibm_db\"\n",
    "    \"database/sql\"\n",
    "    \"fmt\"\n",
    ")\n",
    "var err error\n",
    "var db *sql.DB\n",
    "var con = \"HOSTNAME=localhost;PORT=50000;DATABASE=SAMPLE;UID=DB2INST1;PWD=db2inst1\"\n",
    "\n",
    "func connect() error {\n",
    "        db, err = sql.Open(\"go_ibm_db\", con)\n",
    "        if err != nil {\n",
    "                fmt.Println(err)\n",
    "                return err\n",
    "        }\n",
    "        return nil\n",
    "}\n",
    "func main() {\n",
    "        if connect() != nil { return } else { defer db.Close() }\n",
    "\n",
    "        rows,err := db.Query(\"select firstnme, lastname, job from employee where job='MANAGER'\")\n",
    "        if err != nil {\n",
    "                return\n",
    "        }\n",
    "        // make sure that the \"rows\" handle is released when main returns\n",
    "        defer rows.Close()\n",
    "\n",
    "        // iterate over all rows in the query result\n",
    "        var a,b,c string\n",
    "        for rows.Next() {\n",
    "                err = rows.Scan(&a,&b,&c)\n",
    "                if err != nil{\n",
    "                        fmt.Println(err)\n",
    "                        return\n",
    "                }\n",
    "                fmt.Printf(\"%-10s %-10s %-10s\\n\",a,b,c)\n",
    "        }\n",
    "}\n",
    "```"
   ]
  },
  {
   "cell_type": "code",
   "execution_count": 48,
   "metadata": {
    "hide_input": true,
    "tags": [
     "refresh"
    ]
   },
   "outputs": [
    {
     "data": {
      "text/html": [
       "<div style=\"margin-left: 45px\">\n",
       "<button type=\"button\" onclick=\"window.copySearch('fetch_rows.go')\">Copy</button> \n"
      ],
      "text/plain": [
       "<IPython.core.display.HTML object>"
      ]
     },
     "metadata": {},
     "output_type": "display_data"
    }
   ],
   "source": [
    "%%html\n",
    "<div style=\"margin-left: 45px\">\n",
    "<button type=\"button\" onclick=\"window.copySearch('fetch_rows.go')\">Copy</button> "
   ]
  },
  {
   "cell_type": "markdown",
   "metadata": {},
   "source": [
    "<a id='markers'></a>\n",
    "## Prepare and Execute with Parameter Markers\n",
    "\n",
    "In case you want to execute the same query with different filter conditions you can prepare the statement once and then execute it multiple times. This allows you to reuse the prepared statement and reduces the overhead of statement preparation. To do this you need to use a parameter markers (?) as shown in the example below:\n",
    "  \n",
    " ```sql\n",
    " \"select firstnme, lastname, job, workdept from employee where workdept = ?\"\n",
    " ```  \n",
    "\n",
    "The statement is prepared by executing function `db.Prepare()`. The function returns a handle `st` to the prepared statement:\n",
    "```go\n",
    "st, err := db.Prepare(\"select firstnme, lastname, job, workdept from employee where workdept = ?\")\n",
    "```\n",
    "\n",
    "Function `st.Query()` prepares and executes the SQL statement. We use statement handle `st` to reference the prepared statement. We also have to pass the appropriate number of parameters to the function. Since we prepared the statement with one parameter marker, we pass one parameter `dept` to the function:\n",
    "```go\n",
    "rows,err := st.Query(dept)\n",
    "```\n",
    "\n",
    "Execute program `parameter_markers.go` from the shell. "
   ]
  },
  {
   "cell_type": "markdown",
   "metadata": {},
   "source": [
    "<!--parameter_markers.go-->\n",
    "```go\n",
    "// parameter_markers.go\n",
    "\n",
    "package main\n",
    "\n",
    "import (\n",
    "    _ \"github.com/ibmdb/go_ibm_db\"\n",
    "    \"database/sql\"\n",
    "    \"fmt\"\n",
    ")\n",
    "\n",
    "var err error\n",
    "var db *sql.DB\n",
    "var con = \"HOSTNAME=localhost;PORT=50000;DATABASE=SAMPLE;UID=DB2INST1;PWD=db2inst1\"\n",
    "\n",
    "func connect() error {\n",
    "        db, err = sql.Open(\"go_ibm_db\", con)\n",
    "        if err != nil {\n",
    "                fmt.Println(err)\n",
    "                return err\n",
    "        }\n",
    "        return nil\n",
    "}\n",
    "\n",
    "func main() {\n",
    "        if connect() != nil { return } else { defer db.Close() }\n",
    "\n",
    "        // prepare the statement once with a parameter marker\n",
    "        st, err := db.Prepare(\"select firstnme, lastname, job, workdept from employee where workdept = ?\" )\n",
    "        if err !=nil {\n",
    "                fmt.Println(\"Error in Prepare: \")\n",
    "                fmt.Println(err)\n",
    "                return\n",
    "        }\n",
    "        // execute the statement multiple times and use a different\n",
    "        // work department in the where clause for each query execution\n",
    "        departments := []string{\"A00\",\"B01\",\"C01\",\"D11\",\"D21\",\"E11\",\"E21\"}\n",
    "        for _,dept := range departments{\n",
    "                fmt.Printf(\"\\nSelect records for department '%s'\\n\", dept)\n",
    "                rows,err := st.Query(dept)\n",
    "                if err != nil {\n",
    "                        fmt.Println(\"Error in Query: \")\n",
    "                        fmt.Println(err)\n",
    "                        return\n",
    "                }\n",
    "\n",
    "                // iterate over all rows in the query result\n",
    "                for rows.Next() {\n",
    "                        var a,b,c,d string\n",
    "                        err = rows.Scan(&a,&b,&c,&d)\n",
    "                        if err != nil{\n",
    "                                fmt.Println(err)\n",
    "                                return\n",
    "                        }\n",
    "                fmt.Printf(\"%-10s %-10s %-10s %-10s\\n\",a,b,c,d)\n",
    "                }\n",
    "                rows.Close()\n",
    "        }\n",
    "}\n",
    "```"
   ]
  },
  {
   "cell_type": "code",
   "execution_count": 26,
   "metadata": {
    "hide_input": true
   },
   "outputs": [
    {
     "data": {
      "text/html": [
       "<div style=\"margin-left: 45px\">\n",
       "<button type=\"button\" onclick=\"window.copySearch('parameter_markers.go')\">Copy</button> \n"
      ],
      "text/plain": [
       "<IPython.core.display.HTML object>"
      ]
     },
     "metadata": {},
     "output_type": "display_data"
    }
   ],
   "source": [
    "%%html\n",
    "<div style=\"margin-left: 45px\">\n",
    "<button type=\"button\" onclick=\"window.copySearch('parameter_markers.go')\">Copy</button> "
   ]
  },
  {
   "cell_type": "markdown",
   "metadata": {},
   "source": [
    "<a id='fetch_columns'></a>\n",
    "## Retrieve the Column Names from the Result Set\n",
    "\n",
    "Db2 provides the option to rename table columns. So the names of columns may change over time. Therefore, it can be useful to retrieve the current column names from a table. \n",
    "\n",
    "To retrieve the column names, we use an SQL query that selects all columns from the table and retrieves one row only:  \n",
    "  \n",
    " ```sql\n",
    " select * from employee fetch first 1 row only\n",
    " ```  \n",
    "   \n",
    "   \n",
    "We use function `db.Query()` to execute that query. The function returns a handle to the query result (`rows`):\n",
    "\n",
    " ```go\n",
    " rows,err := db.Query(\"select * from employee fetch first 1 row only\")\n",
    " ```  \n",
    "  \n",
    "We then use handle `rows` to retrieve the column names. Function `rows.Columns()` stores the column names in a dynamically created array:  \n",
    "  \n",
    " ```go\n",
    " cols, err := rows.Columns()\n",
    " ```\n",
    "  \n",
    "We can use function `Printf()` to print the whole array at once:  \n",
    "  \n",
    " ```go\n",
    " fmt.Printf(\"%v\\n\",cols) \n",
    " ```\n",
    "  \n",
    "Alternatively, we can use the `range` operator to iterate over the array and print each element on a separate line. There are different ways to use the range operator:  \n",
    " ```go  \n",
    " for _,name := range cols { ... }\n",
    " for idx,name := range cols { ... }\n",
    " ```  \n",
    "\n",
    "In our example, we use the first form which only retrieves the elements of the array `cols`. Alternatively, you can also retrieve the index value of each array element. \n",
    "\n"
   ]
  },
  {
   "cell_type": "markdown",
   "metadata": {},
   "source": [
    "Execute program `get_columns.go` from the shell. "
   ]
  },
  {
   "cell_type": "markdown",
   "metadata": {},
   "source": [
    "<!--get_columns.go-->\n",
    "```go\n",
    "// get_columns.go\n",
    "\n",
    "package main\n",
    "import (\n",
    "    _ \"github.com/ibmdb/go_ibm_db\"\n",
    "    \"database/sql\"\n",
    "    \"fmt\"\n",
    ")\n",
    "\n",
    "var err error\n",
    "var db *sql.DB\n",
    "var con = \"HOSTNAME=localhost;PORT=50000;DATABASE=SAMPLE;UID=DB2INST1;PWD=db2inst1\"\n",
    "\n",
    "func connect() error {\n",
    "        db, err = sql.Open(\"go_ibm_db\", con)\n",
    "        if err != nil {\n",
    "                fmt.Println(err)\n",
    "                return err\n",
    "        }\n",
    "        return nil\n",
    "}\n",
    "func main() {\n",
    "        if connect() != nil { return } else { defer db.Close() }\n",
    "\n",
    "        rows,err := db.Query(\"select * from employee fetch first 1 row only\")\n",
    "        if err != nil {\n",
    "                fmt.Printf(\"db.Query(): error!\")\n",
    "                return\n",
    "        }\n",
    "        // make sure that the \"rows\" handle is released when main returns\n",
    "        defer rows.Close()\n",
    "\n",
    "        cols, err := rows.Columns()\n",
    "        fmt.Println(\"Number of columns: \",len(cols))\n",
    "        // print the whole array at once\n",
    "        fmt.Printf(\"%v\\n\",cols)\n",
    "        // print each column name on a separate line\n",
    "        for _,name := range cols {\n",
    "                fmt.Printf(\"%s\\n\",name)\n",
    "        }\n",
    "}\n",
    "```"
   ]
  },
  {
   "cell_type": "code",
   "execution_count": 51,
   "metadata": {
    "hide_input": false
   },
   "outputs": [
    {
     "data": {
      "text/html": [
       "<div style=\"margin-left: 45px\">\n",
       "<button type=\"button\" onclick=\"window.copySearch('get_columns.go')\">Copy</button> \n"
      ],
      "text/plain": [
       "<IPython.core.display.HTML object>"
      ]
     },
     "metadata": {},
     "output_type": "display_data"
    }
   ],
   "source": [
    "%%html\n",
    "<div style=\"margin-left: 45px\">\n",
    "<button type=\"button\" onclick=\"window.copySearch('get_columns.go')\">Copy</button> "
   ]
  },
  {
   "cell_type": "markdown",
   "metadata": {
    "hide_input": false
   },
   "source": [
    "<a id='cre_tab'></a>\n",
    "## Create a Table\n",
    "\n",
    "The previous sections covered the execution of queries and used function ```Query()``` which is expected to return data.\n",
    "\n",
    "In the following labs you create tables and change data using the following types of SQL statements:\n",
    "* CREATE TABLE\n",
    "* INSERT\n",
    "* UPDATE\n",
    "* DELETE\n",
    "\n",
    "\n",
    "The Db2-GO API provides function ```Exec()``` to execute SQL statements that do not return a result set. This function can either prepare and execute a statement in one single step or you can first prepare a statement and then use ```Exec()``` to execute the statement.\n",
    "\n",
    "The next sample program creates a new table using the following SQL statement:\n",
    "```sql\n",
    "create table LINEITEM(ID int,NAME varchar(20),QTY int)\n",
    "```\n",
    "\n",
    "In this example, the statement is prepared and executed in one step. In case the table already exists, function ```Exec()``` will return error ```SQL0601``` and the program will only print the error message and terminate.\n",
    "\n",
    "Execute program ```cre_tab.go``` from the shell.\n"
   ]
  },
  {
   "cell_type": "markdown",
   "metadata": {},
   "source": [
    "<!--cre_tab.go-->\n",
    "```go\n",
    "// cre_tab.go\n",
    "\n",
    "package main\n",
    "import (\n",
    "    _ \"github.com/ibmdb/go_ibm_db\"\n",
    "    \"database/sql\"\n",
    "    \"fmt\"\n",
    ")\n",
    "\n",
    "var err error\n",
    "var db *sql.DB\n",
    "var con = \"HOSTNAME=localhost;PORT=50000;DATABASE=SAMPLE;UID=DB2INST1;PWD=db2inst1\"\n",
    "\n",
    "func connect() error {\n",
    "        db, err = sql.Open(\"go_ibm_db\", con)\n",
    "        if err != nil {\n",
    "                fmt.Println(err)\n",
    "                return err\n",
    "        }\n",
    "        return nil\n",
    "}\n",
    "\n",
    "func main() {\n",
    "        if connect() != nil { return } else { defer db.Close() }\n",
    "\n",
    "        _,err:=db.Exec(\"create table LINEITEM(ID int,NAME varchar(20),QTY int)\")\n",
    "        if err != nil{\n",
    "                fmt.Println(\"Error:\")\n",
    "                fmt.Println(err)\n",
    "                return\n",
    "        }\n",
    "        fmt.Println(\"TABLE CREATED\")\n",
    "}\n",
    "```\n"
   ]
  },
  {
   "cell_type": "code",
   "execution_count": 52,
   "metadata": {
    "hide_input": true
   },
   "outputs": [
    {
     "data": {
      "text/html": [
       "<div style=\"margin-left: 45px\">\n",
       "<button type=\"button\" onclick=\"window.copySearch('cre_tab.go')\">Copy</button> \n"
      ],
      "text/plain": [
       "<IPython.core.display.HTML object>"
      ]
     },
     "metadata": {},
     "output_type": "display_data"
    }
   ],
   "source": [
    "%%html\n",
    "<div style=\"margin-left: 45px\">\n",
    "<button type=\"button\" onclick=\"window.copySearch('cre_tab.go')\">Copy</button> "
   ]
  },
  {
   "cell_type": "markdown",
   "metadata": {},
   "source": [
    "You can check if the table was successfully created by running the following commands from the shell (the password of user *db2inst1* is *db2inst1*):\n",
    "```\n",
    "su - db2inst1\n",
    "db2start\n",
    "db2 connect to sample\n",
    "db2 describe table lineitem\n",
    "```"
   ]
  },
  {
   "cell_type": "markdown",
   "metadata": {},
   "source": [
    "<a id='insert'></a>\n",
    "## Insert a Row\n",
    "\n",
    "Next, you insert a single row into table ```LINEITEM``` with the following SQL statement:\n",
    "```sql\n",
    "insert into lineitem values (99,'Flowers',5)\n",
    "```\n",
    "Since we want to execute only one single ```INSERT``` statement, we keep the code simple and prepare and execute the statement in one single step:\n",
    "```go\n",
    "_,err:=db.Exec(\"insert into lineitem values (99,'Flowers',5)\")\n",
    "```\n",
    "\n",
    "Execute program ```insert.go``` from the shell.\n"
   ]
  },
  {
   "cell_type": "markdown",
   "metadata": {},
   "source": [
    "<!--insert.go-->\n",
    "```go\n",
    "// insert.go\n",
    "\n",
    "package main\n",
    "import (\n",
    "    _ \"github.com/ibmdb/go_ibm_db\"\n",
    "    \"database/sql\"\n",
    "    \"fmt\"\n",
    ")\n",
    "\n",
    "var err error\n",
    "var db *sql.DB\n",
    "var con = \"HOSTNAME=localhost;PORT=50000;DATABASE=SAMPLE;UID=DB2INST1;PWD=db2inst1\"\n",
    "\n",
    "func connect() error {\n",
    "        db, err = sql.Open(\"go_ibm_db\", con)\n",
    "        if err != nil {\n",
    "                fmt.Println(err)\n",
    "                return err\n",
    "        }\n",
    "        return nil\n",
    "}\n",
    "\n",
    "func main() {\n",
    "        if connect() != nil { return } else { defer db.Close() }\n",
    "\n",
    "        _,err:=db.Exec(\"insert into lineitem values (99,'Flowers',5)\")\n",
    "        if err != nil{\n",
    "                fmt.Println(\"Error:\")\n",
    "                fmt.Println(err)\n",
    "                return\n",
    "        }\n",
    "        fmt.Println(\"Row inserted.\")\n",
    "}\n",
    "```"
   ]
  },
  {
   "cell_type": "code",
   "execution_count": 53,
   "metadata": {
    "hide_input": false
   },
   "outputs": [
    {
     "data": {
      "text/html": [
       "<div style=\"margin-left: 45px\">\n",
       "<button type=\"button\" onclick=\"window.copySearch('insert.go')\">Copy</button> \n"
      ],
      "text/plain": [
       "<IPython.core.display.HTML object>"
      ]
     },
     "metadata": {},
     "output_type": "display_data"
    }
   ],
   "source": [
    "%%html\n",
    "<div style=\"margin-left: 45px\">\n",
    "<button type=\"button\" onclick=\"window.copySearch('insert.go')\">Copy</button> "
   ]
  },
  {
   "cell_type": "markdown",
   "metadata": {},
   "source": [
    "You can check if the data was successfully inserted by running the following commands from the shell (the password of user db2inst1 is db2inst1):\n",
    "```\n",
    "su - db2inst1\n",
    "db2start\n",
    "db2 connect to sample\n",
    "db2 \"select * from lineitem\"\n",
    "```"
   ]
  },
  {
   "cell_type": "markdown",
   "metadata": {},
   "source": [
    "<a id='insert_prep'></a>\n",
    "## Insert Multiple Rows\n",
    "\n",
    "In case you want to insert multiple records into a table, you can prepare the INSERT statement first and then execute it multiple times as shown in the next example. We use a SQL statement which contains parameter markers as follows:\n",
    "```sql\n",
    "insert into lineitem values (?,?,?)\n",
    "```\n",
    "\n",
    "We first execute function ```Prepare()``` which returns handle ```st``` to the prepared statement:\n",
    "```go\n",
    "st, err := db.Prepare(\"insert into lineitem values (?,?,?)\")\n",
    "```\n",
    "\n",
    "Then we create a dynamic array ```lineitems```, iterate over the elements in the array, assign the value of each array element to ```item```, and its index number to ```idx```:\n",
    "```go\n",
    "lineitems := []string{\"Shirt\",\"Bicycle\",\"Laptop\",\"Coffee\",\"Burger\",\"Watch\"}\n",
    "for idx,item := range lineitems {\n",
    "```\n",
    "\n",
    "Finally, we call function  ```Exec()``` and pass parameter values for each of the three parameter markers. We use a constant value 5 for column ```QTY``` (quantity):\n",
    "```go\n",
    "_,err = st.Exec(idx,item,5)\n",
    "```\n",
    "\n",
    "Execute program ```insert_prep.go``` from the shell."
   ]
  },
  {
   "cell_type": "markdown",
   "metadata": {},
   "source": [
    "<!--insert_prep.go-->\n",
    "```go\n",
    "// insert_prep.go\n",
    "\n",
    "package main\n",
    "import (\n",
    "    _ \"github.com/ibmdb/go_ibm_db\"\n",
    "    \"database/sql\"\n",
    "    \"fmt\"\n",
    ")\n",
    "\n",
    "var err error\n",
    "var db *sql.DB\n",
    "var con = \"HOSTNAME=localhost;PORT=50000;DATABASE=SAMPLE;UID=DB2INST1;PWD=db2inst1\"\n",
    "\n",
    "func connect() error {\n",
    "        db, err = sql.Open(\"go_ibm_db\", con)\n",
    "        if err != nil {\n",
    "                fmt.Println(err)\n",
    "                return err\n",
    "        }\n",
    "        return nil\n",
    "}\n",
    "\n",
    "func main() {\n",
    "        if connect() != nil { return } else { defer db.Close() }\n",
    "\n",
    "        // prepare the statement once with a parameter markers\n",
    "        st, err := db.Prepare(\"insert into lineitem values (?,?,?)\" )\n",
    "        if err !=nil {\n",
    "                fmt.Println(\"Error in Prepare: \")\n",
    "                fmt.Println(err)\n",
    "                return\n",
    "        }\n",
    "\n",
    "        lineitems:= []string{\"Shirt\",\"Bicycle\",\"Laptop\",\"Coffee\",\"Burger\",\"Watch\"}\n",
    "        for idx,item := range lineitems{\n",
    "                _,err = st.Exec(idx,item,5)\n",
    "                if err != nil{\n",
    "                        fmt.Println(\"Error:\")\n",
    "                        fmt.Println(err)\n",
    "                        return\n",
    "                }\n",
    "                fmt.Println(\"Row inserted.\")\n",
    "        }\n",
    "}\n",
    "```\n"
   ]
  },
  {
   "cell_type": "code",
   "execution_count": 54,
   "metadata": {
    "hide_input": true
   },
   "outputs": [
    {
     "data": {
      "text/html": [
       "<div style=\"margin-left: 45px\">\n",
       "<button type=\"button\" onclick=\"window.copySearch('insert_prep.go')\">Copy</button> \n"
      ],
      "text/plain": [
       "<IPython.core.display.HTML object>"
      ]
     },
     "metadata": {},
     "output_type": "display_data"
    }
   ],
   "source": [
    "%%html\n",
    "<div style=\"margin-left: 45px\">\n",
    "<button type=\"button\" onclick=\"window.copySearch('insert_prep.go')\">Copy</button> "
   ]
  },
  {
   "cell_type": "markdown",
   "metadata": {},
   "source": [
    "<a id='update'></a>\n",
    "## Update a Row\n",
    "\n",
    "The next program example updates one of the records in table LINEITEM. It uses an `UPDATE` statement which contains parameter markers as follows:\n",
    "```sql\n",
    "update lineitem set qty=? where id=?\n",
    "```\n",
    "\n",
    "As in the previous example, the program first executes function ```Prepare()``` and then calls function  ```Exec()``` and passes the appropriate parameter values for each of the two parameter markers that are used in the SQL statement. \n",
    "\n",
    "Before you execute `update.go` check the current content of table `LINEITEM` from the shell:\n",
    "```\n",
    "su - db2inst1\n",
    "db2 connect to sample\n",
    "db2 \"select * from lineitem\"\n",
    "```\n",
    "\n",
    "The output should look like this:\n",
    "\n",
    "|ID|NAME|QTY|\n",
    "|:----------------------|:------------------------|:-------------------|\n",
    "|99|Flowers|5|\n",
    "|0|Shirt|5|\n",
    "|1|Bicycle|5|\n",
    "|2|Laptop|5|\n",
    "|3|Coffee|5|\n",
    "|4|Burger|5|\n",
    "|5|Watch|5|\n",
    "\n",
    "Now execute program `insert_prep.go ` from the shell."
   ]
  },
  {
   "cell_type": "markdown",
   "metadata": {},
   "source": [
    "<!--update.go-->\n",
    "```go\n",
    "// update.go\n",
    "\n",
    "package main\n",
    "import (\n",
    "    _ \"github.com/ibmdb/go_ibm_db\"\n",
    "    \"database/sql\"\n",
    "    \"fmt\"\n",
    ")\n",
    "\n",
    "var err error\n",
    "var db *sql.DB\n",
    "var con = \"HOSTNAME=localhost;PORT=50000;DATABASE=SAMPLE;UID=DB2INST1;PWD=db2inst1\"\n",
    "\n",
    "func connect() error {\n",
    "        db, err = sql.Open(\"go_ibm_db\", con)\n",
    "        if err != nil {\n",
    "                fmt.Println(err)\n",
    "                return err\n",
    "        }\n",
    "        return nil\n",
    "}\n",
    "\n",
    "func main() {\n",
    "        if connect() != nil { return } else { defer db.Close() }\n",
    "\n",
    "        // prepare the statement with parameter markers\n",
    "        st, err := db.Prepare(\"update lineitem set qty=? where id=?\")\n",
    "        if err !=nil {\n",
    "                fmt.Println(\"Error in Prepare: \")\n",
    "                fmt.Println(err)\n",
    "                return\n",
    "        }\n",
    "\n",
    "        id := 0\n",
    "        qty := 3\n",
    "        _, err = st.Exec(id, qty)\n",
    "        if err != nil{\n",
    "                fmt.Println(\"Error:\")\n",
    "                fmt.Println(err)\n",
    "                return\n",
    "        }\n",
    "        fmt.Println(\"Row updated.\")\n",
    "}\n",
    "\n",
    "```"
   ]
  },
  {
   "cell_type": "code",
   "execution_count": 55,
   "metadata": {
    "hide_input": false
   },
   "outputs": [
    {
     "data": {
      "text/html": [
       "<div style=\"margin-left: 45px\">\n",
       "<button type=\"button\" onclick=\"window.copySearch('update.go')\">Copy</button> \n"
      ],
      "text/plain": [
       "<IPython.core.display.HTML object>"
      ]
     },
     "metadata": {},
     "output_type": "display_data"
    }
   ],
   "source": [
    "%%html\n",
    "<div style=\"margin-left: 45px\">\n",
    "<button type=\"button\" onclick=\"window.copySearch('update.go')\">Copy</button> "
   ]
  },
  {
   "cell_type": "markdown",
   "metadata": {},
   "source": [
    "The program should run without error. Now check again the contents of table `LINEITEM`. You notice that lineitem ID=0 still has QTY=5. Try to find the error and fix the program code so that the QTY field of lineitem ID=0 is properly updated and contains value 3.\n",
    "\n",
    "Hint: The content of table `LINEITEM` after execution of program `update.go` looks like below. Obviously, the wrong item was updated.\n",
    "\n",
    "|ID|NAME|QTY|\n",
    "|:----------------------|:------------------------|:-------------------|\n",
    "|99|Flowers|5|\n",
    "|0|Shirt|5|\n",
    "|1|Bicycle|5|\n",
    "|2|Laptop|5|\n",
    "|3|Coffee|0|\n",
    "|4|Burger|5|\n",
    "|5|Watch|5|\n",
    "\n",
    "Solution: You need to change the order of the parameters in the call to function `Exec()`.\n",
    "\n",
    "Change the corresponding program line as follows:\n",
    "```\n",
    "_, err = st.Exec(qty,id)\n",
    "```\n",
    "The parameters must match the order of the parameters in the SQL statement:\n",
    "```sql\n",
    "update lineitem set qty=? where id=?\n",
    "```"
   ]
  },
  {
   "cell_type": "markdown",
   "metadata": {},
   "source": [
    "<a id='delete'></a>\n",
    "## Delete Rows\n",
    "\n",
    "The next program example deletes multiple records from table `LINEITEM`. It uses a `DELETE` statement which contains a parameter marker as follows:\n",
    "```sql\n",
    "delete from lineitem where name=?\n",
    "```\n",
    "\n",
    "The statement is prepared with the following function call:\n",
    "```go\n",
    "st, err := db.Prepare(\"delete from lineitem where name=?\")\n",
    "```\n",
    "\n",
    "\n",
    "The names of the items to be deleted are stored in a dynamic array `lineitems`. The program iterates over the array as shown below: \n",
    "```go\n",
    "lineitems := []string{\"Shirt\",\"Coffee\"}\n",
    "for _,item := range lineitems{\n",
    "    _,err = st.Exec(item)\n",
    "```\n",
    "\n",
    "Execute program `delete.go ` from the shell. "
   ]
  },
  {
   "cell_type": "markdown",
   "metadata": {},
   "source": [
    "<!--delete.go-->\n",
    "```go\n",
    "// delete.go\n",
    "\n",
    "package main\n",
    "import (\n",
    "    _ \"github.com/ibmdb/go_ibm_db\"\n",
    "    \"database/sql\"\n",
    "    \"fmt\"\n",
    ")\n",
    "\n",
    "var err error\n",
    "var db *sql.DB\n",
    "var con = \"HOSTNAME=localhost;PORT=50000;DATABASE=SAMPLE;UID=DB2INST1;PWD=db2inst1\"\n",
    "\n",
    "func connect() error {\n",
    "        db, err = sql.Open(\"go_ibm_db\", con)\n",
    "        if err != nil {\n",
    "                fmt.Println(err)\n",
    "                return err\n",
    "        }\n",
    "        return nil\n",
    "}\n",
    "\n",
    "func main() {\n",
    "        if connect() != nil { return } else { defer db.Close() }\n",
    "\n",
    "        st, err := db.Prepare(\"delete from lineitem where name=?\")\n",
    "        if err !=nil {\n",
    "                fmt.Println(\"Error in Prepare: \")\n",
    "                fmt.Println(err)\n",
    "                return\n",
    "        }\n",
    "\n",
    "        lineitems:= []string{\"Shirt\",\"Coffee\"}\n",
    "        for _,item := range lineitems{\n",
    "                _,err = st.Exec(item)\n",
    "                if err != nil{\n",
    "                        fmt.Println(\"Error:\")\n",
    "                        fmt.Println(err)\n",
    "                        return\n",
    "                }\n",
    "                fmt.Println(\"Item deleted:\")\n",
    "                fmt.Println(item)\n",
    "        }\n",
    "}\n",
    "```"
   ]
  },
  {
   "cell_type": "code",
   "execution_count": 56,
   "metadata": {
    "hide_input": true
   },
   "outputs": [
    {
     "data": {
      "text/html": [
       "<div style=\"margin-left: 45px\">\n",
       "<button type=\"button\" onclick=\"window.copySearch('delete.go')\">Copy</button> \n"
      ],
      "text/plain": [
       "<IPython.core.display.HTML object>"
      ]
     },
     "metadata": {},
     "output_type": "display_data"
    }
   ],
   "source": [
    "%%html\n",
    "<div style=\"margin-left: 45px\">\n",
    "<button type=\"button\" onclick=\"window.copySearch('delete.go')\">Copy</button> "
   ]
  },
  {
   "cell_type": "markdown",
   "metadata": {},
   "source": [
    "<a id='update_multiple'></a>\n",
    "## Perform Multiple Changes\n",
    "\n",
    "By default, SQL statemets that modify data are immediately commited after they are executed. It is also possible to perform multiple changes in one unit of work as you will see in a later example. \n",
    "\n",
    "The following sample program can be used to verify the default behaviour which auto commits each statement. The program retrieves each record from table `LINEITEM` and assigns a new quantity value to the record. \n",
    "\n",
    "It retrieves the records with the following select statement:\n",
    "```sql\n",
    "select * from lineitem\n",
    "```\n",
    "The values of each retrieved record are first stored into variables `id`, `name`, and `qty`. A record is modified with the following update statement:\n",
    "```sql\n",
    "update lineitem set qty=? where id=?\n",
    "```\n",
    "\n",
    "When you execute the program it will randomly select a new quantity value and assign this value to each record in the table. The new quantity value is based on the current time, i.e. with each execution of the program a different quantity value will be used.\n",
    "\n",
    "After a record was updated the program waits for one second before it continues to process the next record. This allows you to interrupt the program while the records are updated. \n",
    "\n",
    "Now perform the following steps:\n",
    "- Execute program `update_all.go` from the shell and wait until it has completed all updates.\n",
    "- Check the content of table `lineitem` by running the following commands from the shell: \n",
    "\n",
    "``` \n",
    "su - db2inst1\n",
    "db2 connect to sample\n",
    "db2 \"select * from lineitem\"\n",
    "```\n",
    "- Execute program `update_all.go` again and interrupt the program after it has updated the first two records. To interrupt the program type `Ctrl-C` in the shell window where you started the program.\n",
    "- Check the content of table `lineitem`. \n",
    "\n",
    "You see that some records have been updated with the new quantity value while other records have not been updated yet. In many cases, this is not the desired behaviour. In transactional systems you have to ensure that either all SQL statements of a transaction are performed or none of them. In the next lab we will modify program `update_all.go` to implement this behaviour."
   ]
  },
  {
   "cell_type": "markdown",
   "metadata": {},
   "source": [
    "<!--update_all.go-->\n",
    "```go\n",
    "// update_all.go\n",
    "\n",
    "package main\n",
    "import (\n",
    "    _ \"github.com/ibmdb/go_ibm_db\"\n",
    "    \"database/sql\"\n",
    "    \"fmt\"\n",
    "    \"time\"\n",
    ")\n",
    "var err error\n",
    "var db *sql.DB\n",
    "var con = \"HOSTNAME=localhost;PORT=50000;DATABASE=SAMPLE;UID=DB2INST1;PWD=db2inst1\"\n",
    "\n",
    "func connect() error {\n",
    "        db, err = sql.Open(\"go_ibm_db\", con)\n",
    "        if err != nil {\n",
    "                fmt.Println(err)\n",
    "                return err\n",
    "        }\n",
    "        return nil\n",
    "}\n",
    "func main() {\n",
    "        if connect() != nil { return } else { defer db.Close() }\n",
    "\n",
    "        rows,err := db.Query(\"select * from lineitem\")\n",
    "        if err != nil {\n",
    "                return\n",
    "        }\n",
    "        defer rows.Close()\n",
    "\n",
    "        var currentTime int64\n",
    "        currentTime = time.Now().Unix()\n",
    "        newqty := currentTime & 0x00000000000000FF\n",
    "        fmt.Println(\"Quantity:\", newqty)\n",
    "\n",
    "        var id int32\n",
    "        var name string\n",
    "        var qty int32\n",
    "\n",
    "        for rows.Next() {\n",
    "                err = rows.Scan(&id,&name,&qty)\n",
    "                if err != nil{\n",
    "                        fmt.Println(err)\n",
    "                        return\n",
    "                }\n",
    "                fmt.Printf(\"Fetched one row:\\n\")\n",
    "                fmt.Printf(\"%-5d %-10s %-5d\\n\",id,name,qty)\n",
    "                time.Sleep(1*time.Second)\n",
    "            \n",
    "                fmt.Printf(\"Updating row with new quantity value: %d\\n\",newqty)\n",
    "                _,err = db.Exec(\"update lineitem set qty=? where id=?\",newqty,id)\n",
    "                if err != nil{\n",
    "                        fmt.Println(err)\n",
    "                        return\n",
    "                }\n",
    "\n",
    "        }\n",
    "}\n",
    "```"
   ]
  },
  {
   "cell_type": "code",
   "execution_count": 57,
   "metadata": {
    "hide_input": false
   },
   "outputs": [
    {
     "data": {
      "text/html": [
       "<div style=\"margin-left: 45px\">\n",
       "<button type=\"button\" onclick=\"window.copySearch('update_all.go')\">Copy</button> \n"
      ],
      "text/plain": [
       "<IPython.core.display.HTML object>"
      ]
     },
     "metadata": {},
     "output_type": "display_data"
    }
   ],
   "source": [
    "%%html\n",
    "<div style=\"margin-left: 45px\">\n",
    "<button type=\"button\" onclick=\"window.copySearch('update_all.go')\">Copy</button> "
   ]
  },
  {
   "cell_type": "markdown",
   "metadata": {},
   "source": [
    "<a id='update_multiple_uow'></a>\n",
    "## Perform Multiple Changes in a Unit of Work\n",
    "\n",
    "The following program example extents the previous program example and makes sure that all update statements are performed in one unit of work (UoW). This is achieved by calling function `Begin()` before the update operations start and by calling function `Commit()` after the updates are completed.\n",
    "\n",
    "Function `Begin()`returns a handle `uow` to the unit of work as follows:\n",
    "```go\n",
    "uow, err := db.Begin()\n",
    "```\n",
    "\n",
    "This handle must be used in all following SQL calls that should be part of this particular unit of work. Therefore, we execute the update statements as follows:\n",
    "```go\n",
    "_,err = uow.Exec(\"update lineitem set qty=? where id=?\",newqty,id)\n",
    "```\n",
    "\n",
    "We also use handle `uow` to execute function `Commit()` as follows:\n",
    "```go\n",
    "err = uow.Commit()\n",
    "```\n",
    "\n",
    "Now perform the following steps:\n",
    "\n",
    "- Execute program `update_all_uow.go` from the shell and wait until it has completed all updates.\n",
    "- Check the content of table lineitem by running the following commands from the shell:\n",
    "```\n",
    "su - db2inst1\n",
    "db2 connect to sample\n",
    "db2 \"select * from lineitem\"\n",
    "```\n",
    "- Execute program `update_all_uow.go` again and interrupt the program after it has updated the first two records. To interrupt the program type Ctrl-C in the shell window where you started the program.\n",
    "- Check the content of table lineitem. You see that no records have been updated.\n",
    "\n",
    "As explained above, you can use functions `Begin()` and `Commit()` to perform multiple changes as one atomic transaction. This ensures that either all changes or none of the changes are performed.\n"
   ]
  },
  {
   "cell_type": "markdown",
   "metadata": {},
   "source": [
    "<!--update_all_uow.go-->\n",
    "```go\n",
    "// update_all_uow.go\n",
    "\n",
    "package main\n",
    "import (\n",
    "    _ \"github.com/ibmdb/go_ibm_db\"\n",
    "    \"database/sql\"\n",
    "    \"fmt\"\n",
    "    \"time\"\n",
    ")\n",
    "var err error\n",
    "var db *sql.DB\n",
    "var con = \"HOSTNAME=localhost;PORT=50000;DATABASE=SAMPLE;UID=DB2INST1;PWD=db2inst1\"\n",
    "\n",
    "func connect() error {\n",
    "        db, err = sql.Open(\"go_ibm_db\", con)\n",
    "        if err != nil {\n",
    "                fmt.Println(err)\n",
    "                return err\n",
    "        }\n",
    "        return nil\n",
    "}\n",
    "\n",
    "func main() {\n",
    "        if connect() != nil { return } else { defer db.Close() }\n",
    "\n",
    "        rows,err := db.Query(\"select * from lineitem\")\n",
    "        if err != nil {\n",
    "                return\n",
    "        }\n",
    "        defer rows.Close()\n",
    "\n",
    "        var currentTime int64\n",
    "        currentTime = time.Now().Unix()\n",
    "        newqty := currentTime & 0x00000000000000FF\n",
    "        fmt.Println(\"Quantity:\", newqty)\n",
    "\n",
    "        var id int32\n",
    "        var name string\n",
    "        var qty int32\n",
    "\n",
    "        // Begin Unit of Work (UoW)\n",
    "        uow, err := db.Begin()\n",
    "        if err != nil {\n",
    "                fmt.Println(err)\n",
    "                return\n",
    "        }\n",
    "        for rows.Next() {\n",
    "                err = rows.Scan(&id,&name,&qty)\n",
    "                if err != nil{\n",
    "                        fmt.Println(err)\n",
    "                        return\n",
    "                }\n",
    "                fmt.Printf(\"Fetched one row:\\n\")\n",
    "                fmt.Printf(\"%-5d %-10s %-5d\\n\",id,name,qty)\n",
    "                time.Sleep(1*time.Second)\n",
    "            \n",
    "                fmt.Printf(\"Updating row with new quantity value: %d\\n\",newqty)\n",
    "                _,err = uow.Exec(\"update lineitem set qty=? where id=?\",newqty,id)\n",
    "                if err != nil{\n",
    "                        fmt.Println(err)\n",
    "                        return\n",
    "                }\n",
    "\n",
    "        }\n",
    "        // End Unit of Work\n",
    "        err = uow.Commit()\n",
    "        if err != nil {\n",
    "                fmt.Println(err)\n",
    "                return\n",
    "        }\n",
    "}\n",
    "```\n"
   ]
  },
  {
   "cell_type": "code",
   "execution_count": 58,
   "metadata": {
    "hide_input": true,
    "tags": [
     "refresh"
    ]
   },
   "outputs": [
    {
     "data": {
      "text/html": [
       "<div style=\"margin-left: 45px\">\n",
       "<button type=\"button\" onclick=\"window.copySearch('update_all_uow.go')\">Copy</button> \n"
      ],
      "text/plain": [
       "<IPython.core.display.HTML object>"
      ]
     },
     "metadata": {},
     "output_type": "display_data"
    }
   ],
   "source": [
    "%%html\n",
    "<div style=\"margin-left: 45px\">\n",
    "<button type=\"button\" onclick=\"window.copySearch('update_all_uow.go')\">Copy</button> "
   ]
  },
  {
   "cell_type": "markdown",
   "metadata": {},
   "source": [
    "<a id='solutions'></a>\n",
    "## Additional sample programs"
   ]
  },
  {
   "cell_type": "markdown",
   "metadata": {},
   "source": [
    "<a id='count3.go'></a>\n",
    "### count3.go"
   ]
  },
  {
   "cell_type": "markdown",
   "metadata": {
    "hide_input": false
   },
   "source": [
    "<!--count3.go-->\n",
    "```go\n",
    "// count3.go\n",
    "\n",
    "package main\n",
    "import (\n",
    "    _ \"github.com/ibmdb/go_ibm_db\"\n",
    "    \"database/sql\"\n",
    "    \"fmt\"\n",
    ")\n",
    "var err error\n",
    "var db *sql.DB\n",
    "var con = \"HOSTNAME=localhost;PORT=50000;DATABASE=SAMPLE;UID=DB2INST1;PWD=db2inst1\"\n",
    "\n",
    "func connect() error {\n",
    "        db, err = sql.Open(\"go_ibm_db\", con)\n",
    "        if err != nil {\n",
    "                fmt.Println(err)\n",
    "                return err\n",
    "        }\n",
    "        return nil\n",
    "}\n",
    "\n",
    "func count(tabname string) error {\n",
    "        var count int32\n",
    "        err = db.QueryRow(\"SELECT count(*) FROM \"+tabname).Scan(&count)\n",
    "        if err != nil {\n",
    "                return err\n",
    "        }\n",
    "        fmt.Printf(\"Table \\\"%s\\\" contains %d rows.\\n\",tabname,count)\n",
    "        return nil\n",
    "}\n",
    "\n",
    "func main() {\n",
    "        if connect() != nil { return } else { defer db.Close() }\n",
    "\n",
    "        tabs := []string{\"ACT\",\"EMPLOYEE\",\"null\",\"ROLES\",\"SALES\",\"ORG\",\"STAFF\"}\n",
    "        for index, tab := range tabs {\n",
    "                fmt.Printf(\"%d\\n\", index)\n",
    "                err = count(tab)\n",
    "                if err != nil { fmt.Println(err) }\n",
    "        }\n",
    "}\n",
    "```"
   ]
  },
  {
   "cell_type": "code",
   "execution_count": 50,
   "metadata": {
    "hide_input": true,
    "tags": [
     "refresh"
    ]
   },
   "outputs": [
    {
     "data": {
      "text/html": [
       "<div style=\"margin-left: 45px\">\n",
       "<button type=\"button\" onclick=\"window.copySearch('count3.go')\">Copy</button> \n"
      ],
      "text/plain": [
       "<IPython.core.display.HTML object>"
      ]
     },
     "metadata": {},
     "output_type": "display_data"
    }
   ],
   "source": [
    "%%html\n",
    "<div style=\"margin-left: 45px\">\n",
    "<button type=\"button\" onclick=\"window.copySearch('count3.go')\">Copy</button> "
   ]
  },
  {
   "cell_type": "markdown",
   "metadata": {},
   "source": [
    "#### Credits: IBM 2019, Andreas Christian [achristian@de.ibm.com]"
   ]
  }
 ],
 "metadata": {
  "kernelspec": {
   "display_name": "Python 3",
   "language": "python",
   "name": "python3"
  },
  "language_info": {
   "codemirror_mode": {
    "name": "ipython",
    "version": 3
   },
   "file_extension": ".py",
   "mimetype": "text/x-python",
   "name": "python",
   "nbconvert_exporter": "python",
   "pygments_lexer": "ipython3",
   "version": "3.7.4"
  }
 },
 "nbformat": 4,
 "nbformat_minor": 2
}
