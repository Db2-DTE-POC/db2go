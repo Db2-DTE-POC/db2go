{
 "cells": [
  {
   "cell_type": "markdown",
   "metadata": {},
   "source": [
    "# Accessing Db2 with Go\n",
    "\n",
    "This lab uses the **go_ibm_db** cli driver, which is already installed in the lab environment. The driver can be used to develop applications that are running on Linux, Mac, or Windows environments. It provides an interface for GoLang to Db2 for z/OS, Db2 for LUW, and Db2 for i.  \n",
    "  \n",
    "If you want to use the driver in your own environment you can [download it from GitHub](https://github.com/ibmdb/go_ibm_db). "
   ]
  },
  {
   "cell_type": "code",
   "execution_count": 76,
   "metadata": {},
   "outputs": [
    {
     "data": {
      "application/javascript": [
       "window.findCellIndicesByTag = function findCellIndicesByTag(tagName) {\n",
       "  return (Jupyter.notebook.get_cells()\n",
       "    .filter(\n",
       "      ({metadata: {tags}}) => tags && tags.includes(tagName)\n",
       "    )\n",
       "    .map((cell) => Jupyter.notebook.find_cell_index(cell))\n",
       "  );\n",
       "};\n",
       "\n",
       "window.refresh = function runPlotCells() {\n",
       "    var c = window.findCellIndicesByTag('refresh');\n",
       "    Jupyter.notebook.execute_cells(c);\n",
       "};\n",
       "\n",
       "window.clipboard = function copyContents(delta=-1) {\n",
       "    var cell = Jupyter.notebook.get_selected_index();\n",
       "    var content = Jupyter.notebook.get_cell(cell).get_text();\n",
       "    var n = content.search(\"%%html\");\n",
       "    if (n != -1) {\n",
       "        cell = cell + delta    \n",
       "        content = Jupyter.notebook.get_cell(cell).get_text();  \n",
       "    }      \n",
       "    content = content.replace(/```.*\\n?/g, \"\")\n",
       "    navigator.clipboard.writeText(content);\n",
       "}\n"
      ],
      "text/plain": [
       "<IPython.core.display.Javascript object>"
      ]
     },
     "metadata": {},
     "output_type": "display_data"
    },
    {
     "data": {
      "application/javascript": [
       "window.refresh()"
      ],
      "text/plain": [
       "<IPython.core.display.Javascript object>"
      ]
     },
     "metadata": {},
     "output_type": "display_data"
    }
   ],
   "source": [
    "%run refresh.ipynb"
   ]
  },
  {
   "cell_type": "markdown",
   "metadata": {},
   "source": [
    "## Table of Contents\n",
    "\n",
    "* [Overview of the Db2-Go lab environment](#overview)\n",
    "* [Connect to database SAMPLE](#connect)\n",
    "* [Retrieve a single row from a table](#select_single)\n",
    "* [Execute a query and fetch the result set](#fetch)\n",
    "* [Retrieve the column names from the result set](#fetch_columns)\n",
    "* [Additional sample Programs](#solutions)\n",
    "    * [count3.go](#count3.go)"
   ]
  },
  {
   "cell_type": "markdown",
   "metadata": {},
   "source": [
    "<a id='introduction'></a>\n",
    "## Overview of the Db2-Go lab environment\n",
    "\n",
    "You use database **SAMPLE** for the Db2-Go tutorials. The database is already installed in the lab environment. You can check [the schema description of the database](https://www.ibm.com/support/knowledgecenter/en/SSEPGG_11.1.0/com.ibm.db2.luw.apdv.samptop.doc/doc/r0001094.html).\n",
    "Below is a list of the tables that are used in the labs together with the corresponding number of rows and columns.\n",
    "\n",
    "| Tables                 | Number of Rows          | Number of Columns  |\n",
    "|:---------------------- |:------------------------|:-------------------|\n",
    "|ACT|18|3|\n",
    "|DEPARTMENT|14|5|\n",
    "|EMPLOYEE  |42|14|\n",
    "|EMPPROJACT|73|6|\n",
    "|ORG|8|5|\n",
    "|PROJECT|20|9|\n",
    "|ROLES|11|2|\n",
    "|SALES|41|4|\n",
    "|STAFF|3|7|"
   ]
  },
  {
   "cell_type": "markdown",
   "metadata": {},
   "source": [
    "You can explore the database using either the Db2 command line, or the Db2 Jupyter notebook extensions. To explore the database from the Db2 command line perform the following steps:\n",
    "\n",
    "- Open a shell window (click the *terminal* icon in the task bar below the Linux desktop)\n",
    "\n",
    "\n",
    "- Switch to user db2inst1 (password: db2inst1):  \n",
    "\n",
    "    `su - db2inst1`\n",
    "\n",
    "\n",
    "- Connect to database SAMPLE:  \n",
    "\n",
    "    `db2 connect to sample`\n",
    "\n",
    "\n",
    "- Show the tables in schema DB2INST1:  \n",
    "\n",
    "    `db2 \"select substr(tabname,1,15) from syscat.tables where tabschema='DB2INST1'\"`\n",
    "\n",
    "\n",
    "- Show the table definition of one of the tables, for example, table ACT:  \n",
    "\n",
    "    `db2 \"describe table act`\n",
    "\n",
    "\n",
    "- Retrieve the rows from one of the tables, for example, table ACT:  \n",
    "\n",
    "    `db2 \"select * from act\"`"
   ]
  },
  {
   "cell_type": "markdown",
   "metadata": {},
   "source": [
    "## View the Database Contents Using Db2 Jupyter Extensions\n",
    "The following code will load the Db2 Magic commands required to run SQL against Db2 from within a Jupyter Notebook."
   ]
  },
  {
   "cell_type": "code",
   "execution_count": 44,
   "metadata": {},
   "outputs": [
    {
     "name": "stdout",
     "output_type": "stream",
     "text": [
      "Db2 Extensions Loaded.\n",
      "Connection successful.\n",
      "Sample tables [EMPLOYEE, DEPARTMENT] created.\n"
     ]
    }
   ],
   "source": [
    "%run db2.ipynb\n",
    "%run connection.ipynb"
   ]
  },
  {
   "cell_type": "markdown",
   "metadata": {},
   "source": [
    "### List the Tables in the DB2INST1 Schema"
   ]
  },
  {
   "cell_type": "code",
   "execution_count": 46,
   "metadata": {},
   "outputs": [
    {
     "data": {
      "application/vnd.jupyter.widget-view+json": {
       "model_id": "8c5bdd1bbf2748da9ebd8b9249d6c516",
       "version_major": 2,
       "version_minor": 0
      },
      "text/plain": [
       "QgridWidget(grid_options={'fullWidthRows': True, 'syncColumnCellResize': True, 'forceFitColumns': False, 'defa…"
      ]
     },
     "metadata": {},
     "output_type": "display_data"
    }
   ],
   "source": [
    "%sql -grid select substr(tabname,1,15) from syscat.tables where tabschema='DB2INST1'"
   ]
  },
  {
   "cell_type": "markdown",
   "metadata": {},
   "source": [
    "### Describe the ACT Table"
   ]
  },
  {
   "cell_type": "code",
   "execution_count": 48,
   "metadata": {},
   "outputs": [
    {
     "data": {
      "text/html": [
       "<div>\n",
       "<style scoped>\n",
       "    .dataframe tbody tr th:only-of-type {\n",
       "        vertical-align: middle;\n",
       "    }\n",
       "\n",
       "    .dataframe tbody tr th {\n",
       "        vertical-align: top;\n",
       "    }\n",
       "\n",
       "    .dataframe thead th {\n",
       "        text-align: right;\n",
       "    }\n",
       "</style>\n",
       "<table border=\"1\" class=\"dataframe\">\n",
       "  <thead>\n",
       "    <tr style=\"text-align: right;\">\n",
       "      <th></th>\n",
       "      <th>COLNAME</th>\n",
       "      <th>TYPESCHEMA</th>\n",
       "      <th>TYPENAME</th>\n",
       "      <th>LENGTH</th>\n",
       "      <th>SCALE</th>\n",
       "      <th>NULLABLE</th>\n",
       "    </tr>\n",
       "  </thead>\n",
       "  <tbody>\n",
       "    <tr>\n",
       "      <td>0</td>\n",
       "      <td>ACTNO</td>\n",
       "      <td>SYSIBM</td>\n",
       "      <td>SMALLINT</td>\n",
       "      <td>2</td>\n",
       "      <td>0</td>\n",
       "      <td>N</td>\n",
       "    </tr>\n",
       "    <tr>\n",
       "      <td>1</td>\n",
       "      <td>ACTKWD</td>\n",
       "      <td>SYSIBM</td>\n",
       "      <td>CHARACTER</td>\n",
       "      <td>6</td>\n",
       "      <td>0</td>\n",
       "      <td>N</td>\n",
       "    </tr>\n",
       "    <tr>\n",
       "      <td>2</td>\n",
       "      <td>ACTDESC</td>\n",
       "      <td>SYSIBM</td>\n",
       "      <td>VARCHAR</td>\n",
       "      <td>20</td>\n",
       "      <td>0</td>\n",
       "      <td>N</td>\n",
       "    </tr>\n",
       "  </tbody>\n",
       "</table>\n",
       "</div>"
      ],
      "text/plain": [
       "   COLNAME TYPESCHEMA   TYPENAME  LENGTH  SCALE NULLABLE\n",
       "0    ACTNO   SYSIBM     SMALLINT       2      0        N\n",
       "1   ACTKWD   SYSIBM    CHARACTER       6      0        N\n",
       "2  ACTDESC   SYSIBM      VARCHAR      20      0        N"
      ]
     },
     "execution_count": 48,
     "metadata": {},
     "output_type": "execute_result"
    }
   ],
   "source": [
    "%sql describe table act"
   ]
  },
  {
   "cell_type": "markdown",
   "metadata": {},
   "source": [
    "### View the Contents of the ACT Table"
   ]
  },
  {
   "cell_type": "code",
   "execution_count": 49,
   "metadata": {},
   "outputs": [
    {
     "data": {
      "application/vnd.jupyter.widget-view+json": {
       "model_id": "df7acde00eff4bc1b10f6e6b3d5beeac",
       "version_major": 2,
       "version_minor": 0
      },
      "text/plain": [
       "QgridWidget(grid_options={'fullWidthRows': True, 'syncColumnCellResize': True, 'forceFitColumns': False, 'defa…"
      ]
     },
     "metadata": {},
     "output_type": "display_data"
    }
   ],
   "source": [
    "%sql -grid select * from act"
   ]
  },
  {
   "cell_type": "markdown",
   "metadata": {},
   "source": [
    "## GO Language Environment"
   ]
  },
  {
   "cell_type": "markdown",
   "metadata": {},
   "source": [
    "The following variables should be set in your Linux environment:\n",
    "```bash\n",
    "DB2HOME=\"/home/db2pot/go/src/github.com/ibmdb/go_ibm_db/installer/clidriver\n",
    "CGO_CFLAGS=-I$DB2HOME/include\n",
    "CGO_LDFLAGS=-L$DB2HOME/lib\n",
    "LD_LIBRARY_PATH=/home/db2pot/go/src/github.com/ibmdb/go_ibm_db/installer/clidriver/lib\n",
    "```\n",
    "\n",
    "For OSX you require the following environment setting.\n",
    "```bash\n",
    "DYLD_LIBRARY_PATH=$DYLD_LIBRARY_PATH:/home/db2pot/go/src/github.com/ibmdb/go_ibm_db/installer/clidriver/lib\n",
    "```\n",
    "\n",
    "Before you start, make sure that the environment is set up correctly:\n",
    "- Open a Linux shell\n",
    "\n",
    "\n",
    "- If you are not already logged on as user `db2pot`, switch to user `db2pot` (password: `123qwe123`). \n",
    "<br><p>**Note:** Execute all Go program examples as user **db2pot**.    \n",
    "\n",
    "```bash\n",
    "su - db2pot\n",
    "```    \n",
    "\n",
    "\n",
    "- To check the value of an environment variable, for example `DB2HOME`, run the following command:  \n",
    "\n",
    "```bash\n",
    "export | grep DB2HOME\n",
    "```\n",
    "\n",
    "\n",
    "- The environment variables are defined in file `.profile` in directory `/home/db2pot`\n",
    "\n",
    "```bash\n",
    "more /home/db2pot/.profile\n",
    "```\n",
    "\n",
    "Execute all program examples from the Linux shell. To execute a program, take the following steps:\n",
    "\n",
    "- Create directory `Labs` in the home directory of user db2pot:  \n",
    "\n",
    "```bash\n",
    "cd /home/db2pot\n",
    "mkdir Labs\n",
    "```\n",
    "\n",
    "- Copy the program code from the Jupyter notebook into a package file. The first line of each program example shows the program name that should be used when you create the corresponding program file. For example, for the below listed `hello_world.go` program create the corresponding program file as follows:  \n",
    "\n",
    "```bash\n",
    "cd /home/db2pot/Labs\n",
    "gedit hello_world.go\n",
    "```\n",
    "    \n",
    "- Copy and paste the program code to the text editor\n",
    "\n",
    "\n",
    "- Click the `Save` button\n",
    "\n",
    "\n",
    "- Execute the program as follows:\n",
    "\n",
    "```bash\n",
    "go run hello_world.go\n",
    "```\n",
    "    \n",
    "Try the above steps with the following program code and run *hello_world.go* from the Linux shell.\n",
    "\n",
    "**Note:** Throughout this lab there are code samples that need to be copied and modified in an editor. There are `Copy to Clipboard` buttons below code samples that can be used to place the contents of the examples into the clipboard which you can then paste into an editor. First select the cell that you want to copy (it will have a blue box surrounding the text) and then click on the copy button."
   ]
  },
  {
   "cell_type": "markdown",
   "metadata": {},
   "source": [
    "```go\n",
    "// hello_world.go\n",
    "package main\n",
    "import \"fmt\"\n",
    "func main() {\n",
    "    fmt.Println(\"Hello world\")\n",
    "}\n",
    "```"
   ]
  },
  {
   "cell_type": "code",
   "execution_count": 86,
   "metadata": {
    "hide_input": true,
    "tags": [
     "refresh"
    ]
   },
   "outputs": [
    {
     "data": {
      "text/html": [
       "<button type=\"button\" onclick=\"window.clipboard()\">Copy to Clipboard</button> \n"
      ],
      "text/plain": [
       "<IPython.core.display.HTML object>"
      ]
     },
     "metadata": {},
     "output_type": "display_data"
    }
   ],
   "source": [
    "%%html\n",
    "<button type=\"button\" onclick=\"window.clipboard()\">Copy to Clipboard</button> "
   ]
  },
  {
   "cell_type": "markdown",
   "metadata": {},
   "source": [
    "<a id='connect'></a>\n",
    "## Connect to database SAMPLE\n",
    "\n",
    "You start with a simple program that connects to the `SAMPLE` database. It imports the following packages which are required to deploy the Db2 driver API:\n",
    "```go\n",
    "import _ \"github.com/ibmdb/go_ibm_db\"  \n",
    "import \"database/sql\"  \n",
    "```\n",
    "**Note:** The underscore before packge `github.com/ibmdb/go_ibm_db` is required. It ensures that the `init` function of the package is executed and package-level variables are created.\n",
    "\n",
    "The function `sql.Open()` is executed to setup a database connection. It requires the driver name `go_ibm_db` and the connection string `con` as input parameters. The connection string specifies hostname, port number, database name, user name , and password. \n",
    "If `sql.Open()` was executed successfully, the database handle `db` is initialized. Otherwise it will be `nil`. Before the program terminates it calls function `db.Close()`. It closes the database connection and cleans up the database handle.  \n",
    "  \n",
    "Execute the `connect.go` program example from the shell as described in the previous section."
   ]
  },
  {
   "cell_type": "markdown",
   "metadata": {},
   "source": [
    "```go\n",
    "// connect.go\n",
    "\n",
    "package main\n",
    "\n",
    "import (\n",
    "    _ \"github.com/ibmdb/go_ibm_db\"\n",
    "    \"database/sql\"\n",
    "    \"fmt\"\n",
    ")\n",
    "\n",
    "func main(){\n",
    "        con := \"HOSTNAME=localhost;PORT=50000;DATABASE=SAMPLE;UID=DB2INST1;PWD=db2inst1\"\n",
    "        db, err:=sql.Open(\"go_ibm_db\", con)\n",
    "        if err != nil {\n",
    "                fmt.Println(err)\n",
    "        }\n",
    "        fmt.Println(\"Success!\")\n",
    "        db.Close()\n",
    "}\n",
    "```"
   ]
  },
  {
   "cell_type": "code",
   "execution_count": 78,
   "metadata": {
    "hide_input": false,
    "tags": [
     "refresh"
    ]
   },
   "outputs": [
    {
     "data": {
      "text/html": [
       "<button type=\"button\" onclick=\"window.clipboard()\">Copy to Clipboard</button> \n"
      ],
      "text/plain": [
       "<IPython.core.display.HTML object>"
      ]
     },
     "metadata": {},
     "output_type": "display_data"
    }
   ],
   "source": [
    "%%html\n",
    "<button type=\"button\" onclick=\"window.clipboard()\">Copy to Clipboard</button> "
   ]
  },
  {
   "cell_type": "markdown",
   "metadata": {},
   "source": [
    "Now adjust the code to make it more handy to use. Since the database handle `db` is always required to execute a Db2 API function, define the connection related variables `db`, `err`, and `con` outside of function `main()`. This makes sure you can access the database handle in all functions that are defined in package `main`.  \n",
    "\n",
    "Also put the `db.Open()` call into a separate function `connect()`. \n",
    "\n",
    "Finally, make sure that function `db.Close()` is automatically called when function `main()` terminates. Put the `defer` keyword in front of the statement. This makes sure that `db.Close()` is automatically executed as soon as a return statement is executed anywhere in function `main()`.\n",
    "\n",
    "The following program code contains all modifications that are described above. Execute `connect2.go` from the shell."
   ]
  },
  {
   "cell_type": "markdown",
   "metadata": {},
   "source": [
    "```go\n",
    "// connect2.go\n",
    "\n",
    "import (\n",
    "    _ \"github.com/ibmdb/go_ibm_db\"\n",
    "    \"database/sql\"\n",
    "    \"fmt\"\n",
    ")\n",
    "\n",
    "var err error\n",
    "var db *sql.DB\n",
    "var con = \"HOSTNAME=localhost;PORT=50000;DATABASE=SAMPLE;UID=DB2INST1;PWD=db2inst1\"\n",
    "\n",
    "func connect() error {\n",
    "        db, err = sql.Open(\"go_ibm_db\", con)\n",
    "        if err != nil {\n",
    "                fmt.Println(err)\n",
    "                return err\n",
    "        }\n",
    "        return nil\n",
    "}\n",
    "\n",
    "func main() {\n",
    "        if connect() != nil { return } else { defer db.Close() }\n",
    "    \n",
    "        fmt.Println(\"Success!\")\n",
    "}\n",
    "```"
   ]
  },
  {
   "cell_type": "code",
   "execution_count": 79,
   "metadata": {
    "hide_input": true,
    "tags": [
     "refresh"
    ]
   },
   "outputs": [
    {
     "data": {
      "text/html": [
       "<button type=\"button\" onclick=\"window.clipboard()\">Copy to Clipboard</button> \n"
      ],
      "text/plain": [
       "<IPython.core.display.HTML object>"
      ]
     },
     "metadata": {},
     "output_type": "display_data"
    }
   ],
   "source": [
    "%%html\n",
    "<button type=\"button\" onclick=\"window.clipboard()\">Copy to Clipboard</button> "
   ]
  },
  {
   "cell_type": "markdown",
   "metadata": {},
   "source": [
    "<a id='select_single'></a>\n",
    "## Retrieve a single row from a table\n",
    "\n",
    "In the next example, you use function `db.QueryRow()` to run a query that is expected to return at most one row. If there multiple rows in the query result set,  the function will only access the first row and discard the rest.  \n",
    "  \n",
    "You use the following select statement in this example:  \n",
    "  \n",
    "```sql\n",
    "select count(*) statement from act\n",
    "```\n",
    "\n",
    "This statement always returns exactly one row and returns the number of records in table ACT.\n",
    "\n",
    "The `Scan()` function copies the columns from the current row into the values pointed. Since we expect a single integer value in the query result set, we define variable `count` of type `int32` and pass a pointer to that variable into function `scan()`.  \n",
    "  \n",
    "Execute program `count_in_main.go` from the shell."
   ]
  },
  {
   "cell_type": "markdown",
   "metadata": {},
   "source": [
    "```go\n",
    "// count_in_main.go\n",
    "\n",
    "package main\n",
    "import (\n",
    "    _ \"github.com/ibmdb/go_ibm_db\"\n",
    "    \"database/sql\"\n",
    "    \"fmt\"\n",
    ")\n",
    "var err error\n",
    "var db *sql.DB\n",
    "var con = \"HOSTNAME=localhost;PORT=50000;DATABASE=SAMPLE;UID=DB2INST1;PWD=db2inst1\"\n",
    "\n",
    "func connect() error {\n",
    "        db, err = sql.Open(\"go_ibm_db\", con)\n",
    "        if err != nil {\n",
    "                fmt.Println(err)\n",
    "                return err\n",
    "        }\n",
    "        return nil\n",
    "}\n",
    "func main() {\n",
    "        if connect() != nil { return } else { defer db.Close() }\n",
    "\n",
    "        var count int32\n",
    "        err = db.QueryRow(\"SELECT count(*) FROM act\").Scan(&count)\n",
    "        if err != nil {\n",
    "                fmt.Println(err)\n",
    "                return\n",
    "        }\n",
    "        fmt.Println(\"Rowcount=\",count)\n",
    "}\n",
    "```"
   ]
  },
  {
   "cell_type": "code",
   "execution_count": 80,
   "metadata": {
    "hide_input": true,
    "tags": [
     "refresh"
    ]
   },
   "outputs": [
    {
     "data": {
      "text/html": [
       "<button type=\"button\" onclick=\"window.clipboard()\">Copy to Clipboard</button> \n"
      ],
      "text/plain": [
       "<IPython.core.display.HTML object>"
      ]
     },
     "metadata": {},
     "output_type": "display_data"
    }
   ],
   "source": [
    "%%html\n",
    "<button type=\"button\" onclick=\"window.clipboard()\">Copy to Clipboard</button> "
   ]
  },
  {
   "cell_type": "markdown",
   "metadata": {},
   "source": [
    "In the next example, the call to function `db.QueryRow()` is moved into a separate function `count()`. This function expects a tablename as parameter. It prints the row count of the table and returns parameter `err`. \n",
    "This allows us to check in `main()` if an error occured in function `count()`."
   ]
  },
  {
   "cell_type": "markdown",
   "metadata": {},
   "source": [
    "```go\n",
    "// count2.go\n",
    "\n",
    "package main\n",
    "import (\n",
    "    _ \"github.com/ibmdb/go_ibm_db\"\n",
    "    \"database/sql\"\n",
    "    \"fmt\"\n",
    ")\n",
    "var err error\n",
    "var db *sql.DB\n",
    "var con = \"HOSTNAME=localhost;PORT=50000;DATABASE=SAMPLE;UID=DB2INST1;PWD=db2inst1\"\n",
    "\n",
    "func connect() error {\n",
    "        db, err = sql.Open(\"go_ibm_db\", con)\n",
    "        if err != nil {\n",
    "                fmt.Println(err)\n",
    "                return err\n",
    "        }\n",
    "        return nil\n",
    "}\n",
    "func count(tabname string) error { \n",
    "        var count int32\n",
    "        err = db.QueryRow(\"SELECT count(*) FROM \"+tabname).Scan(&count)\n",
    "        if err != nil {\n",
    "                fmt.Println(err)\n",
    "                return err\n",
    "        }       \n",
    "        fmt.Printf(\"Table \\\"%s\\\" contains %d rows.\\n\",tabname,count)\n",
    "        return nil\n",
    "}\n",
    "\n",
    "func main() {\n",
    "        if connect() != nil { return } else { defer db.Close() }\n",
    "\n",
    "        count(\"ACT\")\n",
    "        count(\"DEPARTMENT\")\n",
    "        count(\"EMPLOYEE\")\n",
    "        count(\"null\")\n",
    "        count(\"ORG\")\n",
    "}\n",
    "```"
   ]
  },
  {
   "cell_type": "code",
   "execution_count": 81,
   "metadata": {
    "hide_input": true,
    "tags": [
     "refresh"
    ]
   },
   "outputs": [
    {
     "data": {
      "text/html": [
       "<button type=\"button\" onclick=\"window.clipboard()\">Copy to Clipboard</button> \n"
      ],
      "text/plain": [
       "<IPython.core.display.HTML object>"
      ]
     },
     "metadata": {},
     "output_type": "display_data"
    }
   ],
   "source": [
    "%%html\n",
    "<button type=\"button\" onclick=\"window.clipboard()\">Copy to Clipboard</button> "
   ]
  },
  {
   "cell_type": "markdown",
   "metadata": {},
   "source": [
    "You see that one of the table names in the list is invalid (\"`null`\"). In this case the program just prints an error message and continues to process. You could also do additional error handling in function `main()`. For example, you could remove the `Printf()` statement in function `count()` and then invoke `count()` in function `main()` as follows:  \n",
    "```go\n",
    "if count(\"ACT\") != nil { fmt.Printf(\"Error in function count()\") }\n",
    "```\n",
    "Try to rewrite program `count2.go`. Create a new program `count3.go` that performs the following steps:\n",
    "- Stores the tablenames in a dynamic array\n",
    "- Iterates over the array\n",
    "- Passes each table name to function `count()`\n",
    "- Checks the return value of function `count()` and does the error handling in function `main()`.\n",
    "\n",
    "You find the corresponding program `count3.go` at the end of this notebook."
   ]
  },
  {
   "cell_type": "markdown",
   "metadata": {},
   "source": [
    "<a id='fetch'></a>\n",
    "## Execute a query and fetch the result set\n",
    "\n",
    "Next, you learn how to run a `SELECT` statement that returns more than one row. In this example, we use the following select statement:  \n",
    "  \n",
    " ```sql\n",
    " select userid,role from roles\n",
    " ```  \n",
    "  \n",
    "Function `db.Query()` prepares and executes the `SELECT` statement. Function `rows.Next()` iterates over the result set and prepares the next result row for reading with the `Scan()` api. Since the `SELECT` statement returns two values in each row of the result set, we define variables `a` and `b` and pass their address to function `Scan()`. The function copies the columns from the current row into variables `a` and `b`.\n",
    "\n",
    "Execute program `fetch_rows.go` from the shell. The program will abort with an error. Try to modify the program code and fix the error."
   ]
  },
  {
   "cell_type": "markdown",
   "metadata": {},
   "source": [
    "```go\n",
    "// fetch_rows.go\n",
    "\n",
    "package main\n",
    "import (\n",
    "    _ \"github.com/ibmdb/go_ibm_db\"\n",
    "    \"database/sql\"\n",
    "    \"fmt\"\n",
    ")\n",
    "var err error\n",
    "var db *sql.DB\n",
    "var con = \"HOSTNAME=localhost;PORT=50000;DATABASE=SAMPLE;UID=DB2INST1;PWD=db2inst1\"\n",
    "\n",
    "func connect() error {\n",
    "        db, err = sql.Open(\"go_ibm_db\", con)\n",
    "        if err != nil {\n",
    "                fmt.Println(err)\n",
    "                return err\n",
    "        }\n",
    "        return nil\n",
    "}\n",
    "\n",
    "func main() {\n",
    "        if connect() != nil { return } else { defer db.Close() }\n",
    "\n",
    "        rows,err := db.Query(\"select userid,role from roles\")\n",
    "        if err != nil {\n",
    "                return\n",
    "        }\n",
    "        // make sure that the \"rows\" handle is released when main returns\n",
    "        defer rows.Close()\n",
    "\n",
    "        // iterate over all rows in the query result\n",
    "        var a,b int32\n",
    "        for rows.Next() {\n",
    "                err = rows.Scan(&a,&b)\n",
    "                if err != nil{\n",
    "                        fmt.Println(err)\n",
    "                        return\n",
    "                }\n",
    "                fmt.Printf(\"%s  %s\\n\",a,b)\n",
    "        }\n",
    "}\n",
    "```"
   ]
  },
  {
   "cell_type": "code",
   "execution_count": 82,
   "metadata": {
    "hide_input": true,
    "tags": [
     "refresh"
    ]
   },
   "outputs": [
    {
     "data": {
      "text/html": [
       "<button type=\"button\" onclick=\"window.clipboard()\">Copy to Clipboard</button> \n"
      ],
      "text/plain": [
       "<IPython.core.display.HTML object>"
      ]
     },
     "metadata": {},
     "output_type": "display_data"
    }
   ],
   "source": [
    "%%html\n",
    "<button type=\"button\" onclick=\"window.clipboard()\">Copy to Clipboard</button> "
   ]
  },
  {
   "cell_type": "markdown",
   "metadata": {},
   "source": [
    "The program aborts with the following error message:  \n",
    "  \n",
    "```go\n",
    "sql: Scan error on column index 0, name \"USERID\": converting driver.Value type []uint8 (\"JAMES\") to a int32: invalid syntax\n",
    "```\n",
    "  \n",
    "You can fix the problem by changing the type of variables `a` and `b`. They are declared as `int32`. Since the `SELECT` statement returns string values the variables should be of type `string`."
   ]
  },
  {
   "cell_type": "markdown",
   "metadata": {},
   "source": [
    "<a id='fetch_columns'></a>\n",
    "## Retrieve the column names from the result set\n",
    "\n",
    "Db2 provides the option to rename table columns. So the names of columns may change over time. Therefore, it can be useful to retrieve the current column names from a table. \n",
    "\n",
    "To retrieve the column names, we use a SQL query that selects all columns from the table and retrieves one row only:  \n",
    "  \n",
    " ```sql\n",
    " select * from employee fetch first 1 row only\n",
    " ```  \n",
    "   \n",
    "   \n",
    "We use function `db.Query()` to execute that query. The function returns a handle to the query result (`rows`):\n",
    "\n",
    " ```go\n",
    " rows,err := db.Query(\"select * from employee fetch first 1 row only\")\n",
    " ```  \n",
    "  \n",
    "We then use handle `rows` to retrieve the column names. Function `rows.Columns()` stores the column names in a dynamically created array:  \n",
    "  \n",
    " ```go\n",
    " cols, err := rows.Columns()\n",
    " ```\n",
    "  \n",
    "We can use function `Printf()` to print the whole array at once:  \n",
    "  \n",
    " ```go\n",
    " fmt.Printf(\"%v\\n\",cols) \n",
    " ```\n",
    "  \n",
    "Alternatively, we can use the `range` operator to iterate over the array and print each element on a separate line. There are different ways to use the range operator:  \n",
    " ```go  \n",
    " for _,name := range cols { ... }\n",
    " for idx,name := range cols { ... }\n",
    " ```  \n",
    "\n",
    "In our example, we use the first form which only retrieves the elements of the array `cols`. Alternatively, you can also retrieve the index value of each array element. Execute program `get_columns.go` from the shell. "
   ]
  },
  {
   "cell_type": "markdown",
   "metadata": {},
   "source": [
    "```go\n",
    "// get_columns.go\n",
    "\n",
    "package main\n",
    "import (\n",
    "    _ \"github.com/ibmdb/go_ibm_db\"\n",
    "    \"database/sql\"\n",
    "    \"fmt\"\n",
    ")\n",
    "\n",
    "var err error\n",
    "var db *sql.DB\n",
    "var con = \"HOSTNAME=localhost;PORT=50000;DATABASE=SAMPLE;UID=DB2INST1;PWD=db2inst1\"\n",
    "\n",
    "func connect() error {\n",
    "        db, err = sql.Open(\"go_ibm_db\", con)\n",
    "        if err != nil {\n",
    "                fmt.Println(err)\n",
    "                return err\n",
    "        }\n",
    "        return nil\n",
    "}\n",
    "func main() {\n",
    "        if connect() != nil { return } else { defer db.Close() }\n",
    "\n",
    "        rows,err := db.Query(\"select * from employee fetch first 1 row only\")\n",
    "        if err != nil {\n",
    "                fmt.Printf(\"db.Query(): error!\")\n",
    "                return\n",
    "        }\n",
    "        // make sure that the \"rows\" handle is released when main returns\n",
    "        defer rows.Close()\n",
    "\n",
    "        cols, err := rows.Columns()\n",
    "        fmt.Println(\"Number of columns: \",len(cols))\n",
    "        // print the whole array at once\n",
    "        fmt.Printf(\"%v\\n\",cols)\n",
    "        // print each column name on a separate line\n",
    "        for _,name := range cols {\n",
    "                fmt.Printf(\"%s\\n\",name)\n",
    "        }\n",
    "}\n",
    "```"
   ]
  },
  {
   "cell_type": "code",
   "execution_count": 83,
   "metadata": {
    "hide_input": true,
    "tags": [
     "refresh"
    ]
   },
   "outputs": [
    {
     "data": {
      "text/html": [
       "<button type=\"button\" onclick=\"window.clipboard()\">Copy to Clipboard</button> \n"
      ],
      "text/plain": [
       "<IPython.core.display.HTML object>"
      ]
     },
     "metadata": {},
     "output_type": "display_data"
    }
   ],
   "source": [
    "%%html\n",
    "<button type=\"button\" onclick=\"window.clipboard()\">Copy to Clipboard</button> "
   ]
  },
  {
   "cell_type": "markdown",
   "metadata": {},
   "source": [
    "<a id='solutions'></a>\n",
    "## Additional sample programs"
   ]
  },
  {
   "cell_type": "markdown",
   "metadata": {},
   "source": [
    "<a id='count3.go'></a>\n",
    "### count3.go"
   ]
  },
  {
   "cell_type": "markdown",
   "metadata": {},
   "source": [
    "```go\n",
    "// count3.go\n",
    "\n",
    "package main\n",
    "import (\n",
    "    _ \"github.com/ibmdb/go_ibm_db\"\n",
    "    \"database/sql\"\n",
    "    \"fmt\"\n",
    ")\n",
    "var err error\n",
    "var db *sql.DB\n",
    "var con = \"HOSTNAME=localhost;PORT=50000;DATABASE=SAMPLE;UID=DB2INST1;PWD=db2inst1\"\n",
    "\n",
    "func connect() error {\n",
    "        db, err = sql.Open(\"go_ibm_db\", con)\n",
    "        if err != nil {\n",
    "                fmt.Println(err)\n",
    "                return err\n",
    "        }\n",
    "        return nil\n",
    "}\n",
    "\n",
    "func count(tabname string) error {\n",
    "        var count int32\n",
    "        err = db.QueryRow(\"SELECT count(*) FROM \"+tabname).Scan(&count)\n",
    "        if err != nil {\n",
    "                return err\n",
    "        }\n",
    "        fmt.Printf(\"Table \\\"%s\\\" contains %d rows.\\n\",tabname,count)\n",
    "        return nil\n",
    "}\n",
    "\n",
    "func main() {\n",
    "        if connect() != nil { return } else { defer db.Close() }\n",
    "\n",
    "        tabs := []string{\"ACT\",\"EMPLOYEE\",\"null\",\"ROLES\",\"SALES\",\"ORG\",\"STAFF\"}\n",
    "        for index, tab := range tabs {\n",
    "                fmt.Printf(\"%d\\n\", index)\n",
    "                err = count(tab)\n",
    "                if err != nil { fmt.Println(err) }\n",
    "        }\n",
    "}\n",
    "```"
   ]
  },
  {
   "cell_type": "code",
   "execution_count": 84,
   "metadata": {
    "hide_input": true,
    "tags": [
     "refresh"
    ]
   },
   "outputs": [
    {
     "data": {
      "text/html": [
       "<button type=\"button\" onclick=\"window.clipboard()\">Copy to Clipboard</button> \n"
      ],
      "text/plain": [
       "<IPython.core.display.HTML object>"
      ]
     },
     "metadata": {},
     "output_type": "display_data"
    }
   ],
   "source": [
    "%%html\n",
    "<button type=\"button\" onclick=\"window.clipboard()\">Copy to Clipboard</button> "
   ]
  },
  {
   "cell_type": "markdown",
   "metadata": {},
   "source": [
    "#### Credits: IBM 2019, Andreas Christian [achristian@de.ibm.com]"
   ]
  }
 ],
 "metadata": {
  "kernelspec": {
   "display_name": "Python 3",
   "language": "python",
   "name": "python3"
  },
  "language_info": {
   "codemirror_mode": {
    "name": "ipython",
    "version": 3
   },
   "file_extension": ".py",
   "mimetype": "text/x-python",
   "name": "python",
   "nbconvert_exporter": "python",
   "pygments_lexer": "ipython3",
   "version": "3.7.4"
  }
 },
 "nbformat": 4,
 "nbformat_minor": 2
}
