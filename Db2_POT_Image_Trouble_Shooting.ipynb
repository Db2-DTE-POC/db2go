{
 "cells": [
  {
   "cell_type": "markdown",
   "metadata": {},
   "source": [
    "# System Hints and Tips\n",
    "Updated: 2019-11-08\n",
    "\n",
    "The following is a list of known problems and how to **hopefully** solve them."
   ]
  },
  {
   "cell_type": "markdown",
   "metadata": {},
   "source": [
    "### How to access Jupyter Notebooks and the Db2 Console\n",
    "Jupyter notebooks are found on port 8888. Use the following line to access the notebooks: \n",
    "[Jupyter Notebooks](http://localhost:8888).\n",
    "\n",
    "The table of contents can be found here: [Table of Contents](http://localhost:8888/notebooks/Table_of_Contents.ipynb)\n",
    "\n",
    "The Db2 console is found on port 11080 and is started by default. If the console is not working, you can issue the  following command:\n",
    "```bash\n",
    "sudo /opt/ibm-datamgmtconsole/bin/startup.sh\n",
    "```\n",
    "\n",
    "To access the console, use the following link: [Db2 Data Management Console](http://localhost:11080)."
   ]
  },
  {
   "cell_type": "markdown",
   "metadata": {},
   "source": [
    "### Jupyter Notebooks are not working\n",
    "In the event something has gone wrong with the Jupyter Notebook system, you can issue the following commands to stop (gracefully) the engine and restart it.\n",
    "```bash\n",
    "jupyter notebook stop 8888\n",
    "```\n",
    "When the service has stopped (or it isn't working), issue this command to start it. Note that when you run this command in a terminal window, the window will remain open and Jupyter will display any messages in the window.\n",
    "```bash\n",
    "jupyter notebook --NotebookApp.token='' \\\n",
    "\t\t --NotebookApp.disable_check_xsrf='True' \\\n",
    "\t\t --notebook-dir=~/notebooks \\\n",
    "\t\t --ip='0.0.0.0' \\\n",
    "\t\t --port=8888 \\\n",
    "\t\t --no-browser \\\n",
    "\t\t --allow-root\n",
    "```"
   ]
  },
  {
   "cell_type": "markdown",
   "metadata": {},
   "source": [
    "### Issuing Root Commands\n",
    "If you need to issue root-level commands, the `db2pot` userid has been given the proper permissions to do that. You should not need to enter a password when issuing `sudo` in front of any command."
   ]
  },
  {
   "cell_type": "markdown",
   "metadata": {},
   "source": [
    "### Networking does not appear to work\n",
    "If a virtual machine has been suspended and then restarted, then it may forget its network connection. This may also happen on a local machine that is running VMWare and the IP address assigned to the machine has now been reassigned.\n",
    "\n",
    "Issue the following command:\n",
    "```bash\n",
    "sudo service network-manager restart\n",
    "```"
   ]
  },
  {
   "cell_type": "markdown",
   "metadata": {},
   "source": [
    "### Trash doesn't Empty\n",
    "Somes no matter what you do, the trash just doesn't want to empty! Try the following commands from a command prompt or run the next command.\n",
    "```bash\n",
    "cd .local/share/Trash/\n",
    "cd files\n",
    "sudo rm -rf *\n",
    "```"
   ]
  },
  {
   "cell_type": "markdown",
   "metadata": {},
   "source": [
    "### Db2 Doesn't Appear to be Up and Running\n",
    "If Db2 is not working then you will get a communication failure when you try to connect. To start up Db2 you need to issue the command as if you were the instance owner (`db2inst1`). The password for the `db2inst1` user is `db2inst1`. You will need to supply it when you issue the `su` command below.\n",
    "\n",
    "```bash\n",
    "su - db2inst1\n",
    "db2start\n",
    "exit\n",
    "```\n",
    "\n",
    "You can also use this technique to connect to the `SAMPLE` database using the Db2 command line and the `db2inst1` userid in the event you need to change something with the database or instance."
   ]
  },
  {
   "cell_type": "markdown",
   "metadata": {},
   "source": [
    "### Using SSL Connections\n",
    "The Db2 system that is being used in this POT does not require the use of SSL (secure) communications since everything is done internally. However, if you want to connect to another Db2 server (for instance, Db2 on Cloud), then you **might** need to use SSL. The instructions for connecting with SSL are found in the Db2 Magic command section, but in order for SSL to work you must have a local certificate for the system that you are connecting to. This image already has a security certificate installed for connecting to Db2 on the Cloud and the certificate can be found in the `Downloads` directory (`DigiCertGlobalRootCA.crt`). If you need to connect to another system that requires SSL then you must download the certificate to this machine and install the certificate. The steps required to do this are:\n",
    "\n",
    "1 - Make sure the certificates package is installed and up to date\n",
    "```bash\n",
    "sudo apt-get install ca-certificates -y\n",
    "```\n",
    "\n",
    "2 - Copy the certificate file to the proper location\n",
    "```bash\n",
    "cd ~/Downloads (or wherever you placed the .crt file)\n",
    "sudo cp CERTIFICATE.crt /usr/local/share/ca-certificate\n",
    "```\n",
    "\n",
    "3 - Update your certificate\n",
    "```bash\n",
    "sudo update-ca-certificates\n",
    "```"
   ]
  },
  {
   "cell_type": "markdown",
   "metadata": {},
   "source": [
    "#### Credits: IBM 2019, George Baklarz [baklarz@ca.ibm.com]"
   ]
  }
 ],
 "metadata": {
  "kernelspec": {
   "display_name": "Python 3",
   "language": "python",
   "name": "python3"
  },
  "language_info": {
   "codemirror_mode": {
    "name": "ipython",
    "version": 3
   },
   "file_extension": ".py",
   "mimetype": "text/x-python",
   "name": "python",
   "nbconvert_exporter": "python",
   "pygments_lexer": "ipython3",
   "version": "3.7.4"
  }
 },
 "nbformat": 4,
 "nbformat_minor": 2
}
