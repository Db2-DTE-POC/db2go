{
 "cells": [
  {
   "cell_type": "markdown",
   "metadata": {},
   "source": [
    "# Accessing Db2 with Visual Studio Code\n",
    "\n",
    "This lab includes a copy of Visual Studio Code from Microsoft. Visual Studio Code (https://code.visualstudio.com/docs) is a lightweight but powerful source code editor which runs on your desktop and is available for Windows, macOS and Linux. It comes with built-in support for JavaScript, TypeScript and Node.js and has a rich ecosystem of extensions for other languages (such as C++, C#, Java, Python, PHP, Go) and runtimes (such as .NET and Unity).\n",
    "\n",
    "Visual Studio Code (VS Code) is available for a number of environments and VS Code is free for private or commercial use. See the product license for details (https://code.visualstudio.com/license).\n",
    "\n",
    "To install VS Code on your own system visit the main VS Code site (https://code.visualstudio.com/) and download the version appropriate for your operating system. Note that on some Linux distributions, VS Code can be found in the software download library. If you want to make sure you have the latest release then you should download the code from the VS Code site.\n",
    "\n",
    "In addition to downloading and installing the product, you will also need some additional components on Linux to use the Db2 extensions:\n",
    "\n",
    "- Node.js\n",
    "- npm (Node.js package manager)\n",
    "\n",
    "These packages are available in a number of formats but the most reliable way of installing these components is to download the code using the repository found at NodeSource. Detailed notes can be found at https://hostadvice.com/how-to/how-to-install-node-js-on-ubuntu-18-04/ for Ubuntu distributions.\n",
    "\n",
    "The first step is to activate the NodeSource repository:\n",
    "```bash\n",
    "curl -sL https://deb.nodesource.com/setup_8.x | sudo bash -\n",
    "```\n",
    "\n",
    "The second step will install Node.js and npm:\n",
    "```bash\n",
    "sudo apt install nodejs\n",
    "```\n",
    "\n",
    "The installation can be verified by checking the version number of Node.js and npm.\n",
    "```bash\n",
    "node --version\n",
    "npm --version\n",
    "```\n",
    "\n",
    "Once Node.js has been installed, you can continue with the installation of the Db2 Extension."
   ]
  },
  {
   "cell_type": "markdown",
   "metadata": {},
   "source": [
    "### Starting Visual Studio Code\n",
    "VS Code is already installed on this image and can be found in the Linux task bar as highlighted here:"
   ]
  },
  {
   "cell_type": "markdown",
   "metadata": {},
   "source": [
    "   ![](./media/visualstudio-selected.png)"
   ]
  },
  {
   "cell_type": "markdown",
   "metadata": {},
   "source": [
    "Clicking on the icon will start VS Code and present a screen similar to the following:"
   ]
  },
  {
   "cell_type": "markdown",
   "metadata": {},
   "source": [
    "   ![](./media/vscode-initial.png)"
   ]
  },
  {
   "cell_type": "markdown",
   "metadata": {},
   "source": [
    "There are many resources available on the VS Code site to explain what all of the functions are (https://code.visualstudio.com/docs) so this lab will only focus on the features that are required to access Db2. On the side of the editor you will find 5 icons."
   ]
  },
  {
   "cell_type": "markdown",
   "metadata": {},
   "source": [
    "   ![](./media/vscode-sidepanel.png)"
   ]
  },
  {
   "cell_type": "markdown",
   "metadata": {},
   "source": [
    "These icons represent:\n",
    "- Explorer - View objects in your environment, including open editing sessions and folders that contain code\n",
    "- Search - Search and replace values \n",
    "- Source Code Control - You can add extensions to VS Code to manage source code changes\n",
    "- Run and Debug your code\n",
    "- Extensions - Add Extensions to VS Code\n",
    "\n",
    "To install the Db2 extension, you need to select the Extensions Icon which will present you with a search box. "
   ]
  },
  {
   "cell_type": "markdown",
   "metadata": {},
   "source": [
    "   ![](./media/vscode-extension-search.png)"
   ]
  },
  {
   "cell_type": "markdown",
   "metadata": {},
   "source": [
    "If you type in Db2 into the search bar, you will be presented with a number of VS Code extensions that you can add to the editor."
   ]
  },
  {
   "cell_type": "markdown",
   "metadata": {},
   "source": [
    "   ![](./media/vscode-extension-db2.png)"
   ]
  },
  {
   "cell_type": "markdown",
   "metadata": {},
   "source": [
    "The Db2 extension for VS Code is specific to the environment. In the list you can see that there are a number of choices, but the one that needs to be installed is the `Db2Connect [linux version]` for our environment.\n",
    "\n",
    "More details about the extension can be found in the right-hand side of the screen when you select the extension."
   ]
  },
  {
   "cell_type": "markdown",
   "metadata": {},
   "source": [
    "   ![](./media/vscode-db2-details.png)"
   ]
  },
  {
   "cell_type": "markdown",
   "metadata": {},
   "source": [
    "Installing the extension is relatively straightforward. The green **Install** icon will start the process of downloading the extension and the required libraries for connecting to Db2. The icon will change to **Installing**.\n",
    "\n",
    "**Note:** The extension has already been installed so you don't have to follow this step."
   ]
  },
  {
   "cell_type": "markdown",
   "metadata": {},
   "source": [
    "   ![](./media/vscode-installing.png)"
   ]
  },
  {
   "cell_type": "markdown",
   "metadata": {},
   "source": [
    "Once the installation is complete you will see the icon change to **Installed** and an additional option of **Uninstall** being displayed."
   ]
  },
  {
   "cell_type": "markdown",
   "metadata": {},
   "source": [
    "   ![](./media/vscode-installed.png)"
   ]
  },
  {
   "cell_type": "markdown",
   "metadata": {},
   "source": [
    "You are now ready to try using this feature. In addition, VS Code has also been updated to contain support for the following languages:\n",
    "- Go Language\n",
    "- C/C++\n",
    "- Python\n"
   ]
  },
  {
   "cell_type": "markdown",
   "metadata": {},
   "source": [
    "## Db2 Commands in VS Code\n",
    "The top of the VS Code screen has a set of menu items. The **View** menu includes an item called **Command Palette**. The Command Palette contains all of the commands that you can run in VS Code, including commands that have been imported from a new extension. The Db2 commands can be found by using this menu item."
   ]
  },
  {
   "cell_type": "markdown",
   "metadata": {},
   "source": [
    "   ![](./media/vscode-toolbar.png)"
   ]
  },
  {
   "cell_type": "markdown",
   "metadata": {},
   "source": [
    "The **Command Palette** displays a list of commands that you can execute. "
   ]
  },
  {
   "cell_type": "markdown",
   "metadata": {},
   "source": [
    "   ![](./media/vscode-palette.png)"
   ]
  },
  {
   "cell_type": "markdown",
   "metadata": {},
   "source": [
    "To get a list of Db2 commands, type **db2** into the search line. "
   ]
  },
  {
   "cell_type": "markdown",
   "metadata": {},
   "source": [
    "   ![](./media/vscode-db2commands.png)"
   ]
  },
  {
   "cell_type": "markdown",
   "metadata": {},
   "source": [
    "The commands that can be executed from within this environment include:\n",
    "- Execute query - This will run an SQL statement that returns a result set\n",
    "- Connect - Connect to a database\n",
    "- Disconnect - Disconnect from a database\n",
    "- Execute Non-Query - This is used for creating objects, procedures, views, and most DCL, DDL commands\n",
    "- Manage Connection Profiles - Rather than typing in connection information every time, you can create a profile for a database\n",
    "- Rebuild Native Modules - In the event that the Db2 extension is updated or an error occurs, you may want to rebuild the native modules\n",
    "- Report and Issue - A shortcut for letting development know about an issue that you've encountered\n",
    "- View Command History - A list of all commands that you have run in VS Code"
   ]
  },
  {
   "cell_type": "markdown",
   "metadata": {},
   "source": [
    "## Connecting and Disconnecting from a Database"
   ]
  },
  {
   "cell_type": "markdown",
   "metadata": {},
   "source": [
    "When you select the **Db2:Connect** option from the command menu, you are given the choice of three ways to connect to a database."
   ]
  },
  {
   "cell_type": "markdown",
   "metadata": {},
   "source": [
    "   ![](./media/vscode-db2-connect.png)"
   ]
  },
  {
   "cell_type": "markdown",
   "metadata": {},
   "source": [
    "### Connect with a Connection String"
   ]
  },
  {
   "cell_type": "markdown",
   "metadata": {},
   "source": [
    "The first option should be used if you already have a connection string similar to the following:\n",
    "```javascript\n",
    "HOSTNAME=localhost;PORT=50000;DATABASE=SAMPLE;UID=DB2INST1;PWD=db2inst1\n",
    "```\n",
    "When you select this option, a template is displayed that you can fill in or replace with your own connection string."
   ]
  },
  {
   "cell_type": "markdown",
   "metadata": {},
   "source": [
    "   ![](./media/vscode-db2-connect-prompt.png)"
   ]
  },
  {
   "cell_type": "markdown",
   "metadata": {},
   "source": [
    "If there are any errors associated with your credentials or userid, an error message will be displayed near the bottom of the VS Code screen. There is one message that you may get when running in a Linux environment which suggests that there has been a communication failure. "
   ]
  },
  {
   "cell_type": "markdown",
   "metadata": {},
   "source": [
    "   ![](./media/vscode-db2-connect-error.png)"
   ]
  },
  {
   "cell_type": "markdown",
   "metadata": {},
   "source": [
    "This error may be caused by Db2 not being started. To start Db2 you will need to open up a terminal window and issue the command `db2start`. If this doesn't resolve the problem then this error may be caused by the Db2 extension using Node.js to communicate with the Db2 database, and the appropriate Db2 ports not being open for communication. This error can occur even in a system where Db2, Node.js, and the Db2 extension co-reside.\n",
    "\n",
    "To resolve this issue, make sure that the Db2 port is open in the Linux firewall by issuing the following commands. The commands require administrative (root) privileges so it assumes you are able to use sudo to execute these commands:\n",
    "```bash\n",
    "(Redhat)\n",
    "sudo firewall-cmd --zone=public --add-port=50000/tcp --permanent\n",
    "sudo firewaii-cmd --reload\n",
    "\n",
    "(Ubuntu)\n",
    "sudo ufw allow 50000/tcp\n",
    "sudo ufw reload\n",
    "```\n",
    "When the connection is successful, you will see a message at the bottom righthand corner of the VS Code editor."
   ]
  },
  {
   "cell_type": "markdown",
   "metadata": {},
   "source": [
    "   ![](./media/vscode-db2-connect-ok.png)"
   ]
  },
  {
   "cell_type": "markdown",
   "metadata": {},
   "source": [
    "### Disconnecting from a Database\n",
    "Once you have connected to a database, you cannot use the Db2 Connection command to change to a different database. You must first execute the **Db2:Disconnect** command, release the connection resources, and then connect to a different database."
   ]
  },
  {
   "cell_type": "markdown",
   "metadata": {},
   "source": [
    "   ![](./media/vscode-db2-disconnect.png)"
   ]
  },
  {
   "cell_type": "markdown",
   "metadata": {},
   "source": [
    "### Connect Using the Connect Dialog"
   ]
  },
  {
   "cell_type": "markdown",
   "metadata": {},
   "source": [
    "The second connection option displays all of the parameters in a dialog. Fill in the information for the database and press the **Connect** button. The dialog will close and a connection will be attempted. If the connection fails for any reason, you will need to fill in the fields again."
   ]
  },
  {
   "cell_type": "markdown",
   "metadata": {},
   "source": [
    "   ![](./media/vscode-db2-connect-dialog.png)"
   ]
  },
  {
   "cell_type": "markdown",
   "metadata": {},
   "source": [
    "### Connect Using a Connection Profile\n",
    "When you select the Connection Profile option, the Db2 extension will prompt you for a connection profile name."
   ]
  },
  {
   "cell_type": "markdown",
   "metadata": {},
   "source": [
    "   ![](./media/vscode-db2-connection-profiles.png)"
   ]
  },
  {
   "cell_type": "markdown",
   "metadata": {},
   "source": [
    "If you have not registered any connections then this dialog will be blank. Select the connection that you want from the list that is displayed. If the list does not include the connection profile that you want then you will need to use the **Db2:Manage Connection Profiles** command to add a new connection. For convenience, the connection profiles here are named after the database that they connect to, but this is not a requirement."
   ]
  },
  {
   "cell_type": "markdown",
   "metadata": {},
   "source": [
    "## Managing Connection Profiles\n",
    "If you are constantly switching between different databases, you may find it more convenient to create Connection Profiles with the **Db2: Manage Connection Profiles** command. Connection profiles contain the various settings required to connect to a Db2 database. The connection menu lets you **Create**, **Edit**, and **Delete** profiles."
   ]
  },
  {
   "cell_type": "markdown",
   "metadata": {},
   "source": [
    "   ![](./media/vscode-db2-manage-profile.png)"
   ]
  },
  {
   "cell_type": "markdown",
   "metadata": {},
   "source": [
    "When you **Create** a profile, it asks for the same connection information that you would have used in the connection dialog. You can **Test** the connection before saving the information. "
   ]
  },
  {
   "cell_type": "markdown",
   "metadata": {},
   "source": [
    "   ![](./media/vscode-db2-create-profile.png)"
   ]
  },
  {
   "cell_type": "markdown",
   "metadata": {},
   "source": [
    "Note that the **Save & Close** button does not verify that your connection information is correct. If a profile already exists with the name, it will be overwritten without warning.\n",
    "\n",
    "To update an existing profile, use the **Edit Profile** option. This option will display the following panel. Select the profile you want to edit from the drop down list."
   ]
  },
  {
   "cell_type": "markdown",
   "metadata": {},
   "source": [
    "   ![](./media/vscode-db2-update-profile.png)"
   ]
  },
  {
   "cell_type": "markdown",
   "metadata": {},
   "source": [
    "Make whatever changes you need to the settings and then press the **Update & Close** button. If you want the system to change your password for connecting to Db2, select the **[x] change password** box and fill in the old and new password fields.\n",
    "\n",
    "Finally, if you want to **Delete** an existing profile, select the **Delete Profile** option and then select the profile name from the dropdown list."
   ]
  },
  {
   "cell_type": "markdown",
   "metadata": {},
   "source": [
    "   ![](./media/vscode-db2-profile-delete.png)"
   ]
  },
  {
   "cell_type": "markdown",
   "metadata": {},
   "source": [
    "## Executing a DDL/DCL Statement (Non-Query)\n",
    "Once you have connected to a Db2 database, you can issue DDL/DCL commands (Data Definition and Data Control) or DML (Data Manipulation) commands. For any action that creates, deletes, or updates the definition of an object (View, Procedure, Function, Trigger, Table, etc...) then you need to use the **Db2:Execute Non-Query** command. This command should also be used for SQL commands that update data: **INSERT**, **UPDATE**, **DELETE**, and **MERGE**. Any command that does not return an answer set should use the **Db2:Execute Non-Query** command.\n",
    "\n",
    "When you select the **Db2:Execute Non-Query** command, VS Code will prompt you to supply the SQL statement."
   ]
  },
  {
   "cell_type": "markdown",
   "metadata": {},
   "source": [
    "   ![](./media/vscode-db2-execute-nonquery.png)"
   ]
  },
  {
   "cell_type": "markdown",
   "metadata": {},
   "source": [
    "There are a few limitations when using this interface. You cannot chain multiple commands together and the input will not span multiple lines. The SQL will display as a single line so you will need to use the arrow keys to review the command before executing it. A good practice would be to open a text window in VS Code, create your SQL in the editor and then cut and paste the text into this command window. The **Enter** key will execute the text immediately and display a return code."
   ]
  },
  {
   "cell_type": "markdown",
   "metadata": {},
   "source": [
    "## Executing a Query\n",
    "If you want to retrieve data from Db2 then you should use the **Db2:Execute Query** command. The Db2 extension will prompt you to supply the SQL statement."
   ]
  },
  {
   "cell_type": "markdown",
   "metadata": {},
   "source": [
    "   ![](./media/vscode-db2-execute-query.png)"
   ]
  },
  {
   "cell_type": "markdown",
   "metadata": {},
   "source": [
    "The same limiations apply to **Db2:Execute Query** as they do with **Db2:Execute Non-Query** - single statement only with everything found on one line. Best practice would be to write your SQL in an editor window and cut and paste it into the command. Use the **Enter** key to execute the SQL.\n",
    "\n",
    "There are situations where you will need to use **Db2:Execute Query** even though the SQL statement may be updating, inserting or deleting data. This type of SQL usually has a `FINAL TABLE`, `OLD TABLE`, or `NEW TABLE` as part of the SQL.\n",
    "```sql\n",
    "SELECT empno, salary FROM FINAL TABLE\n",
    "\t(UPDATE employee SET salary = salary * 1.10 WHERE job = 'CLERK')\n",
    "```\n",
    "\n",
    "The rule is that if your SQL will end up returning a result set, regardless of the use of `INSERT`, `UPDATE`, `DELETE`, or `MERGE`, then you should be using **Db2:Execute Query**.\n",
    "\n",
    "When the SQL completes, the VS Code window will change to display the result set."
   ]
  },
  {
   "cell_type": "markdown",
   "metadata": {},
   "source": [
    "   ![](./media/vscode-db2-results.png)"
   ]
  },
  {
   "cell_type": "markdown",
   "metadata": {},
   "source": [
    "The result set can be scrolled up and down as well as left and right depending on the number of columns being returned. Each result set will have its own window so you can view multiple answer sets at the same time."
   ]
  },
  {
   "cell_type": "markdown",
   "metadata": {},
   "source": [
    "   ![](./media/vscode-db2-results2.png)"
   ]
  },
  {
   "cell_type": "markdown",
   "metadata": {},
   "source": [
    "When you are done reviewing a result set, click on the `x` beside the RESULT at the top of the window to remove the output."
   ]
  },
  {
   "cell_type": "markdown",
   "metadata": {},
   "source": [
    "## Miscellanous Commands\n",
    "There are three additional Db2 extension commands available:\n",
    "- View Command History\n",
    "- Rebuild Native Modules\n",
    "- Report an Issue\n",
    "\n",
    "Each of these is described in a section below."
   ]
  },
  {
   "cell_type": "markdown",
   "metadata": {},
   "source": [
    "### View Command History\n",
    "The **Db2:Command History** command will display a list of commands that you have executed since starting the VS Code session. The information includes the time and date that the command was issued as well as the command itself."
   ]
  },
  {
   "cell_type": "markdown",
   "metadata": {},
   "source": [
    "   ![](./media/vscode-db2-history.png)"
   ]
  },
  {
   "cell_type": "markdown",
   "metadata": {},
   "source": [
    "You can cut and paste commands and SQL from this document to reuse in your Db2 session. "
   ]
  },
  {
   "cell_type": "markdown",
   "metadata": {},
   "source": [
    "### Rebuilding Native Modules\n",
    "VS Code checks for extension updates and installs them automatically. After an update, you will be prompted to reload VS Code. If the Db2 VS Code extension does not run properly after an update, then you may need to run **Db2:Rebuild Native Modules** to update the modules used to communicate with Db2. "
   ]
  },
  {
   "cell_type": "markdown",
   "metadata": {},
   "source": [
    "### Report an Issue\n",
    "In the event you encounter a problem with the Db2 Extensions, you can report the issue by using the **Db2:Report an Issue** option. This option will open up another browser window which will request access to an external web site:"
   ]
  },
  {
   "cell_type": "markdown",
   "metadata": {},
   "source": [
    "   ![](./media/vscode-db2-raise-issue.png)"
   ]
  },
  {
   "cell_type": "markdown",
   "metadata": {},
   "source": [
    "The system will open up another browser tab that points to the Github page for the Db2 VS Code extensions. On this page you will find a link for reporting any issues."
   ]
  },
  {
   "cell_type": "markdown",
   "metadata": {},
   "source": [
    "   ![](./media/vscode-db2-report-error.png)"
   ]
  },
  {
   "cell_type": "markdown",
   "metadata": {},
   "source": [
    "The link will direct you to a page when you raise a **New Issue**. This will allow you to document what problems you found but also look at all of the other questions or issues that users have encountered."
   ]
  },
  {
   "cell_type": "markdown",
   "metadata": {},
   "source": [
    "   ![](./media/vscode-db2-open-issue.png)"
   ]
  },
  {
   "cell_type": "markdown",
   "metadata": {},
   "source": [
    "#### Credits: IBM 2020, George Baklarz [baklarz@ca.ibm.com]"
   ]
  }
 ],
 "metadata": {
  "kernelspec": {
   "display_name": "Python 3",
   "language": "python",
   "name": "python3"
  },
  "language_info": {
   "codemirror_mode": {
    "name": "ipython",
    "version": 3
   },
   "file_extension": ".py",
   "mimetype": "text/x-python",
   "name": "python",
   "nbconvert_exporter": "python",
   "pygments_lexer": "ipython3",
   "version": "3.7.4"
  }
 },
 "nbformat": 4,
 "nbformat_minor": 2
}
