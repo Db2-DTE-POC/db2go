{
 "cells": [
  {
   "cell_type": "markdown",
   "metadata": {},
   "source": [
    "[![](./media/dte-header.jpg)](https://www.ibm.com/demos/collection/db2-database/)\n",
    "<a id=\"top\">"
   ]
  },
  {
   "cell_type": "markdown",
   "metadata": {},
   "source": [
    "# Db2 Go Language Support\n",
    "Welcome to this Db2 lab that highlights the Db2 extensions for using the Go (Golang) programming language. This system demonstrates how you can use the Go language to connect to and query data in a Db2 database. In the event you are not familiar with Jupyter Notebooks, the first tutorial below takes you through the basics of using them. "
   ]
  },
  {
   "cell_type": "markdown",
   "metadata": {},
   "source": [
    "<div style=\"font-family: 'IBM Plex Sans';\">\n",
    "<table style=\"float:left; width: 620px; height: 235px; border-spacing: 10px; border-collapse: separate; table-layout: fixed\">\n",
    "    <td style=\"padding: 15px; text-align:left; vertical-align: text-top; background-color:#F7F7F7; width: 300px; height: 250px;\">\n",
    "        <div style=\"height: 75px\"><p style=\"font-size: 24px\">An Introduction to Jupyter Notebooks</div>\n",
    "        <div style=\"height: 125px\"><p style=\"font-size: 14px\">\n",
    "             If you are not familiar with the use of Jupyter notebooks or Python, the following notebook \n",
    "             will guide you through their usage.\n",
    "        </div>\n",
    "        <div style=\"height: 25px\"><p style=\"font-size: 12px; text-align: right\">\n",
    "            <img style=\"display: inline-block;\"src=\"./media/clock.png\">&nbsp;10min\n",
    "        </div>\n",
    "        <div style=\"height: 10px\"><p style=\"font-size: 12px; text-align: right\">\n",
    "             <a href=\"http://localhost:8888/notebooks/An_Introduction_to_Jupyter_Notebooks.ipynb\">\n",
    "                 <img style=\"display: inline-block;\"src=\"./media/arrowblue.png\"></a>            \n",
    "        </div>            \n",
    "    </td>\n",
    "    <td style=\"padding: 15px; text-align:left; vertical-align: text-top; background-color:#F7F7F7; width: 300px; height:250px\">\n",
    "        <div style=\"height: 75px\"><p style=\"font-size: 24px\">A Brief Introduction to the Go Language</div>\n",
    "        <div style=\"height: 125px\"><p style=\"font-size: 14px\">\n",
    "             The Go language was designed at Google to improve programming productivity and since has become an open source project. This notebook takes you through some of the basics of the Go programming language.\n",
    "        </div>\n",
    "        <div style=\"height: 25px\"><p style=\"font-size: 12px; text-align: right\">\n",
    "            <img style=\"display: inline-block;\"src=\"./media/clock.png\">&nbsp;20min\n",
    "        </div>  \n",
    "        <div style=\"height: 10px\"><p style=\"font-size: 12px; text-align: right\">\n",
    "             <a href=\"http://localhost:8888/notebooks/An_Introduction_to_Go.ipynb\">\n",
    "                 <img style=\"display: inline-block;\"src=\"./media/arrowblue.png\"></a>            \n",
    "        </div>            \n",
    "    </td>\n",
    "    <td style=\"padding: 15px; text-align:left; vertical-align: text-top; background-color:#F7F7F7; width: 300px; height:250px\">\n",
    "        <div style=\"height: 75px\"><p style=\"font-size: 24px\">Db2 Go Library Overview</div>\n",
    "        <div style=\"height: 125px\"><p style=\"font-size: 14px\">\n",
    "             The Db2 GO driver includes a number of functions that provide connectivity to a database, as well as the ability to run SQL and some other crap.\n",
    "        </div>\n",
    "        <div style=\"height: 25px\"><p style=\"font-size: 12px; text-align: right\">\n",
    "            <img style=\"display: inline-block;\"src=\"./media/clock.png\">&nbsp;5min\n",
    "        </div>  \n",
    "        <div style=\"height: 10px\"><p style=\"font-size: 12px; text-align: right\">\n",
    "             <a href=\"http://localhost:8888/notebooks/Db2_GO_API_Documentation.ipynb\">\n",
    "                 <img style=\"display: inline-block;\"src=\"./media/arrowblue.png\"></a>            \n",
    "        </div>            \n",
    "    </td>        \n",
    "</table>\n",
    "    <!-- Row 2 -->            \n",
    "<div style=\"font-family: 'IBM Plex Sans';\">\n",
    "<table style=\"float:left; width: 620px; height: 235px; border-spacing: 10px; border-collapse: separate; table-layout: fixed\">\n",
    "    <td style=\"padding: 15px; text-align:left; vertical-align: text-top; background-color:#F7F7F7; width: 300px; height: 250px;\">\n",
    "        <div style=\"height: 75px\"><p style=\"font-size: 24px\">\n",
    "<!-- Title -->\n",
    "Accessing Db2 in GO Applications\n",
    "        </div>\n",
    "        <div style=\"height: 120px\"><p style=\"font-size: 14px\">\n",
    "<!-- Abstract -->\n",
    "Macros are used to substitute text into SQL commands that you execute. This feature allows you to create macros that include commonly used SQL commands rather than having to type them in. \n",
    "        </div>\n",
    "        <div style=\"height: 25px\"><p style=\"font-size: 12px; text-align: right\">\n",
    "            <img style=\"display: inline-block;\"src=\"./media/clock.png\">&nbsp;\n",
    "<!-- Duration -->\n",
    "20min\n",
    "        </div>\n",
    "        <div style=\"height: 10px\"><p style=\"font-size: 12px; text-align: right\">\n",
    "             <a href=\"http://localhost:8888/notebooks/Db2_Jupyter_Macros.ipynb\">\n",
    "                 <img style=\"display: inline-block;\"src=\"./media/arrowblue.png\"></a>            \n",
    "        </div>        \n",
    "    </td>\n",
    "    <td style=\"padding: 15px; text-align:left; vertical-align: text-top; background-color:#FFFFFF; width: 300px; height: 250px;\">\n",
    "    </td>\n",
    "</table>\n",
    "</div>\n",
    "</div>"
   ]
  },
  {
   "cell_type": "markdown",
   "metadata": {},
   "source": [
    "Db2 Magic commands allow you to access Db2 within a Jupyter notebook without having to use the underlying Python database drivers. These notebooks take you through the basics of using the Db2 magic commands as well as more complex SQL examples."
   ]
  },
  {
   "cell_type": "markdown",
   "metadata": {},
   "source": [
    "<!-- Row 1 -->\n",
    "<div style=\"font-family: 'IBM Plex Sans';\">  \n",
    "<table style=\"float:left; width: 620px; height: 235px; border-spacing: 10px; border-collapse: separate; table-layout: fixed\">\n",
    "    <td style=\"padding: 15px; text-align:left; vertical-align: text-top; background-color:#F7F7F7; width: 300px; height: 250px;\">\n",
    "        <div style=\"height: 75px\"><p style=\"font-size: 24px\">\n",
    "<!-- Title -->\n",
    "An Introduction to Db2 Magic Commands\n",
    "        </div>\n",
    "        <div style=\"height: 120px\"><p style=\"font-size: 14px\">\n",
    "<!-- Description -->\n",
    "Magic commands are extensions to Jupyter notebooks that allow you issue commands to Db2 without knowing the underlying code required to do it. This notebook gives you an introduction to the use of the %sql magic command.\n",
    "        </div>\n",
    "        <div style=\"height: 25px\"><p style=\"font-size: 12px; text-align: right\">\n",
    "            <img style=\"display: inline-block;\"src=\"./media/clock.png\">&nbsp;\n",
    "<!-- Duration -->            \n",
    "10min\n",
    "        </div>\n",
    "        <div style=\"height: 10px\"><p style=\"font-size: 12px; text-align: right\">\n",
    "             <a href=\"http://localhost:8888/notebooks/Db2_Jupyter_Extensions_Tutorial.ipynb\">\n",
    "                 <img style=\"display: inline-block;\"src=\"./media/arrowblue.png\"></a>            \n",
    "        </div>        \n",
    "    </td>    \n",
    "    <td style=\"padding: 15px; text-align:left; vertical-align: text-top; background-color:#F7F7F7; width: 300px; height:250px\">\n",
    "        <div style=\"height: 75px\"><p style=\"font-size: 24px\">A Brief Introduction to Python</div>\n",
    "        <div style=\"height: 125px\"><p style=\"font-size: 14px\">\n",
    "             Jupyter notebooks are built upon a Python foundation, so this notebook will take your through the basics of \n",
    "             using Python.\n",
    "        </div>\n",
    "        <div style=\"height: 25px\"><p style=\"font-size: 12px; text-align: right\">\n",
    "            <img style=\"display: inline-block;\"src=\"./media/clock.png\">&nbsp;20min\n",
    "        </div>  \n",
    "        <div style=\"height: 10px\"><p style=\"font-size: 12px; text-align: right\">\n",
    "             <a href=\"http://localhost:8888/notebooks/An_Introduction_to_Python.ipynb\">\n",
    "                 <img style=\"display: inline-block;\"src=\"./media/arrowblue.png\"></a>            \n",
    "        </div>            \n",
    "    </td>\n",
    "    <td style=\"padding: 15px; text-align:left; vertical-align: text-top; background-color:#F7F7F7; width: 300px; height:250px\">\n",
    "        <div style=\"height: 75px\"><p style=\"font-size: 24px\">Db2 Python API Library and Examples</div>\n",
    "        <div style=\"height: 125px\"><p style=\"font-size: 14px\">\n",
    "             This link will take you to the Github repository which gives you detailed information on the Db2 Python driver along\n",
    "             with examples on how to use these functions.\n",
    "        </div>\n",
    "        <div style=\"height: 25px\"><p style=\"font-size: 12px; text-align: right\">\n",
    "            <img style=\"display: inline-block;\"src=\"./media/clock.png\">&nbsp;5min\n",
    "        </div>  \n",
    "        <div style=\"height: 10px\"><p style=\"font-size: 12px; text-align: right\">\n",
    "             <a href=\"https://github.com/IBM/db2-python\">\n",
    "                 <img style=\"display: inline-block;\"src=\"./media/arrowblue.png\"></a>            \n",
    "        </div>            \n",
    "    </td>  \n",
    "</table>\n",
    "</div>"
   ]
  },
  {
   "cell_type": "markdown",
   "metadata": {},
   "source": [
    "#### Questions and Comments: George Baklarz [baklarz@ca.ibm.com]"
   ]
  }
 ],
 "metadata": {
  "kernelspec": {
   "display_name": "Python 3",
   "language": "python",
   "name": "python3"
  },
  "language_info": {
   "codemirror_mode": {
    "name": "ipython",
    "version": 3
   },
   "file_extension": ".py",
   "mimetype": "text/x-python",
   "name": "python",
   "nbconvert_exporter": "python",
   "pygments_lexer": "ipython3",
   "version": "3.7.4"
  }
 },
 "nbformat": 4,
 "nbformat_minor": 2
}
