{
 "cells": [
  {
   "cell_type": "markdown",
   "metadata": {},
   "source": [
    "# An Introduction to the Go Language\n",
    "Go was designed at Google in 2007 to improve programming productivity in an era of multicore, networked machines and large codebases. The designers wanted to address criticism of other languages in use at Google, but keep their useful characteristics:\n",
    "\n",
    "* Static typing and run-time efficiency (like C++)\n",
    "* Readability and usability (like Python or JavaScript)\n",
    "* High-performance networking and multiprocessing\n",
    "\n",
    "The designers were primarily motivated by their shared dislike of C++.\n",
    "\n",
    "[Wikipedia: Go Programming Language](https://en.wikipedia.org/wiki/Go_(programming_language))"
   ]
  },
  {
   "cell_type": "markdown",
   "metadata": {},
   "source": [
    "## Table of Contents\n",
    "\n",
    "* [Introduction](#introduction)\n",
    "    * [Compiling and running a Go program](#compile)\n",
    "    * [A Go interpreter](#interpreter)\n",
    "    * [Running Go in a Jupyter notebook](#anotebook)\n",
    "\n",
    "* [Variables and data types](#variables)"
   ]
  },
  {
   "cell_type": "markdown",
   "metadata": {},
   "source": [
    "<a id='introduction'></a>\n",
    "# Introduction\n",
    "\n",
    "<a id='compile'></a>\n",
    "## Compiling and running a Go program\n",
    "This lab provides a basic introduction into the GO programming language. Below you see a simple *Hello World* program written in Go language. The file **hello.go** under directory **/home/db2pot/Labs** also contains that program code. \n"
   ]
  },
  {
   "cell_type": "markdown",
   "metadata": {},
   "source": [
    "```go\n",
    "package main\n",
    "import \"fmt\"\n",
    "func main() {\n",
    "    fmt.Println(\"Hello world\")\n",
    "}\n",
    "```"
   ]
  },
  {
   "cell_type": "markdown",
   "metadata": {},
   "source": [
    "Some explanation about that code. The **import** statement is used to import external functions. In this example we import package fmt which is part of the standard library that ships with Go. These packages contain many of the fundamental building blocks to write modern software. For instance, the *fmt* package contains basic functions for formatting and printing strings.\n",
    "\n",
    "The next three lines define **function main**. This functions calls function Println which is defined in package *fmt*. Notice that Println starts with an upper case P. If you want to use a function outside of the package where it is defined, the function name must start with an upper case character.\n",
    "\n",
    "The first line **package main** tells the Go compiler that file *hello.go* should compile as an executable program instead of a shared library. The main function in package main will be the entry point of the executable program. \n",
    "\n",
    "To execute this program, open a Linux shell and perform the following steps:\n",
    "* Go to the Labs directory:\n",
    "```\n",
    "> cd /home/db2pot/Labs\n",
    "```\n",
    "* Check the contents of the file *hello.go* with a text editor:\n",
    "```\n",
    "> gedit hello.go\n",
    "```\n",
    "* Compile the file to create an executable program file *hello*:\n",
    "```\n",
    "> go build hello.go\n",
    "```\n",
    "* Execute the program file *hello*:\n",
    "```\n",
    "> ./hello\n",
    "```"
   ]
  },
  {
   "cell_type": "markdown",
   "metadata": {},
   "source": [
    "<a id='interpreter'></a>\n",
    "## A Go interpreter\n",
    "\n",
    "Instead of compiling and running the program examples from a Linux shell, you can run them inside **gomacro**. This is an interactive Go interpreter. For example, run the following commands from a Linux shell:\n",
    "* Enter the Go interpreter (To exit the interpreter use Ctrl-d): \n",
    "```\n",
    "> gomacro\n",
    "```\n",
    "* Now you can type in Go program code line by line. For example:\n",
    "```\n",
    "> package main\n",
    "```\n",
    "* You see from the output that this line is ignored by the interpreter. This line only makes sense if it is part of a package file that is compiled into an executable program (see explanation in previous section). Next you can import package *fmt*:\n",
    "```\n",
    "> import \"fmt\"\n",
    "```\n",
    "* Now you can define function main:\n",
    "```\n",
    "> func main() { fmt.Println(\"Hello world\") }\n",
    "```\n",
    "* Notice that this code only defines function main, but does not execute it. Finally, you can execute function main:\n",
    "```\n",
    "> main()\n",
    "```\n",
    "\n",
    "The interpreter allows you to quickly test and modify your code. You can also quickly check the current values of variables. For example, run the following code to define a variable and initialize it with a value. The text behind the double slash is a program comment and is ignored by the interpreter:\n",
    "```\n",
    "> i := 5  // initialize a variable\n",
    "```\n",
    "To show the value of the variable just type the variable name and press the enter key:\n",
    "```\n",
    "> i\n",
    "```\n",
    "If you want to use any functions from external packages you have to first import those packages. \n",
    "For example:\n",
    "```\n",
    "> import \"time\"\n",
    "> time.Now()\n",
    "```"
   ]
  },
  {
   "cell_type": "markdown",
   "metadata": {},
   "source": [
    "<a id='anotebook'></a>\n",
    "## Running Go in a Jupyter notebook\n",
    "You can run the remaining part of this lab inside the Jypiter notebook you are currently looking at. The notebook uses a Go kernel that deploys the *gomacro* interpreter under covers.  \n",
    "  \n",
    "Click the program code below. Then click **Run**. The Run button is located in the toolbar above. Alternatively, you can use **Shift-Enter** to execute a selected code cell.\n"
   ]
  },
  {
   "cell_type": "code",
   "execution_count": null,
   "metadata": {},
   "outputs": [],
   "source": [
    "import \"fmt\"\n",
    "\n",
    "func main() {\n",
    "    fmt.Println(\"hello world\")\n",
    "}\n",
    "main()"
   ]
  },
  {
   "cell_type": "markdown",
   "metadata": {},
   "source": [
    "As with the Go interpreter, the order of executing code cells in notebooks is important. Make sure that you import or define functions before you execute them. For example, if you execute the following code it will cause an error message. This is because function *fib()* is not yet defined."
   ]
  },
  {
   "cell_type": "code",
   "execution_count": 4,
   "metadata": {},
   "outputs": [
    {
     "ename": "ERROR",
     "evalue": "repl.go:1:1: not enough arguments in call to fib:\n\thave ()\n\twant (int)",
     "output_type": "error",
     "traceback": [
      "repl.go:1:1: not enough arguments in call to fib:\n\thave ()\n\twant (int)"
     ]
    }
   ],
   "source": [
    "fib()"
   ]
  },
  {
   "cell_type": "markdown",
   "metadata": {},
   "source": [
    "Execute the following code to define function:"
   ]
  },
  {
   "cell_type": "code",
   "execution_count": 2,
   "metadata": {},
   "outputs": [],
   "source": [
    "func fib(n int) int {\n",
    "if n <= 2 { return 1 }\n",
    "return fib(n-1) + fib(n-2)\n",
    "}"
   ]
  },
  {
   "cell_type": "markdown",
   "metadata": {},
   "source": [
    "Now, you can execute the function and it should run without error:"
   ]
  },
  {
   "cell_type": "code",
   "execution_count": 3,
   "metadata": {},
   "outputs": [
    {
     "data": {
      "text/plain": [
       "5"
      ]
     },
     "execution_count": 3,
     "metadata": {},
     "output_type": "execute_result"
    }
   ],
   "source": [
    "fib(5)"
   ]
  },
  {
   "cell_type": "markdown",
   "metadata": {},
   "source": [
    "<a id='variables'></a>\n",
    "## Variables and data types\n",
    "\n",
    "The **var** statement declares a list of variables. It can be used inside and outside functions. \n",
    "If a variable is defined outside of a function it is accessible by all functions in the package."
   ]
  },
  {
   "cell_type": "code",
   "execution_count": 8,
   "metadata": {},
   "outputs": [
    {
     "name": "stdout",
     "output_type": "stream",
     "text": [
      "false false 0\n"
     ]
    }
   ],
   "source": [
    "import \"fmt\"\n",
    "var a, b bool\n",
    "func main() {\n",
    "    var c int\n",
    "    fmt.Println(a,b,c)\n",
    "}\n",
    "main()"
   ]
  },
  {
   "cell_type": "markdown",
   "metadata": {},
   "source": [
    "Notice that variables are implicitly initialized with a default value.\n",
    "A var declaration can also include initializers as shown below."
   ]
  },
  {
   "cell_type": "code",
   "execution_count": 9,
   "metadata": {},
   "outputs": [],
   "source": [
    "var a,b,c int = 1,2,3"
   ]
  },
  {
   "cell_type": "markdown",
   "metadata": {},
   "source": [
    "If an initializer is used, the type can be omitted and the variable will take the type of the initializer."
   ]
  },
  {
   "cell_type": "code",
   "execution_count": null,
   "metadata": {},
   "outputs": [],
   "source": [
    "var b = true"
   ]
  },
  {
   "cell_type": "markdown",
   "metadata": {},
   "source": [
    "You can also use a short form of initializing a variable like below where the *var* keyword is omitted."
   ]
  },
  {
   "cell_type": "code",
   "execution_count": 12,
   "metadata": {},
   "outputs": [],
   "source": [
    "b := true"
   ]
  },
  {
   "cell_type": "markdown",
   "metadata": {},
   "source": [
    "#### Credits: IBM 2019, Andreas Christian [achristian@de.ibm.com]"
   ]
  }
 ],
 "metadata": {
  "kernelspec": {
   "display_name": "Go",
   "language": "go",
   "name": "gophernotes"
  },
  "language_info": {
   "codemirror_mode": "",
   "file_extension": ".go",
   "mimetype": "",
   "name": "go",
   "nbconvert_exporter": "",
   "pygments_lexer": "",
   "version": "go1.13.4"
  }
 },
 "nbformat": 4,
 "nbformat_minor": 2
}
